{
 "cells": [
  {
   "cell_type": "markdown",
   "metadata": {},
   "source": [
    "## Spots that are always excluded:\n",
    "##### Test spots\n",
    "##### Spots marked as problematic\n",
    "##### Suscpicious for analysis == 'Yes' spots\n",
    "##### Fake Sale spots: This means that Reason for Cancelling Survey is any combination which contains 'Fake Sale'\n",
    "##### Spots whose start date was before 2018\n",
    "\n",
    "\n",
    "## CAN CANCEL:\n",
    "##### Spots which cancelled more than 2 months before their Available Cancellation Date are excluded\n",
    "##### Spots whose Available Cancellation Date is 2 or more months after the date of analysis\n",
    "##### Months during which spots couldn't have cancelled according to the above conditions\n",
    "\n",
    "## wo CB sets:\n",
    "##### Closed Business, Sold Business and Non-payment spots are excluded. This means Reason for Cancelling Survey is any combination which contains 'Closed Business', 'Closed/Sold Business', 'Sold Business', 'Sold/Closed Business' or 'Non-payment'\n",
    "## canc conf event\n",
    "##### Spots for which Date Cancellation Confirmed is more than 60 days after Date Cancellation Requested\n",
    "\n",
    "#### ---------------------------------------------------------------------------------------------------------------------------------------------------------------------------------"
   ]
  },
  {
   "cell_type": "code",
   "execution_count": null,
   "metadata": {},
   "outputs": [],
   "source": [
    "import pandas as pd\n",
    "import numpy as np\n",
    "import importlib\n",
    "import get_started_doing_something_variables\n",
    "import prepare_for_the_models\n",
    "import fit_tv_cox_models\n",
    "#import read_vars_for_separate_models_for_dependent_vars\n",
    "import read_a_combination_of_variables\n",
    "import yaml\n",
    "import warnings\n",
    "warnings.filterwarnings('ignore')\n",
    "from IPython.display import display, Markdown"
   ]
  },
  {
   "cell_type": "code",
   "execution_count": null,
   "metadata": {},
   "outputs": [],
   "source": [
    "# read the yaml file with a list of parameters needed for the report\n",
    "with open(r'./parameters/started_doing_something_report_parameters.yaml') as file:\n",
    "    parameters = yaml.load(file, Loader=yaml.FullLoader)\n",
    "\n",
    "date_of_analysis = parameters['date_of_analysis']\n",
    "date_dir = date_of_analysis.replace('-', '_')\n",
    "### name of the data directory ###\n",
    "churn_based_on_behaviour_dir = parameters['churn_based_on_behaviour_dir']\n",
    "### penalizer value when fitting the models ###\n",
    "penalizer = parameters['penalizer']\n",
    "### model type ###\n",
    "model_type = parameters['model_type']\n",
    "### coefficient and p values when dropping unsignificant variables ###\n",
    "coefficient_limit_for_numerical_vars = parameters['coefficient_limit_for_numerical_vars']\n",
    "coefficient_limit_for_cat_vars = parameters['coefficient_limit_for_cat_vars']\n",
    "p_limit = parameters['p_limit']\n",
    "additional_higher_p_limit = parameters['additional_higher_p_limit']\n",
    "additional_lower_p_limit = parameters['additional_lower_p_limit']\n",
    "\n",
    "# read the yaml file with data set parameters #\n",
    "# data_set_name = input('Data set name: ')\n",
    "data_set_name = 'ALL_spots_with_CB_cancellation_confirmed'\n",
    "with open(r'./parameters/data_sets.yaml') as file:\n",
    "    data_sets_parameters = yaml.load(file, Loader=yaml.FullLoader)\n",
    "    \n",
    "spots_set = data_sets_parameters[data_set_name]['spots_set']\n",
    "with_wo_CB = data_sets_parameters[data_set_name]['with_wo_CB']\n",
    "event_date_full_name = data_sets_parameters[data_set_name]['event_date_type']\n",
    "\n",
    "if with_wo_CB == 'with_CB':\n",
    "    with_wo_CB_boolean = True\n",
    "else:\n",
    "    with_wo_CB_boolean = False\n",
    "\n",
    "if event_date_full_name == 'cancellation_requested':\n",
    "    event_date = 'canc_req'\n",
    "elif event_date_full_name == 'cancellation_confirmed':\n",
    "    event_date = 'canc_conf'\n",
    "\n",
    "##### base columns ##### \n",
    "base_cols = ['spot_id',\\\n",
    "            'time',\\\n",
    "            'event']"
   ]
  },
  {
   "cell_type": "code",
   "execution_count": null,
   "metadata": {},
   "outputs": [],
   "source": [
    "##### Model 0: all variables - prepare data for the model ####\n",
    "# cols_to_use = read_vars_for_separate_models_for_dependent_vars.\\\n",
    "# main(model_number=0, dir_name='separate_models_for_dependent_variables/')\n",
    "cols_to_use = read_a_combination_of_variables.\\\n",
    "main(model_number=0, dir_name='combinations_of_variables_that_are_not_dependent/')\n",
    "#### get behavioural variables ####\n",
    "(variables_to_use_for_the_model, did_something_last_month_vars, did_something_before_and_didnt_last_month_vars) = \\\n",
    "get_started_doing_something_variables.main(date_of_analysis=date_of_analysis, variables_to_use_for_the_model=cols_to_use)\n",
    "cols = base_cols + variables_to_use_for_the_model + \\\n",
    "did_something_before_and_didnt_last_month_vars + did_something_last_month_vars\n",
    "\n",
    "\n",
    "#### get data for the model ###\n",
    "(data, base_df, df_timeline_all_vars) = \\\n",
    "prepare_for_the_models.get_data_for_the_MV_Cox_model(date_of_analysis=date_of_analysis, spots_set=spots_set, \\\n",
    "                            with_wo_CB=with_wo_CB, event_date=event_date, columns=cols, data_dir=churn_based_on_behaviour_dir,\\\n",
    "                            C = 100)\n",
    "    \n",
    "model_numbers = \\\n",
    "read_a_combination_of_variables.get_a_list_of_model_numbers(dir_name='combinations_of_variables_that_are_not_dependent/')\n",
    "\n",
    "\n",
    "## save the initial set of all variables - dependent ones included ##\n",
    "original_cols = [x for x in df_timeline_all_vars.columns.tolist() if x not in ['spot_id', 'event', 'start', 'stop']]"
   ]
  },
  {
   "cell_type": "code",
   "execution_count": null,
   "metadata": {},
   "outputs": [],
   "source": [
    "number_of_models = len(model_numbers[1:])\n",
    "(all_models_summaries, all_models_names, conditions_described) = \\\n",
    "fit_tv_cox_models.\\\n",
    "fit_all_models_and_get_all_summaries(number_of_models=number_of_models, model_numbers=model_numbers, \\\n",
    "                                     date_of_analysis=date_of_analysis, churn_based_on_behaviour_dir=churn_based_on_behaviour_dir,\\\n",
    "                                     spots_set=spots_set, with_wo_CB=with_wo_CB, event_date_full_name=event_date_full_name, \\\n",
    "                                     df_timeline_all_vars=df_timeline_all_vars, base_cols=base_cols, base_df=base_df, \\\n",
    "                                     model_type=model_type, coefficient_limit_for_numerical_vars=coefficient_limit_for_numerical_vars,\\\n",
    "                                     coefficient_limit_for_cat_vars=coefficient_limit_for_cat_vars, p_limit=p_limit,\\\n",
    "                                     additional_higher_p_limit=additional_higher_p_limit, additional_lower_p_limit=additional_lower_p_limit, \\\n",
    "                                     penalizer=penalizer)"
   ]
  },
  {
   "cell_type": "code",
   "execution_count": null,
   "metadata": {},
   "outputs": [],
   "source": [
    "### calculate average coefficients and p values for each variable ###\n",
    "summary_cols = ['variable', 'coef - AVERAGE', 'exp(coef) - AVERAGE', 'p value - AVERAGE']\n",
    "final_summaries = []\n",
    "all_conditions_described = []\n",
    "summary_cols = ['variable', 'coef - AVERAGE', 'exp(coef) - AVERAGE', 'p value - AVERAGE']\n",
    "final_summaries = []\n",
    "for key in all_models_summaries.keys():\n",
    "    all_conditions_described.append(conditions_described[key])\n",
    "    final_summary = pd.DataFrame(columns=summary_cols)\n",
    "    final_summary['variable'] = original_cols\n",
    "    final_summary.set_index('variable', inplace = True)\n",
    "    \n",
    "    all_coef_for_each_var = dict.fromkeys(original_cols)\n",
    "    all_exp_coef_for_each_var = dict.fromkeys(original_cols)\n",
    "    all_p_value_for_each_var = dict.fromkeys(original_cols)\n",
    "\n",
    "    for col in original_cols:\n",
    "        all_coef_for_each_var[col] = []\n",
    "        all_exp_coef_for_each_var[col] = []\n",
    "        all_p_value_for_each_var[col] = []\n",
    "        \n",
    "    for var_ in original_cols:\n",
    "        for summary_ in all_models_summaries[key]:\n",
    "            if var_ in summary_.index.unique():\n",
    "                all_coef_for_each_var[var_].append(summary_.loc[var_, 'coef'])\n",
    "                all_exp_coef_for_each_var[var_].append(summary_.loc[var_, 'exp(coef)'])\n",
    "                all_p_value_for_each_var[var_].append(summary_.loc[var_, 'p'])\n",
    "        final_summary.loc[var_, 'coef - AVERAGE'] = round(np.mean(np.array(all_coef_for_each_var[var_])), 3)\n",
    "        final_summary.loc[var_, 'exp(coef) - AVERAGE'] = round(np.mean(np.array(all_exp_coef_for_each_var[var_])), 3)\n",
    "        final_summary.loc[var_, 'p value - AVERAGE'] = round(np.mean(np.array(all_p_value_for_each_var[var_])), 3)\n",
    "        \n",
    "    final_summary.drop(final_summary[final_summary['coef - AVERAGE'].isnull()].index, inplace = True)\n",
    "    #display(final_summary)\n",
    "    final_summaries.append(final_summary)"
   ]
  },
  {
   "cell_type": "markdown",
   "metadata": {},
   "source": [
    "# Average coefficients and p values for all combinations of variables - sorted by p value"
   ]
  },
  {
   "cell_type": "code",
   "execution_count": null,
   "metadata": {},
   "outputs": [],
   "source": [
    "pd.set_option('display.max_rows', 500)\n",
    "for i in range(0, len(final_summaries)):\n",
    "    display(Markdown(\"## \"+all_conditions_described[i]))\n",
    "    display(final_summaries[i].sort_values('p value - AVERAGE'))"
   ]
  },
  {
   "cell_type": "markdown",
   "metadata": {},
   "source": [
    "# Average coefficients and p values for all combinations of variables - sorted by variable name"
   ]
  },
  {
   "cell_type": "code",
   "execution_count": null,
   "metadata": {},
   "outputs": [],
   "source": [
    "for i in range(0, len(final_summaries)):\n",
    "    display(Markdown(\"## \"+all_conditions_described[i]))\n",
    "    display(final_summaries[i].sort_index())"
   ]
  }
 ],
 "metadata": {
  "kernelspec": {
   "display_name": "Python 3",
   "language": "python",
   "name": "python3"
  },
  "language_info": {
   "codemirror_mode": {
    "name": "ipython",
    "version": 3
   },
   "file_extension": ".py",
   "mimetype": "text/x-python",
   "name": "python",
   "nbconvert_exporter": "python",
   "pygments_lexer": "ipython3",
   "version": "3.6.1"
  }
 },
 "nbformat": 4,
 "nbformat_minor": 4
}

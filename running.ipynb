{
 "cells": [
  {
   "cell_type": "code",
   "execution_count": 1,
   "metadata": {},
   "outputs": [
    {
     "name": "stdout",
     "output_type": "stream",
     "text": [
      "Testing different combinations for period_to_look_at, threshold values? (Yes/No): No\n",
      "churn_analysis_based_on_behaviour/data/2023_02_01/estimated_number_of_months_and_threshold_values.csv\n",
      "Posts.on.facebook.total\n",
      "Changed.picture.or.text.total\n",
      "Posts.disliked.total\n",
      "Posts.liked.total\n",
      "Posts.seen.total\n",
      "Flyer.posts.on.facebook.total\n",
      "Preview.page.views.facebook.total\n",
      "Preview.page.views.email.total\n",
      "Preview.page.views.twitter.total\n",
      "Number.of.requests.for.new.text.fragment.total\n",
      "Text.fragment.suggestion.applied.total\n",
      "private.parties.submissions.total\n",
      "Consumer.job.listings.inquiry.total\n",
      "catering.submissions.total\n",
      "Online.orders.total\n",
      "reservations.submissions.total\n",
      "QR.code.menu.scans.total\n",
      "QR.code.flyer.scans.total\n",
      "Clicked.emails.total\n",
      "Opened.rewarding.stats.emails\n",
      "tickets.total\n",
      "Added.events.manually.Edited.events.total\n",
      "Added.food.Edited.food.total\n",
      "Added.specials.Edited.specials.total\n",
      "Emails.sent.manually.Scheduled.emails.sent.total\n",
      "Visited.admin.total\n",
      "Visited.events.page.total\n",
      "Visited.food.page.total\n",
      "Visited.inquiries.pages.total\n",
      "Visited.special.page.total\n",
      "Visited.stats.page.total\n",
      "Downloaded.regular.flyers.total\n",
      "Downloaded.qrcode.flyers.total\n",
      "Visited.regular.flyers.page.total\n",
      "Visited.qrcode.flyers.page.total\n",
      "Incentive.downloads\n",
      "Bday.club.downloads\n",
      "feedback.submissions.total\n",
      "R.Changed.inquiry.status.total\n",
      "C.Changed.inquiry.status.total\n",
      "PP.Changed.inquiry.status.total\n",
      "O.Changed.inquiry.status.total\n",
      "JL.Changed.inquiry.status.total\n",
      "0\n",
      "private.parties.submissions.total\n"
     ]
    },
    {
     "name": "stderr",
     "output_type": "stream",
     "text": [
      "/home/urqwan/workspace/spot_hopper/SpotHopperAI_novi/churn_analiza_Dec_2022/churn_analysis_based_on_behaviour/calculate_behavioural_variables.py:370: PerformanceWarning: DataFrame is highly fragmented.  This is usually the result of calling `frame.insert` many times, which has poor performance.  Consider joining all columns at once using pd.concat(axis=1) instead. To get a de-fragmented frame, use `newframe = frame.copy()`\n",
      "  df.loc[(df['left_limit']>=df[first_month_spot_did_something_vars[var_]]), did_something_before_vars[var_]] = 1\n",
      "/home/urqwan/workspace/spot_hopper/SpotHopperAI_novi/churn_analiza_Dec_2022/churn_analysis_based_on_behaviour/calculate_behavioural_variables.py:370: PerformanceWarning: DataFrame is highly fragmented.  This is usually the result of calling `frame.insert` many times, which has poor performance.  Consider joining all columns at once using pd.concat(axis=1) instead. To get a de-fragmented frame, use `newframe = frame.copy()`\n",
      "  df.loc[(df['left_limit']>=df[first_month_spot_did_something_vars[var_]]), did_something_before_vars[var_]] = 1\n"
     ]
    },
    {
     "name": "stdout",
     "output_type": "stream",
     "text": [
      "0\n",
      "reservations.submissions.total\n",
      "1\n",
      "reservations.submissions.total\n"
     ]
    },
    {
     "name": "stderr",
     "output_type": "stream",
     "text": [
      "/home/urqwan/workspace/spot_hopper/SpotHopperAI_novi/churn_analiza_Dec_2022/churn_analysis_based_on_behaviour/calculate_behavioural_variables.py:370: PerformanceWarning: DataFrame is highly fragmented.  This is usually the result of calling `frame.insert` many times, which has poor performance.  Consider joining all columns at once using pd.concat(axis=1) instead. To get a de-fragmented frame, use `newframe = frame.copy()`\n",
      "  df.loc[(df['left_limit']>=df[first_month_spot_did_something_vars[var_]]), did_something_before_vars[var_]] = 1\n",
      "/home/urqwan/workspace/spot_hopper/SpotHopperAI_novi/churn_analiza_Dec_2022/churn_analysis_based_on_behaviour/calculate_behavioural_variables.py:370: PerformanceWarning: DataFrame is highly fragmented.  This is usually the result of calling `frame.insert` many times, which has poor performance.  Consider joining all columns at once using pd.concat(axis=1) instead. To get a de-fragmented frame, use `newframe = frame.copy()`\n",
      "  df.loc[(df['left_limit']>=df[first_month_spot_did_something_vars[var_]]), did_something_before_vars[var_]] = 1\n",
      "/home/urqwan/workspace/spot_hopper/SpotHopperAI_novi/churn_analiza_Dec_2022/churn_analysis_based_on_behaviour/calculate_behavioural_variables.py:370: PerformanceWarning: DataFrame is highly fragmented.  This is usually the result of calling `frame.insert` many times, which has poor performance.  Consider joining all columns at once using pd.concat(axis=1) instead. To get a de-fragmented frame, use `newframe = frame.copy()`\n",
      "  df.loc[(df['left_limit']>=df[first_month_spot_did_something_vars[var_]]), did_something_before_vars[var_]] = 1\n",
      "/home/urqwan/workspace/spot_hopper/SpotHopperAI_novi/churn_analiza_Dec_2022/churn_analysis_based_on_behaviour/calculate_behavioural_variables.py:370: PerformanceWarning: DataFrame is highly fragmented.  This is usually the result of calling `frame.insert` many times, which has poor performance.  Consider joining all columns at once using pd.concat(axis=1) instead. To get a de-fragmented frame, use `newframe = frame.copy()`\n",
      "  df.loc[(df['left_limit']>=df[first_month_spot_did_something_vars[var_]]), did_something_before_vars[var_]] = 1\n",
      "/home/urqwan/workspace/spot_hopper/SpotHopperAI_novi/churn_analiza_Dec_2022/churn_analysis_based_on_behaviour/calculate_behavioural_variables.py:370: PerformanceWarning: DataFrame is highly fragmented.  This is usually the result of calling `frame.insert` many times, which has poor performance.  Consider joining all columns at once using pd.concat(axis=1) instead. To get a de-fragmented frame, use `newframe = frame.copy()`\n",
      "  df.loc[(df['left_limit']>=df[first_month_spot_did_something_vars[var_]]), did_something_before_vars[var_]] = 1\n",
      "/home/urqwan/workspace/spot_hopper/SpotHopperAI_novi/churn_analiza_Dec_2022/churn_analysis_based_on_behaviour/calculate_behavioural_variables.py:370: PerformanceWarning: DataFrame is highly fragmented.  This is usually the result of calling `frame.insert` many times, which has poor performance.  Consider joining all columns at once using pd.concat(axis=1) instead. To get a de-fragmented frame, use `newframe = frame.copy()`\n",
      "  df.loc[(df['left_limit']>=df[first_month_spot_did_something_vars[var_]]), did_something_before_vars[var_]] = 1\n",
      "/home/urqwan/workspace/spot_hopper/SpotHopperAI_novi/churn_analiza_Dec_2022/churn_analysis_based_on_behaviour/calculate_behavioural_variables.py:370: PerformanceWarning: DataFrame is highly fragmented.  This is usually the result of calling `frame.insert` many times, which has poor performance.  Consider joining all columns at once using pd.concat(axis=1) instead. To get a de-fragmented frame, use `newframe = frame.copy()`\n",
      "  df.loc[(df['left_limit']>=df[first_month_spot_did_something_vars[var_]]), did_something_before_vars[var_]] = 1\n",
      "/home/urqwan/workspace/spot_hopper/SpotHopperAI_novi/churn_analiza_Dec_2022/churn_analysis_based_on_behaviour/calculate_behavioural_variables.py:370: PerformanceWarning: DataFrame is highly fragmented.  This is usually the result of calling `frame.insert` many times, which has poor performance.  Consider joining all columns at once using pd.concat(axis=1) instead. To get a de-fragmented frame, use `newframe = frame.copy()`\n",
      "  df.loc[(df['left_limit']>=df[first_month_spot_did_something_vars[var_]]), did_something_before_vars[var_]] = 1\n",
      "/home/urqwan/workspace/spot_hopper/SpotHopperAI_novi/churn_analiza_Dec_2022/churn_analysis_based_on_behaviour/calculate_behavioural_variables.py:370: PerformanceWarning: DataFrame is highly fragmented.  This is usually the result of calling `frame.insert` many times, which has poor performance.  Consider joining all columns at once using pd.concat(axis=1) instead. To get a de-fragmented frame, use `newframe = frame.copy()`\n",
      "  df.loc[(df['left_limit']>=df[first_month_spot_did_something_vars[var_]]), did_something_before_vars[var_]] = 1\n",
      "/home/urqwan/workspace/spot_hopper/SpotHopperAI_novi/churn_analiza_Dec_2022/churn_analysis_based_on_behaviour/calculate_behavioural_variables.py:370: PerformanceWarning: DataFrame is highly fragmented.  This is usually the result of calling `frame.insert` many times, which has poor performance.  Consider joining all columns at once using pd.concat(axis=1) instead. To get a de-fragmented frame, use `newframe = frame.copy()`\n",
      "  df.loc[(df['left_limit']>=df[first_month_spot_did_something_vars[var_]]), did_something_before_vars[var_]] = 1\n",
      "/home/urqwan/workspace/spot_hopper/SpotHopperAI_novi/churn_analiza_Dec_2022/churn_analysis_based_on_behaviour/calculate_behavioural_variables.py:370: PerformanceWarning: DataFrame is highly fragmented.  This is usually the result of calling `frame.insert` many times, which has poor performance.  Consider joining all columns at once using pd.concat(axis=1) instead. To get a de-fragmented frame, use `newframe = frame.copy()`\n",
      "  df.loc[(df['left_limit']>=df[first_month_spot_did_something_vars[var_]]), did_something_before_vars[var_]] = 1\n",
      "/home/urqwan/workspace/spot_hopper/SpotHopperAI_novi/churn_analiza_Dec_2022/churn_analysis_based_on_behaviour/calculate_behavioural_variables.py:370: PerformanceWarning: DataFrame is highly fragmented.  This is usually the result of calling `frame.insert` many times, which has poor performance.  Consider joining all columns at once using pd.concat(axis=1) instead. To get a de-fragmented frame, use `newframe = frame.copy()`\n",
      "  df.loc[(df['left_limit']>=df[first_month_spot_did_something_vars[var_]]), did_something_before_vars[var_]] = 1\n",
      "/home/urqwan/workspace/spot_hopper/SpotHopperAI_novi/churn_analiza_Dec_2022/churn_analysis_based_on_behaviour/calculate_behavioural_variables.py:370: PerformanceWarning: DataFrame is highly fragmented.  This is usually the result of calling `frame.insert` many times, which has poor performance.  Consider joining all columns at once using pd.concat(axis=1) instead. To get a de-fragmented frame, use `newframe = frame.copy()`\n",
      "  df.loc[(df['left_limit']>=df[first_month_spot_did_something_vars[var_]]), did_something_before_vars[var_]] = 1\n",
      "/home/urqwan/workspace/spot_hopper/SpotHopperAI_novi/churn_analiza_Dec_2022/churn_analysis_based_on_behaviour/calculate_behavioural_variables.py:370: PerformanceWarning: DataFrame is highly fragmented.  This is usually the result of calling `frame.insert` many times, which has poor performance.  Consider joining all columns at once using pd.concat(axis=1) instead. To get a de-fragmented frame, use `newframe = frame.copy()`\n",
      "  df.loc[(df['left_limit']>=df[first_month_spot_did_something_vars[var_]]), did_something_before_vars[var_]] = 1\n",
      "/home/urqwan/workspace/spot_hopper/SpotHopperAI_novi/churn_analiza_Dec_2022/churn_analysis_based_on_behaviour/calculate_behavioural_variables.py:370: PerformanceWarning: DataFrame is highly fragmented.  This is usually the result of calling `frame.insert` many times, which has poor performance.  Consider joining all columns at once using pd.concat(axis=1) instead. To get a de-fragmented frame, use `newframe = frame.copy()`\n",
      "  df.loc[(df['left_limit']>=df[first_month_spot_did_something_vars[var_]]), did_something_before_vars[var_]] = 1\n",
      "/home/urqwan/workspace/spot_hopper/SpotHopperAI_novi/churn_analiza_Dec_2022/churn_analysis_based_on_behaviour/calculate_behavioural_variables.py:370: PerformanceWarning: DataFrame is highly fragmented.  This is usually the result of calling `frame.insert` many times, which has poor performance.  Consider joining all columns at once using pd.concat(axis=1) instead. To get a de-fragmented frame, use `newframe = frame.copy()`\n",
      "  df.loc[(df['left_limit']>=df[first_month_spot_did_something_vars[var_]]), did_something_before_vars[var_]] = 1\n"
     ]
    },
    {
     "name": "stderr",
     "output_type": "stream",
     "text": [
      "/home/urqwan/workspace/spot_hopper/SpotHopperAI_novi/churn_analiza_Dec_2022/churn_analysis_based_on_behaviour/calculate_behavioural_variables.py:370: PerformanceWarning: DataFrame is highly fragmented.  This is usually the result of calling `frame.insert` many times, which has poor performance.  Consider joining all columns at once using pd.concat(axis=1) instead. To get a de-fragmented frame, use `newframe = frame.copy()`\n",
      "  df.loc[(df['left_limit']>=df[first_month_spot_did_something_vars[var_]]), did_something_before_vars[var_]] = 1\n",
      "/home/urqwan/workspace/spot_hopper/SpotHopperAI_novi/churn_analiza_Dec_2022/churn_analysis_based_on_behaviour/calculate_behavioural_variables.py:370: PerformanceWarning: DataFrame is highly fragmented.  This is usually the result of calling `frame.insert` many times, which has poor performance.  Consider joining all columns at once using pd.concat(axis=1) instead. To get a de-fragmented frame, use `newframe = frame.copy()`\n",
      "  df.loc[(df['left_limit']>=df[first_month_spot_did_something_vars[var_]]), did_something_before_vars[var_]] = 1\n",
      "/home/urqwan/workspace/spot_hopper/SpotHopperAI_novi/churn_analiza_Dec_2022/churn_analysis_based_on_behaviour/calculate_behavioural_variables.py:370: PerformanceWarning: DataFrame is highly fragmented.  This is usually the result of calling `frame.insert` many times, which has poor performance.  Consider joining all columns at once using pd.concat(axis=1) instead. To get a de-fragmented frame, use `newframe = frame.copy()`\n",
      "  df.loc[(df['left_limit']>=df[first_month_spot_did_something_vars[var_]]), did_something_before_vars[var_]] = 1\n",
      "/home/urqwan/workspace/spot_hopper/SpotHopperAI_novi/churn_analiza_Dec_2022/churn_analysis_based_on_behaviour/calculate_behavioural_variables.py:370: PerformanceWarning: DataFrame is highly fragmented.  This is usually the result of calling `frame.insert` many times, which has poor performance.  Consider joining all columns at once using pd.concat(axis=1) instead. To get a de-fragmented frame, use `newframe = frame.copy()`\n",
      "  df.loc[(df['left_limit']>=df[first_month_spot_did_something_vars[var_]]), did_something_before_vars[var_]] = 1\n",
      "/home/urqwan/workspace/spot_hopper/SpotHopperAI_novi/churn_analiza_Dec_2022/churn_analysis_based_on_behaviour/calculate_behavioural_variables.py:370: PerformanceWarning: DataFrame is highly fragmented.  This is usually the result of calling `frame.insert` many times, which has poor performance.  Consider joining all columns at once using pd.concat(axis=1) instead. To get a de-fragmented frame, use `newframe = frame.copy()`\n",
      "  df.loc[(df['left_limit']>=df[first_month_spot_did_something_vars[var_]]), did_something_before_vars[var_]] = 1\n",
      "/home/urqwan/workspace/spot_hopper/SpotHopperAI_novi/churn_analiza_Dec_2022/churn_analysis_based_on_behaviour/calculate_behavioural_variables.py:370: PerformanceWarning: DataFrame is highly fragmented.  This is usually the result of calling `frame.insert` many times, which has poor performance.  Consider joining all columns at once using pd.concat(axis=1) instead. To get a de-fragmented frame, use `newframe = frame.copy()`\n",
      "  df.loc[(df['left_limit']>=df[first_month_spot_did_something_vars[var_]]), did_something_before_vars[var_]] = 1\n"
     ]
    },
    {
     "name": "stdout",
     "output_type": "stream",
     "text": [
      "R.Changed.inquiry.status.total\n"
     ]
    },
    {
     "name": "stderr",
     "output_type": "stream",
     "text": [
      "/home/urqwan/workspace/spot_hopper/SpotHopperAI_novi/churn_analiza_Dec_2022/churn_analysis_based_on_behaviour/calculate_behavioural_variables.py:258: PerformanceWarning: DataFrame is highly fragmented.  This is usually the result of calling `frame.insert` many times, which has poor performance.  Consider joining all columns at once using pd.concat(axis=1) instead. To get a de-fragmented frame, use `newframe = frame.copy()`\n",
      "  df.loc[(df['left_limit']>=df[first_month_spot_did_something_vars[var_]]), did_something_before_vars[var_]] = 1\n"
     ]
    },
    {
     "name": "stdout",
     "output_type": "stream",
     "text": [
      "0\n",
      "R.Changed.inquiry.status.total\n",
      "1\n",
      "R.Changed.inquiry.status.total\n",
      "C.Changed.inquiry.status.total\n"
     ]
    },
    {
     "name": "stderr",
     "output_type": "stream",
     "text": [
      "/home/urqwan/workspace/spot_hopper/SpotHopperAI_novi/churn_analiza_Dec_2022/churn_analysis_based_on_behaviour/calculate_behavioural_variables.py:258: PerformanceWarning: DataFrame is highly fragmented.  This is usually the result of calling `frame.insert` many times, which has poor performance.  Consider joining all columns at once using pd.concat(axis=1) instead. To get a de-fragmented frame, use `newframe = frame.copy()`\n",
      "  df.loc[(df['left_limit']>=df[first_month_spot_did_something_vars[var_]]), did_something_before_vars[var_]] = 1\n"
     ]
    },
    {
     "name": "stdout",
     "output_type": "stream",
     "text": [
      "PP.Changed.inquiry.status.total\n"
     ]
    },
    {
     "name": "stderr",
     "output_type": "stream",
     "text": [
      "/home/urqwan/workspace/spot_hopper/SpotHopperAI_novi/churn_analiza_Dec_2022/churn_analysis_based_on_behaviour/calculate_behavioural_variables.py:258: PerformanceWarning: DataFrame is highly fragmented.  This is usually the result of calling `frame.insert` many times, which has poor performance.  Consider joining all columns at once using pd.concat(axis=1) instead. To get a de-fragmented frame, use `newframe = frame.copy()`\n",
      "  df.loc[(df['left_limit']>=df[first_month_spot_did_something_vars[var_]]), did_something_before_vars[var_]] = 1\n"
     ]
    },
    {
     "name": "stdout",
     "output_type": "stream",
     "text": [
      "0\n",
      "PP.Changed.inquiry.status.total\n",
      "O.Changed.inquiry.status.total\n"
     ]
    },
    {
     "name": "stderr",
     "output_type": "stream",
     "text": [
      "/home/urqwan/workspace/spot_hopper/SpotHopperAI_novi/churn_analiza_Dec_2022/churn_analysis_based_on_behaviour/calculate_behavioural_variables.py:258: PerformanceWarning: DataFrame is highly fragmented.  This is usually the result of calling `frame.insert` many times, which has poor performance.  Consider joining all columns at once using pd.concat(axis=1) instead. To get a de-fragmented frame, use `newframe = frame.copy()`\n",
      "  df.loc[(df['left_limit']>=df[first_month_spot_did_something_vars[var_]]), did_something_before_vars[var_]] = 1\n"
     ]
    },
    {
     "name": "stdout",
     "output_type": "stream",
     "text": [
      "JL.Changed.inquiry.status.total\n"
     ]
    },
    {
     "name": "stderr",
     "output_type": "stream",
     "text": [
      "/home/urqwan/workspace/spot_hopper/SpotHopperAI_novi/churn_analiza_Dec_2022/churn_analysis_based_on_behaviour/calculate_behavioural_variables.py:258: PerformanceWarning: DataFrame is highly fragmented.  This is usually the result of calling `frame.insert` many times, which has poor performance.  Consider joining all columns at once using pd.concat(axis=1) instead. To get a de-fragmented frame, use `newframe = frame.copy()`\n",
      "  df.loc[(df['left_limit']>=df[first_month_spot_did_something_vars[var_]]), did_something_before_vars[var_]] = 1\n"
     ]
    },
    {
     "name": "stdout",
     "output_type": "stream",
     "text": [
      "Are the data frames the same lenght before and after corrections?\n",
      "YES!\n",
      "Are all variables with different did something before variables among admin variables of interest?\n",
      "YES!\n",
      "Are all new values for the did something before variables 1?\n",
      "YES!\n",
      "Do all dependent variables for last X months have lower number of months than the variable of interest?\n",
      "NO!!!\n",
      "Are all new values for did something last X months 1?\n",
      "YES!\n",
      "Are there any cases where did something last X months = 1 and did something before = 0?\n",
      "NO!\n",
      "Are there any cases where did something before and didnt last X months = 1 and did something before = 0?\n",
      "NO!\n",
      "Are all variables with different did something before and didnt last X months values among variables of interest?\n",
      "YES!\n",
      "Are there any records where there is a different did something before and didnt last month variable and all others are the same?\n",
      "NO!\n",
      "Are there any records where did something before = 1 and did something last X months = 0 in the first month the before var becomes 1?\n",
      "NO!\n",
      "Are there any records where the did_something_before is 1 and the other 2 are both 0?\n",
      "NO!\n",
      "Value counts for new vars for records where there is a different did something before and didnt last X months value: \n",
      "Preview.page.views.facebook.total\n",
      "8983\n",
      "did something last X months: \n",
      "1    4843\n",
      "0    4140\n",
      "Name: had_preview_page_views_facebook_last_4_months, dtype: int64\n",
      "did something before and didnt last X months: \n",
      "0    4843\n",
      "1    4140\n",
      "Name: had_preview_page_views_facebook_before_and_didnt_last_4_months, dtype: int64\n",
      "Visited.admin.total\n",
      "604\n",
      "did something last X months: \n",
      "0    600\n",
      "1      4\n",
      "Name: had_visited_admin_last_2_months, dtype: int64\n",
      "did something before and didnt last X months: \n",
      "1    600\n",
      "0      4\n",
      "Name: had_visited_admin_before_and_didnt_last_2_months, dtype: int64\n",
      "Visited.food.page.total\n",
      "1229\n",
      "did something last X months: \n",
      "1    917\n",
      "0    312\n",
      "Name: had_visited_food_page_last_4_months, dtype: int64\n",
      "did something before and didnt last X months: \n",
      "0    917\n",
      "1    312\n",
      "Name: had_visited_food_page_before_and_didnt_last_4_months, dtype: int64\n",
      "Visited.special.page.total\n",
      "332\n",
      "did something last X months: \n",
      "0    332\n",
      "Name: had_visited_special_page_last_4_months, dtype: int64\n",
      "did something before and didnt last X months: \n",
      "1    332\n",
      "Name: had_visited_special_page_before_and_didnt_last_4_months, dtype: int64\n",
      "Visited.regular.flyers.page.total\n",
      "43\n",
      "did something last X months: \n",
      "0    43\n",
      "Name: had_visited_regular_flyers_page_last_4_months, dtype: int64\n",
      "did something before and didnt last X months: \n",
      "1    43\n",
      "Name: had_visited_regular_flyers_page_before_and_didnt_last_4_months, dtype: int64\n",
      "Visited.qrcode.flyers.page.total\n",
      "333\n",
      "did something last X months: \n",
      "0    333\n",
      "Name: had_visited_qrcode_flyers_page_last_4_months, dtype: int64\n",
      "did something before and didnt last X months: \n",
      "1    333\n",
      "Name: had_visited_qrcode_flyers_page_before_and_didnt_last_4_months, dtype: int64\n",
      "*****************\n",
      "OK!\n",
      "*****************\n"
     ]
    }
   ],
   "source": [
    "import calculate_behavioural_variables\n",
    "import behavioural_vars_stats\n",
    "import yaml\n",
    "\n",
    "with open(r'./parameters/started_doing_something_report_parameters.yaml') as file:\n",
    "    model_params = yaml.load(file, Loader=yaml.FullLoader)\n",
    "\n",
    "date_of_analysis = model_params['date_of_analysis']\n",
    "date_dir = date_of_analysis.replace('-', '_')\n",
    "\n",
    "period_to_look_at_thresholds_filename = 'estimated_number_of_months_and_threshold_values.csv'\n",
    "vars_periods_to_look_at_thresholds_to_use_filename = 'vars_periods_to_look_at_thresholds_to_use.csv'\n",
    "data_tv_filename = 'data_tv_with_maybe_problematic_spots_all_original.csv'\n",
    "testing_diff_parameters = input('Testing different combinations for period_to_look_at, threshold values? (Yes/No): ')\n",
    "if testing_diff_parameters=='Yes':\n",
    "    testing_diff_parameters = True\n",
    "else:\n",
    "    testing_diff_parameters = False\n",
    "\n",
    "dir_to_use = ''\n",
    "\n",
    "df = calculate_behavioural_variables.main(date_of_analysis=date_of_analysis, dir_to_use=dir_to_use, period_to_look_at_thresholds_filename=period_to_look_at_thresholds_filename, \\\n",
    "     data_tv_filename=data_tv_filename, \\\n",
    "     vars_periods_to_look_at_thresholds_to_use_filename=vars_periods_to_look_at_thresholds_to_use_filename,\\\n",
    "    testing_diff_parameters=False)\n",
    "\n",
    "export = behavioural_vars_stats.main(date_of_analysis=date_of_analysis, dir_to_use=dir_to_use, \\\n",
    "     data_tv_filename=data_tv_filename, \\\n",
    "     vars_periods_to_look_at_thresholds_to_use_filename=vars_periods_to_look_at_thresholds_to_use_filename,\\\n",
    "     testing_diff_parameters=testing_diff_parameters)\n",
    "\n",
    "import behavioural_variables_sanity_checks\n",
    "behavioural_variables_sanity_checks.main(date_of_analysis=date_of_analysis)"
   ]
  },
  {
   "cell_type": "code",
   "execution_count": 2,
   "metadata": {},
   "outputs": [
    {
     "data": {
      "text/plain": [
       "'spothopper-analytics-kiza'"
      ]
     },
     "execution_count": 2,
     "metadata": {},
     "output_type": "execute_result"
    }
   ],
   "source": [
    "from helpers import settings\n",
    "settings.S3_ANALYTICS_BUCKET"
   ]
  },
  {
   "cell_type": "code",
   "execution_count": 3,
   "metadata": {},
   "outputs": [
    {
     "name": "stdout",
     "output_type": "stream",
     "text": [
      "\u001b[0m\u001b[01;34mcovid_period_analysis\u001b[0m/  \u001b[01;34mexports\u001b[0m/\r\n"
     ]
    }
   ],
   "source": [
    "ls data/2023_01_01/"
   ]
  },
  {
   "cell_type": "code",
   "execution_count": null,
   "metadata": {},
   "outputs": [],
   "source": []
  }
 ],
 "metadata": {
  "kernelspec": {
   "display_name": "Python 3 (ipykernel)",
   "language": "python",
   "name": "python3"
  },
  "language_info": {
   "codemirror_mode": {
    "name": "ipython",
    "version": 3
   },
   "file_extension": ".py",
   "mimetype": "text/x-python",
   "name": "python",
   "nbconvert_exporter": "python",
   "pygments_lexer": "ipython3",
   "version": "3.10.6"
  }
 },
 "nbformat": 4,
 "nbformat_minor": 4
}

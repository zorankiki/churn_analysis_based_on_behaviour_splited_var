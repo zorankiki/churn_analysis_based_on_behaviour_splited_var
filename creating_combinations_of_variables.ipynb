{
 "cells": [
  {
   "cell_type": "code",
   "execution_count": 1,
   "metadata": {},
   "outputs": [
    {
     "name": "stdout",
     "output_type": "stream",
     "text": [
      "before dropping duplicates\n",
      "len(all_possible_variables_combinations): 72\n",
      "after dropping duplicates\n",
      "len(main_vars_and_their_combinations): 45\n"
     ]
    }
   ],
   "source": [
    "import create_combinations_of_variables\n",
    "create_combinations_of_variables.main()"
   ]
  }
 ],
 "metadata": {
  "kernelspec": {
   "display_name": "Python 3 (ipykernel)",
   "language": "python",
   "name": "python3"
  },
  "language_info": {
   "codemirror_mode": {
    "name": "ipython",
    "version": 3
   },
   "file_extension": ".py",
   "mimetype": "text/x-python",
   "name": "python",
   "nbconvert_exporter": "python",
   "pygments_lexer": "ipython3",
   "version": "3.10.6"
  }
 },
 "nbformat": 4,
 "nbformat_minor": 4
}

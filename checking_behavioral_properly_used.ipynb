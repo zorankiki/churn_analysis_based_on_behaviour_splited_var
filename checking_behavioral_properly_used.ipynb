{
 "cells": [
  {
   "cell_type": "code",
   "execution_count": 1,
   "id": "283d5968",
   "metadata": {},
   "outputs": [],
   "source": [
    "import pandas as pd"
   ]
  },
  {
   "cell_type": "code",
   "execution_count": 2,
   "id": "2a49ae4d",
   "metadata": {},
   "outputs": [
    {
     "name": "stderr",
     "output_type": "stream",
     "text": [
      "/tmp/ipykernel_334911/3028530612.py:1: DtypeWarning: Columns (10,163,164,180) have mixed types. Specify dtype option on import or set low_memory=False.\n",
      "  df = pd.read_csv('/home/urqwan/Downloads/data_tv_ALL_spots_with_CB_wo_151617.csv')\n"
     ]
    }
   ],
   "source": [
    "df = pd.read_csv('/home/urqwan/Downloads/data_tv_ALL_spots_with_CB_wo_151617.csv')"
   ]
  },
  {
   "cell_type": "code",
   "execution_count": 3,
   "id": "6b8804b6",
   "metadata": {},
   "outputs": [],
   "source": [
    "df_test = df[['spot_id', 'limits', 'premium_service_hs', 'maybe_problematic', \n",
    "              'time', \n",
    "              'had_properly_used_private_parties_inquiries_before_and_didnt_last_3_months', \n",
    "              'had_properly_used_private_parties_inquiries_before', \n",
    "              'had_properly_used_private_parties_inquiries_last_3_months', \n",
    "              'had_private_parties_and_didnt_manage_them_last_3months', \n",
    "              'had_private_parties_and_managed_them_last_3months', \n",
    "              'had_private_parties_submissions_last_3_months', 'private.parties.submissions.total']]"
   ]
  },
  {
   "cell_type": "code",
   "execution_count": 4,
   "id": "721c12fd",
   "metadata": {},
   "outputs": [],
   "source": [
    "df_final = df_test[(df_test['premium_service_hs']) & \n",
    "        (df_test['limits']==\"('2023-01-01', '2023-02-01')\")]"
   ]
  },
  {
   "cell_type": "code",
   "execution_count": 5,
   "id": "3890c34d",
   "metadata": {},
   "outputs": [],
   "source": [
    "df_shiki = \\\n",
    "df_final[['spot_id', 'had_properly_used_private_parties_inquiries_last_3_months', \n",
    "          'had_private_parties_submissions_last_3_months']]"
   ]
  },
  {
   "cell_type": "code",
   "execution_count": 14,
   "id": "1ef5750e",
   "metadata": {},
   "outputs": [],
   "source": [
    "df_shiki.to_csv('/home/urqwan/Downloads/all_last_3_months.csv', index=False)"
   ]
  },
  {
   "cell_type": "code",
   "execution_count": 11,
   "id": "f21e48aa",
   "metadata": {},
   "outputs": [],
   "source": [
    "df_shiki[(df_shiki['had_properly_used_private_parties_inquiries_last_3_months']==1) & \\\n",
    "         (df_shiki['had_private_parties_submissions_last_3_months']==1)]\\\n",
    ".to_csv('/home/urqwan/Downloads/have_pp_sub_and_properly_use_them_last_3_months.csv', index=False)"
   ]
  },
  {
   "cell_type": "code",
   "execution_count": 12,
   "id": "88ad26c6",
   "metadata": {},
   "outputs": [],
   "source": [
    "df_shiki[(df_shiki['had_properly_used_private_parties_inquiries_last_3_months']==0) & \\\n",
    "         (df_shiki['had_private_parties_submissions_last_3_months']==1)]\\\n",
    ".to_csv('/home/urqwan/Downloads/have_pp_sub_and_do_not_properly_use_them_last_3_months.csv', index=False)"
   ]
  },
  {
   "cell_type": "code",
   "execution_count": 13,
   "id": "342de783",
   "metadata": {},
   "outputs": [],
   "source": [
    "df_shiki[(df_shiki['had_properly_used_private_parties_inquiries_last_3_months']==0) & \\\n",
    "         (df_shiki['had_private_parties_submissions_last_3_months']==0)]\\\n",
    ".to_csv('/home/urqwan/Downloads/do_not_have_pp_sub_and_do_not_properly_use_them_last_3_months.csv', index=False)"
   ]
  },
  {
   "cell_type": "code",
   "execution_count": null,
   "id": "15088fda",
   "metadata": {},
   "outputs": [],
   "source": []
  }
 ],
 "metadata": {
  "kernelspec": {
   "display_name": "Python 3 (ipykernel)",
   "language": "python",
   "name": "python3"
  },
  "language_info": {
   "codemirror_mode": {
    "name": "ipython",
    "version": 3
   },
   "file_extension": ".py",
   "mimetype": "text/x-python",
   "name": "python",
   "nbconvert_exporter": "python",
   "pygments_lexer": "ipython3",
   "version": "3.10.6"
  }
 },
 "nbformat": 4,
 "nbformat_minor": 5
}

{
 "cells": [
  {
   "cell_type": "code",
   "execution_count": 1,
   "metadata": {},
   "outputs": [
    {
     "name": "stdout",
     "output_type": "stream",
     "text": [
      "significant_variables_from_both_cases.csv\n",
      "not_significant_variables_with_p_below_0_2_both_cases.csv\n"
     ]
    }
   ],
   "source": [
    "import pandas as pd\n",
    "import numpy as np\n",
    "import yaml\n",
    "\n",
    "with open(r'./parameters/started_doing_something_report_parameters.yaml') as file:\n",
    "    model_params = yaml.load(file, Loader=yaml.FullLoader)\n",
    "\n",
    "date_of_analysis = model_params['date_of_analysis']\n",
    "date_dir = date_of_analysis.replace('-', '_')\n",
    "\n",
    "for file_name in ['all_significant_variables_sorted_by_variable_name.csv', \\\n",
    "                  'not_significant_variables_with_p_below_0_2_sorted_by_variable_name.csv']:\n",
    "    if 'significant' in file_name and 'below_0_2' not in file_name:\n",
    "        export_file_name = 'significant_variables_from_both_cases.csv'\n",
    "    elif 'below_0_2' in file_name:\n",
    "        export_file_name = 'not_significant_variables_with_p_below_0_2_both_cases.csv'\n",
    "    started_doing_something = \\\n",
    "    pd.read_csv('data/'+date_dir+'/exports/started_doing_something/'+file_name)\n",
    "    stopped_doing_something = \\\n",
    "    pd.read_csv('data/'+date_dir+'/exports/stopped_doing_something/'+file_name)\n",
    "    \n",
    "    started_doing_something['model'] = 'started_doing_something'\n",
    "    stopped_doing_something['model'] = 'stopped_doing_something'\n",
    "\n",
    "    all_important_vars = pd.concat([started_doing_something, stopped_doing_something]).\\\n",
    "    drop_duplicates()\n",
    "    all_important_vars.sort_values('variable').\\\n",
    "    to_csv('data/'+date_dir+'/exports/'+export_file_name, index = False)\n",
    "    print(export_file_name)\n",
    "    \n",
    "significant_vars = pd.read_csv('data/'+date_dir+'/exports/significant_variables_from_both_cases.csv')\n",
    "not_significant_with_p_below_0_2 = \\\n",
    "pd.read_csv('data/'+date_dir+'/exports/not_significant_variables_with_p_below_0_2_both_cases.csv')\n",
    "## drop those that are among significant (from a different case but it's the same variable) ##\n",
    "not_significant_with_p_below_0_2.drop(not_significant_with_p_below_0_2[not_significant_with_p_below_0_2['variable'].\\\n",
    "                                isin(significant_vars['variable'])].index, inplace = True)\n",
    "not_significant_with_p_below_0_2.to_csv('data/'+date_dir+'/exports/not_significant_variables_with_p_below_0_2_both_cases.csv',\\\n",
    "                                       index = False)\n",
    "\n",
    "all_important_variables = pd.concat([significant_vars, not_significant_with_p_below_0_2])\n",
    "all_important_variables.sort_values('variable', inplace = True)\n",
    "all_important_variables.reset_index(drop = True, inplace = True)\n",
    "\n",
    "all_important_variables['group'] = np.nan\n",
    "all_important_variables.loc[(all_important_variables['variable'].\\\n",
    "                            isin(significant_vars['variable'])), 'group'] = 'significant_variables'\n",
    "all_important_variables.loc[(all_important_variables['variable'].\\\n",
    "                            isin(not_significant_with_p_below_0_2['variable'])), 'group'] = \\\n",
    "'not_significant_variables_but_with_p_below_0.2'\n",
    "all_important_variables.\\\n",
    "to_csv('data/'+date_dir+'/exports/all_important_variables_from_both_cases.csv', index = False)"
   ]
  },
  {
   "cell_type": "code",
   "execution_count": 2,
   "metadata": {},
   "outputs": [
    {
     "data": {
      "text/plain": [
       "'2023_02_01'"
      ]
     },
     "execution_count": 2,
     "metadata": {},
     "output_type": "execute_result"
    }
   ],
   "source": [
    "date_dir"
   ]
  }
 ],
 "metadata": {
  "kernelspec": {
   "display_name": "Python 3 (ipykernel)",
   "language": "python",
   "name": "python3"
  },
  "language_info": {
   "codemirror_mode": {
    "name": "ipython",
    "version": 3
   },
   "file_extension": ".py",
   "mimetype": "text/x-python",
   "name": "python",
   "nbconvert_exporter": "python",
   "pygments_lexer": "ipython3",
   "version": "3.10.6"
  }
 },
 "nbformat": 4,
 "nbformat_minor": 4
}

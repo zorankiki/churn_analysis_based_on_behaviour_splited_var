{
 "cells": [
  {
   "cell_type": "code",
   "execution_count": null,
   "metadata": {},
   "outputs": [],
   "source": [
    "import pandas as pd"
   ]
  },
  {
   "cell_type": "code",
   "execution_count": null,
   "metadata": {},
   "outputs": [],
   "source": [
    "def get_min(x):\n",
    "    \n",
    "    to_compare = []\n",
    "    if x['data_tv_ALL_spots_with_CB_5']==x['data_tv_ALL_spots_with_CB_5']:\n",
    "        to_compare.append(float(x['data_tv_ALL_spots_with_CB_5'].split(', ')[1].split(')')[0]))\n",
    "    if x['data_tv_ALL_spots_with_CB_6']==x['data_tv_ALL_spots_with_CB_6']:\n",
    "        to_compare.append(float(x['data_tv_ALL_spots_with_CB_6'].split(', ')[1].split(')')[0]))\n",
    "    if x['data_tv_ALL_spots_with_CB_7']==x['data_tv_ALL_spots_with_CB_7']:\n",
    "        to_compare.append(float(x['data_tv_ALL_spots_with_CB_7'].split(', ')[1].split(')')[0]))\n",
    "    if x['data_tv_ALL_spots_with_CB_8']==x['data_tv_ALL_spots_with_CB_8']:\n",
    "        to_compare.append(float(x['data_tv_ALL_spots_with_CB_8'].split(', ')[1].split(')')[0]))\n",
    "        \n",
    "#     print(to_compare)\n",
    "    min_el = to_compare[0]\n",
    "    min_el_idx = 0\n",
    "    for i in range(1, len(to_compare)):\n",
    "        if to_compare[i]<=min_el:\n",
    "            min_el = to_compare[i]\n",
    "            min_el_idx = i\n",
    "            \n",
    "    return min_el_idx"
   ]
  },
  {
   "cell_type": "code",
   "execution_count": null,
   "metadata": {},
   "outputs": [],
   "source": [
    "cases = [6, 7, 8]"
   ]
  },
  {
   "cell_type": "code",
   "execution_count": null,
   "metadata": {},
   "outputs": [],
   "source": [
    "less_than_20_comp = pd.read_csv('data/2022_01_01/testing_different_period_to_look_at_threshold_values/exports/20_perc_or_less_spots_resumed_'+\\\n",
    "            str(5)+'.csv')\n",
    "more_than_20_comp = pd.read_csv('data/2022_01_01/testing_different_period_to_look_at_threshold_values/exports/more_than_20_perc_spots_resumed_'+\\\n",
    "                          str(5)+'.csv')\n",
    "\n",
    "less_than_20_comp.rename(columns = {'Unnamed: 0':'variable',\\\n",
    "                                   'data_tv_ALL_spots_with_CB':'data_tv_ALL_spots_with_CB_5'}, inplace = True)\n",
    "more_than_20_comp.rename(columns = {'Unnamed: 0':'variable',\\\n",
    "                                   'data_tv_ALL_spots_with_CB':'data_tv_ALL_spots_with_CB_5'}, inplace = True)"
   ]
  },
  {
   "cell_type": "code",
   "execution_count": null,
   "metadata": {},
   "outputs": [],
   "source": [
    "for case in cases:\n",
    "    less_than_20 = pd.read_csv('data/2022_01_01/testing_different_period_to_look_at_threshold_values/exports/20_perc_or_less_spots_resumed_'+\\\n",
    "            str(case)+'.csv')\n",
    "    more_than_20 = pd.read_csv('data/2022_01_01/testing_different_period_to_look_at_threshold_values/exports/more_than_20_perc_spots_resumed_'+\\\n",
    "                          str(case)+'.csv')\n",
    "    \n",
    "    less_than_20.rename(columns = {'Unnamed: 0':'variable',\\\n",
    "                                   'data_tv_ALL_spots_with_CB':'data_tv_ALL_spots_with_CB_'+str(case)}, inplace = True)\n",
    "    more_than_20.rename(columns = {'Unnamed: 0':'variable',\\\n",
    "                                   'data_tv_ALL_spots_with_CB':'data_tv_ALL_spots_with_CB_'+str(case)}, inplace = True)\n",
    "    \n",
    "    less_than_20_comp = less_than_20_comp.merge(less_than_20,\\\n",
    "                                               on = ['variable'], how = 'outer')\n",
    "    more_than_20_comp = more_than_20_comp.merge(more_than_20,\\\n",
    "                                               on = ['variable'], how = 'outer')"
   ]
  },
  {
   "cell_type": "code",
   "execution_count": null,
   "metadata": {},
   "outputs": [],
   "source": [
    "less_than_20_comp"
   ]
  },
  {
   "cell_type": "code",
   "execution_count": null,
   "metadata": {},
   "outputs": [],
   "source": [
    "more_than_20_comp['case'] = more_than_20_comp[['data_tv_ALL_spots_with_CB_5',\\\n",
    "                 'data_tv_ALL_spots_with_CB_6',\\\n",
    "                 'data_tv_ALL_spots_with_CB_7',\\\n",
    "                'data_tv_ALL_spots_with_CB_8']].apply(lambda x: get_min(x), axis = 1)"
   ]
  },
  {
   "cell_type": "code",
   "execution_count": null,
   "metadata": {},
   "outputs": [],
   "source": [
    "more_than_20_comp['case'].value_counts()"
   ]
  }
 ],
 "metadata": {
  "kernelspec": {
   "display_name": "Python 3",
   "language": "python",
   "name": "python3"
  },
  "language_info": {
   "codemirror_mode": {
    "name": "ipython",
    "version": 3
   },
   "file_extension": ".py",
   "mimetype": "text/x-python",
   "name": "python",
   "nbconvert_exporter": "python",
   "pygments_lexer": "ipython3",
   "version": "3.6.1"
  }
 },
 "nbformat": 4,
 "nbformat_minor": 4
}

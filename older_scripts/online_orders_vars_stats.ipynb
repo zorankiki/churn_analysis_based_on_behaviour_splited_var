{
 "cells": [
  {
   "cell_type": "code",
   "execution_count": 1,
   "metadata": {},
   "outputs": [
    {
     "name": "stdout",
     "output_type": "stream",
     "text": [
      "Date of analysis: 2021-12-01\n"
     ]
    }
   ],
   "source": [
    "import pandas as pd\n",
    "import numpy as np\n",
    "\n",
    "#### Helpers ####\n",
    "import os\n",
    "import sys\n",
    "sys.path.insert(0, os.path.abspath('../'))\n",
    "from helpers.s3_bucket_utils import S3BucketUtils\n",
    "from helpers import db_utils\n",
    "from helpers import settings\n",
    "\n",
    "bucket = S3BucketUtils()\n",
    "################\n",
    "\n",
    "date_of_analysis = input('Date of analysis: ')\n",
    "date_dir = date_of_analysis.replace('-', '_')"
   ]
  },
  {
   "cell_type": "code",
   "execution_count": 2,
   "metadata": {},
   "outputs": [],
   "source": [
    "data_sets = ['data_tv_ALL_spots_with_CB_wo_151617.csv',\\\n",
    "             'data_tv_ALL_spots_wo_CB_wo_151617.csv',\\\n",
    "             'data_tv_CAN_CANCEL_spots_with_CB_wo_151617.csv',\\\n",
    "             'data_tv_CAN_CANCEL_spots_wo_CB_wo_151617.csv']"
   ]
  },
  {
   "cell_type": "code",
   "execution_count": 3,
   "metadata": {},
   "outputs": [],
   "source": [
    "def get_months_with_properly_using_oos_perc(spot):\n",
    "    num_of_months_with_oos = len(spot[spot['had_online_orders_last_month']==1])\n",
    "    num_of_months_with_properly_using_oos = len(spot[spot['had_properly_used_online_orders_inquiries_last_month']==1])\n",
    "    if num_of_months_with_oos>0:\n",
    "        months_with_properly_using_oos_perc = \\\n",
    "    round(100*(num_of_months_with_properly_using_oos/num_of_months_with_oos), 2)\n",
    "    else:\n",
    "        return np.nan\n",
    "    \n",
    "    return months_with_properly_using_oos_perc"
   ]
  },
  {
   "cell_type": "code",
   "execution_count": 4,
   "metadata": {},
   "outputs": [],
   "source": [
    "export = pd.DataFrame(index = [x.split('_wo_151617')[0] for x in data_sets],\\\n",
    "                     columns = ['had_online_orders_before',\\\n",
    "                               'had_online_orders_last_month',\\\n",
    "                               'had_online_orders_before_and_didnt_last_month',\\\n",
    "                               'had_properly_used_online_orders_before',\\\n",
    "                               'had_properly_used_online_orders_last_month',\\\n",
    "                               'had_properly_used_online_orders_before_and_didnt_last_month',\\\n",
    "                               'had_online_orders_but_stopped_properly_using_them',\\\n",
    "                               'months_with_properly_using_online_orders_on_average_%'])"
   ]
  },
  {
   "cell_type": "code",
   "execution_count": 5,
   "metadata": {},
   "outputs": [],
   "source": [
    "for filename in [x.split('_wo_151617')[0] for x in data_sets]:\n",
    "    df = \\\n",
    "    bucket.load_csv_from_s3(file_name='churn_analysis_based_on_behaviour/data/'+date_dir+'/'+filename+'_wo_151617.csv')\n",
    "\n",
    "    had_online_orders_before = df[df['had_online_orders_before']>0]['spot_id'].unique()\n",
    "    had_online_orders_last_month = df[df['had_online_orders_last_month']>0]['spot_id'].unique()\n",
    "    had_online_orders_before_and_didnt_last_month = df[df['had_online_orders_before_and_didnt_last_month']>0]['spot_id'].unique()\n",
    "\n",
    "    had_properly_used_online_orders_before = \\\n",
    "    df[df['had_properly_used_online_orders_inquiries_before']>0]['spot_id'].unique()\n",
    "    had_properly_used_online_orders_last_month = \\\n",
    "    df[df['had_properly_used_online_orders_inquiries_last_month']>0]['spot_id'].unique()\n",
    "    had_properly_used_online_orders_before_and_didnt_last_month = \\\n",
    "    df[df['had_properly_used_online_orders_inquiries_before_and_didnt_last_month']>0]['spot_id'].unique()\n",
    "\n",
    "    had_online_orders_but_stopped_properly_using_them = \\\n",
    "    df[(df['had_properly_used_online_orders_inquiries_before_and_didnt_last_month']==1)&\\\n",
    "      (df['had_online_orders_last_month']==1)]['spot_id'].unique()\n",
    "\n",
    "    export.loc[filename, 'had_online_orders_before'] = len(had_online_orders_before)\n",
    "    export.loc[filename, 'had_online_orders_last_month'] = len(had_online_orders_last_month)\n",
    "    export.loc[filename, 'had_online_orders_before_and_didnt_last_month'] = \\\n",
    "    (len(had_online_orders_before_and_didnt_last_month), round(100*(len(had_online_orders_before_and_didnt_last_month)/len(had_online_orders_before)), 2))\n",
    "\n",
    "    export.loc[filename, 'had_properly_used_online_orders_before'] = \\\n",
    "    (len(had_properly_used_online_orders_before), round(100*(len(had_properly_used_online_orders_before)/len(had_online_orders_before)), 2))\n",
    "    export.loc[filename, 'had_properly_used_online_orders_last_month'] = \\\n",
    "    (len(had_properly_used_online_orders_last_month), round(100*(len(had_properly_used_online_orders_last_month)/len(had_online_orders_last_month)), 2))\n",
    "    export.loc[filename, 'had_properly_used_online_orders_before_and_didnt_last_month'] = \\\n",
    "    (len(had_properly_used_online_orders_before_and_didnt_last_month), round(100*(len(had_properly_used_online_orders_before_and_didnt_last_month)/len(had_properly_used_online_orders_before)), 2))\n",
    "\n",
    "    export.loc[filename, 'had_online_orders_but_stopped_properly_using_them'] = \\\n",
    "    (len(had_online_orders_but_stopped_properly_using_them), \\\n",
    "         round(100*(len(had_online_orders_but_stopped_properly_using_them)/len(had_properly_used_online_orders_before_and_didnt_last_month)), 2))\n",
    "    \n",
    "    df['months_with_properly_using_online_orders_perc'] = \\\n",
    "    df.groupby('spot_id').apply(lambda x: get_months_with_properly_using_oos_perc(spot = \\\n",
    "                                                                                 x[['had_online_orders_last_month',\\\n",
    "                                                                                   'had_properly_used_online_orders_inquiries_last_month']]))\n",
    "\n",
    "    export.loc[filename, 'months_with_properly_using_online_orders_on_average_%'] = \\\n",
    "    round(df[df['months_with_properly_using_online_orders_perc'].notnull()][['spot_id','months_with_properly_using_online_orders_perc']].\\\n",
    "    drop_duplicates()['months_with_properly_using_online_orders_perc'].mean(), 2)"
   ]
  },
  {
   "cell_type": "code",
   "execution_count": 8,
   "metadata": {},
   "outputs": [],
   "source": [
    "export.transpose().to_csv('data/'+date_dir+'/exports/had_OOs_vs_properly_used_OOs.csv')"
   ]
  }
 ],
 "metadata": {
  "kernelspec": {
   "display_name": "Python 3",
   "language": "python",
   "name": "python3"
  },
  "language_info": {
   "codemirror_mode": {
    "name": "ipython",
    "version": 3
   },
   "file_extension": ".py",
   "mimetype": "text/x-python",
   "name": "python",
   "nbconvert_exporter": "python",
   "pygments_lexer": "ipython3",
   "version": "3.6.1"
  }
 },
 "nbformat": 4,
 "nbformat_minor": 4
}

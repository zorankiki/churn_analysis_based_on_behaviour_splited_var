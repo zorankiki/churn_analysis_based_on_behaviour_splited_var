{
 "cells": [
  {
   "cell_type": "code",
   "execution_count": 1,
   "metadata": {},
   "outputs": [
    {
     "name": "stdout",
     "output_type": "stream",
     "text": [
      "Date of analysis: 2021-12-01\n"
     ]
    }
   ],
   "source": [
    "import pandas as pd\n",
    "import numpy as np\n",
    "\n",
    "#### Helpers ####\n",
    "import os\n",
    "import sys\n",
    "sys.path.insert(0, os.path.abspath('../'))\n",
    "from helpers.s3_bucket_utils import S3BucketUtils\n",
    "from helpers import db_utils\n",
    "from helpers import settings\n",
    "\n",
    "bucket = S3BucketUtils()\n",
    "################\n",
    "\n",
    "date_of_analysis = input('Date of analysis: ')\n",
    "date_dir = date_of_analysis.replace('-', '_')"
   ]
  },
  {
   "cell_type": "code",
   "execution_count": 2,
   "metadata": {},
   "outputs": [],
   "source": [
    "data_sets = ['data_tv_ALL_spots_with_CB_wo_151617.csv',\\\n",
    "             'data_tv_ALL_spots_wo_CB_wo_151617.csv',\\\n",
    "             'data_tv_CAN_CANCEL_spots_with_CB_wo_151617.csv',\\\n",
    "             'data_tv_CAN_CANCEL_spots_wo_CB_wo_151617.csv']"
   ]
  },
  {
   "cell_type": "code",
   "execution_count": 3,
   "metadata": {},
   "outputs": [],
   "source": [
    "def get_months_with_properly_using_pps_perc(spot):\n",
    "    num_of_months_with_pps = len(spot[spot['had_private_parties_submissions_last_2_months']==1])\n",
    "    num_of_months_with_properly_using_pps = len(spot[spot['had_properly_used_private_parties_inquiries_last_2_months']==1])\n",
    "    if num_of_months_with_pps>0:\n",
    "        months_with_properly_using_pps_perc = \\\n",
    "    round(100*(num_of_months_with_properly_using_pps/num_of_months_with_pps), 2)\n",
    "    else:\n",
    "        return np.nan\n",
    "    \n",
    "    return months_with_properly_using_pps_perc"
   ]
  },
  {
   "cell_type": "code",
   "execution_count": 4,
   "metadata": {},
   "outputs": [],
   "source": [
    "had_inquiries_var = 'had_private_parties_submissions_last_2_months'\n",
    "had_inquiries_and_stopped_var = 'had_private_parties_submissions_before_and_didnt_last_2_months'\n",
    "properly_used_inquiries_var = 'had_properly_used_private_parties_inquiries_last_2_months'\n",
    "properly_used_inquiries_and_stopped_var = 'had_properly_used_private_parties_inquiries_before_and_didnt_last_2_months'"
   ]
  },
  {
   "cell_type": "code",
   "execution_count": 5,
   "metadata": {},
   "outputs": [],
   "source": [
    "export = pd.DataFrame(index = [x.split('_wo_151617')[0] for x in data_sets],\\\n",
    "                     columns = ['had_pps_before',\\\n",
    "                               'had_pps_last_2_months',\\\n",
    "                               'had_pps_before_and_didnt_last_2_months',\\\n",
    "                               'had_pps_before_stopped_and_resumed',\\\n",
    "                               'had_properly_used_pps_before',\\\n",
    "                               'had_properly_used_pps_last_2_months',\\\n",
    "                               'had_properly_used_pps_before_and_didnt_last_2_months',\\\n",
    "                               'had_properly_used_pps_before_stopped_and_resumed',\\\n",
    "                               'had_pps_but_stopped_properly_using_them',\\\n",
    "                               'months_with_properly_using_pps_on_average_%'])"
   ]
  },
  {
   "cell_type": "code",
   "execution_count": 6,
   "metadata": {},
   "outputs": [],
   "source": [
    "for filename in [x.split('_wo_151617')[0] for x in data_sets]:\n",
    "    df = \\\n",
    "    bucket.load_csv_from_s3(file_name='churn_analysis_based_on_behaviour/data/'+date_dir+'/'+filename+'_wo_151617.csv')\n",
    "    \n",
    "    df = df.merge(df[df[had_inquiries_var]==1].groupby('spot_id')['left_limit'].max().\\\n",
    "    reset_index().rename(columns = {'left_limit':had_inquiries_var+'_last_month'}),\\\n",
    "             on = 'spot_id', how = 'left')\n",
    "\n",
    "    df = df.merge(df[df[properly_used_inquiries_var]==1].groupby('spot_id')['left_limit'].max().\\\n",
    "    reset_index().rename(columns = {'left_limit':properly_used_inquiries_var+'_last_month'}),\\\n",
    "             on = 'spot_id', how = 'left')\n",
    "\n",
    "    df = df.merge(df[df[had_inquiries_and_stopped_var]==1].groupby('spot_id')['left_limit'].min().\\\n",
    "    reset_index().rename(columns = {'left_limit':had_inquiries_and_stopped_var+'_first_month'}),\\\n",
    "                  on = 'spot_id', how = 'left')\n",
    "\n",
    "    df = df.merge(df[df[properly_used_inquiries_and_stopped_var]==1].groupby('spot_id')['left_limit'].min().\\\n",
    "    reset_index().rename(columns = {'left_limit':properly_used_inquiries_and_stopped_var+'_first_month'}),\\\n",
    "                  on = 'spot_id', how = 'left')\n",
    "\n",
    "    had_pps_before = df[df['had_private_parties_submissions_before']>0]['spot_id'].unique()\n",
    "    had_pps_last_2_months = df[df['had_private_parties_submissions_last_2_months']>0]['spot_id'].unique()\n",
    "    had_pps_before_and_didnt_last_2_months = df[df['had_private_parties_submissions_before_and_didnt_last_2_months']>0]['spot_id'].unique()\n",
    "\n",
    "    had_properly_used_pps_before = df[df['had_properly_used_private_parties_inquiries_before']>0]['spot_id'].unique()\n",
    "    had_properly_used_pps_last_2_months = df[df['had_properly_used_private_parties_inquiries_last_2_months']>0]['spot_id'].unique()\n",
    "    had_properly_used_pps_before_and_didnt_last_2_months = \\\n",
    "    df[df['had_properly_used_private_parties_inquiries_before_and_didnt_last_2_months']>0]['spot_id'].unique()\n",
    "\n",
    "    had_pps_but_stopped_properly_using_them = \\\n",
    "    df[(df['had_properly_used_private_parties_inquiries_before_and_didnt_last_2_months']==1)&\\\n",
    "      (df['had_private_parties_submissions_last_2_months']==1)]['spot_id'].unique()\n",
    "    \n",
    "    had_properly_used_pps_before_stopped_and_resumed = \\\n",
    "    df[(df[properly_used_inquiries_var+'_last_month']>df[properly_used_inquiries_and_stopped_var+'_first_month'])]['spot_id'].nunique()\n",
    "    \n",
    "    had_pps_before_stopped_and_resumed = \\\n",
    "    df[(df[had_inquiries_var+'_last_month']>df[had_inquiries_and_stopped_var+'_first_month'])]['spot_id'].nunique()\n",
    "    \n",
    "\n",
    "    export.loc[filename, 'had_pps_before'] = len(had_pps_before)\n",
    "    export.loc[filename, 'had_pps_last_2_months'] = len(had_pps_last_2_months)\n",
    "    export.loc[filename, 'had_pps_before_and_didnt_last_2_months'] = \\\n",
    "    (len(had_pps_before_and_didnt_last_2_months), round(100*(len(had_pps_before_and_didnt_last_2_months)/len(had_pps_before)), 2))\n",
    "\n",
    "    export.loc[filename, 'had_properly_used_pps_before'] = \\\n",
    "    (len(had_properly_used_pps_before), round(100*(len(had_properly_used_pps_before)/len(had_pps_before)), 2))\n",
    "    export.loc[filename, 'had_properly_used_pps_last_2_months'] = \\\n",
    "    (len(had_properly_used_pps_last_2_months), round(100*(len(had_properly_used_pps_last_2_months)/len(had_pps_last_2_months)), 2))\n",
    "    export.loc[filename, 'had_properly_used_pps_before_and_didnt_last_2_months'] = \\\n",
    "    (len(had_properly_used_pps_before_and_didnt_last_2_months), round(100*(len(had_properly_used_pps_before_and_didnt_last_2_months)/len(had_properly_used_pps_before)), 2))\n",
    "\n",
    "    export.loc[filename, 'had_pps_but_stopped_properly_using_them'] = \\\n",
    "    (len(had_pps_but_stopped_properly_using_them), \\\n",
    "         round(100*(len(had_pps_but_stopped_properly_using_them)/len(had_properly_used_pps_before_and_didnt_last_2_months)), 2))\n",
    "    \n",
    "    export.loc[filename, 'had_pps_before_stopped_and_resumed'] = \\\n",
    "    (had_pps_before_stopped_and_resumed, round(100*(had_pps_before_stopped_and_resumed/len(had_pps_before_and_didnt_last_2_months)), 2))\n",
    "\n",
    "    export.loc[filename, 'had_properly_used_pps_before_stopped_and_resumed'] = \\\n",
    "    (had_properly_used_pps_before_stopped_and_resumed, round(100*(had_properly_used_pps_before_stopped_and_resumed/len(had_properly_used_pps_before_and_didnt_last_2_months)), 2))\n",
    "    \n",
    "    \n",
    "    df['months_with_properly_using_pps_perc'] = \\\n",
    "    df.groupby('spot_id').apply(lambda x: get_months_with_properly_using_pps_perc(spot = \\\n",
    "                                                                                 x[['had_private_parties_submissions_last_2_months',\\\n",
    "                                                                                   'had_properly_used_private_parties_inquiries_last_2_months']]))\n",
    "\n",
    "    export.loc[filename, 'months_with_properly_using_pps_on_average_%'] = \\\n",
    "    round(df[df['months_with_properly_using_pps_perc'].notnull()][['spot_id','months_with_properly_using_pps_perc']].\\\n",
    "    drop_duplicates()['months_with_properly_using_pps_perc'].mean(), 2)"
   ]
  },
  {
   "cell_type": "code",
   "execution_count": 7,
   "metadata": {},
   "outputs": [],
   "source": [
    "export.transpose().to_csv('data/'+date_dir+'/exports/had_PPs_vs_properly_used_PPs.csv')"
   ]
  }
 ],
 "metadata": {
  "kernelspec": {
   "display_name": "Python 3",
   "language": "python",
   "name": "python3"
  },
  "language_info": {
   "codemirror_mode": {
    "name": "ipython",
    "version": 3
   },
   "file_extension": ".py",
   "mimetype": "text/x-python",
   "name": "python",
   "nbconvert_exporter": "python",
   "pygments_lexer": "ipython3",
   "version": "3.6.1"
  }
 },
 "nbformat": 4,
 "nbformat_minor": 4
}

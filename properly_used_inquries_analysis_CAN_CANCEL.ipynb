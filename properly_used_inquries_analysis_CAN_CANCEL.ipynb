{
 "cells": [
  {
   "cell_type": "code",
   "execution_count": 1,
   "id": "86bbad6a",
   "metadata": {},
   "outputs": [],
   "source": [
    "## copy iz started_doing_something_MV_model_ALL_spots_with_CB_cancellation_requested_reports notbuka"
   ]
  },
  {
   "cell_type": "code",
   "execution_count": 2,
   "id": "85296978",
   "metadata": {},
   "outputs": [],
   "source": [
    "import pandas as pd\n",
    "import numpy as np\n",
    "from scipy import stats\n",
    "import math\n",
    "import importlib\n",
    "from dateutil.relativedelta import relativedelta\n",
    "import get_started_doing_something_variables\n",
    "import prepare_for_the_models\n",
    "import fit_tv_cox_models\n",
    "import read_a_combination_of_variables\n",
    "import yaml\n",
    "import warnings\n",
    "warnings.filterwarnings('ignore')\n",
    "from IPython.display import display, Markdown\n",
    "\n",
    "#### Helpers ####\n",
    "import os\n",
    "import sys\n",
    "sys.path.insert(0, os.path.abspath('../'))\n",
    "from helpers.s3_bucket_utils import S3BucketUtils\n",
    "from helpers import db_utils\n",
    "from helpers import settings\n",
    "\n",
    "bucket = S3BucketUtils()\n",
    "################\n",
    "\n",
    "import calculate_all_vars_for_churn_prediction\n",
    "import churn_risk_calculation_test\n",
    "import churn_risk_calculation\n",
    "import model_testing\n",
    "\n",
    "import re\n",
    "\n",
    "import models_to_be_fit"
   ]
  },
  {
   "cell_type": "code",
   "execution_count": 3,
   "id": "62ab2b8d",
   "metadata": {},
   "outputs": [
    {
     "data": {
      "text/plain": [
       "'spothopper-analytics-kiza'"
      ]
     },
     "execution_count": 3,
     "metadata": {},
     "output_type": "execute_result"
    }
   ],
   "source": [
    "settings.S3_ANALYTICS_BUCKET"
   ]
  },
  {
   "cell_type": "code",
   "execution_count": 4,
   "id": "4b789cb6",
   "metadata": {},
   "outputs": [],
   "source": [
    "# read the yaml file with a list of parameters needed for the report\n",
    "with open(r'./parameters/started_doing_something_report_parameters.yaml') as file:\n",
    "    parameters = yaml.load(file, Loader=yaml.FullLoader)\n",
    "\n",
    "date_of_analysis = parameters['date_of_analysis']\n",
    "date_dir = date_of_analysis.replace('-', '_')\n",
    "### name of the data directory ###\n",
    "churn_based_on_behaviour_dir = parameters['churn_based_on_behaviour_dir']\n",
    "hs_list_filename = parameters['hs_list_filename']\n",
    "hs_list_path = 'churn_analysis/data/'+date_dir+'/'+hs_list_filename\n",
    "\n",
    "prediction_months = parameters['prediction_months']\n",
    "### penalizer value when fitting the models ###\n",
    "penalizer = parameters['penalizer']\n",
    "### model type ###\n",
    "model_type = parameters['model_type']\n",
    "### coefficient and p values when dropping unsignificant variables ###\n",
    "coefficient_limit_for_numerical_vars = parameters['coefficient_limit_for_numerical_vars']\n",
    "coefficient_limit_for_cat_vars = parameters['coefficient_limit_for_cat_vars']\n",
    "p_limit = parameters['p_limit']\n",
    "additional_higher_p_limit = parameters['additional_higher_p_limit']\n",
    "additional_lower_p_limit = parameters['additional_lower_p_limit']\n",
    "\n",
    "# read the yaml file with data set parameters #\n",
    "# data_set_name = input('Data set name: ')\n",
    "data_set_name = 'CAN_CANCEL_spots_wo_CB_cancellation_requested'\n",
    "with open(r'./parameters/data_sets.yaml') as file:\n",
    "    data_sets_parameters = yaml.load(file, Loader=yaml.FullLoader)\n",
    "    \n",
    "spots_set = data_sets_parameters[data_set_name]['spots_set']\n",
    "with_wo_CB = data_sets_parameters[data_set_name]['with_wo_CB']\n",
    "event_date_full_name = data_sets_parameters[data_set_name]['event_date_type']\n",
    "\n",
    "if with_wo_CB == 'with_CB':\n",
    "    with_wo_CB_boolean = True\n",
    "else:\n",
    "    with_wo_CB_boolean = False\n",
    "\n",
    "if event_date_full_name == 'cancellation_requested':\n",
    "    event_date = 'canc_req'\n",
    "elif event_date_full_name == 'cancellation_confirmed':\n",
    "    event_date = 'canc_conf'"
   ]
  },
  {
   "cell_type": "code",
   "execution_count": 5,
   "id": "1dab750a",
   "metadata": {},
   "outputs": [],
   "source": [
    "##### base columns ##### \n",
    "base_cols = ['spot_id',\\\n",
    "            'time',\\\n",
    "            'event']"
   ]
  },
  {
   "cell_type": "code",
   "execution_count": 6,
   "id": "cd250bf8",
   "metadata": {},
   "outputs": [
    {
     "data": {
      "text/plain": [
       "'2023_01_01'"
      ]
     },
     "execution_count": 6,
     "metadata": {},
     "output_type": "execute_result"
    }
   ],
   "source": [
    "date_dir"
   ]
  },
  {
   "cell_type": "code",
   "execution_count": 7,
   "id": "10b00322",
   "metadata": {},
   "outputs": [],
   "source": [
    "website_sessions_wo_contactless = pd.read_csv('../issue_3788_mixpanel_tv/data/' + date_dir + \\\n",
    "                                              '/GA_data/sessions_new.csv')\n",
    "\n",
    "website_sessions_wo_contactless = website_sessions_wo_contactless.groupby(['spot_id', 'event_time'])\\\n",
    ".sessions.sum().reset_index()\n",
    "\n",
    "website_sessions_wo_contactless['event_time'] = website_sessions_wo_contactless['event_time']\\\n",
    ".apply(lambda x: x[0:7])\n",
    "\n",
    "website_sessions_wo_contactless = website_sessions_wo_contactless.groupby(['spot_id', 'event_time'])\\\n",
    ".sessions.sum().reset_index()\n",
    "\n",
    "website_sessions_wo_contactless = website_sessions_wo_contactless.groupby(['spot_id'])\\\n",
    ".sessions.mean().reset_index()"
   ]
  },
  {
   "cell_type": "code",
   "execution_count": 8,
   "id": "9fa62aea",
   "metadata": {},
   "outputs": [],
   "source": [
    "##### Model 41: all variables - prepare data for the model ####\n",
    "cols_to_use_ = read_a_combination_of_variables.\\\n",
    "main(model_number=41, dir_name='combinations_of_variables_that_are_not_dependent/')\n",
    "#### get behavioural variables ####\n",
    "(variables_to_use_for_the_model, did_something_last_month_vars, did_something_before_and_didnt_last_month_vars) = \\\n",
    "get_started_doing_something_variables.main(date_of_analysis=date_of_analysis, variables_to_use_for_the_model=cols_to_use_)\n",
    "cols = base_cols + variables_to_use_for_the_model + \\\n",
    "did_something_before_and_didnt_last_month_vars + did_something_last_month_vars\n",
    "\n",
    "# data_all_spots = \\\n",
    "# calculate_all_vars_for_churn_prediction.\\\n",
    "# get_data_for_the_MV_Cox_model(date_of_analysis=date_of_analysis,\\\n",
    "#                               hs_filename=hs_list_filename,\\\n",
    "#                               spots_set=spots_set,\\\n",
    "#                               with_wo_CB=with_wo_CB,\\\n",
    "#                               event_date=event_date, columns=cols,\\\n",
    "#                               data_dir=churn_based_on_behaviour_dir)\n",
    "\n",
    "#### get data for the model ###\n",
    "(data_, base_df_, df_timeline_all_vars_) = \\\n",
    "prepare_for_the_models.get_data_for_the_MV_Cox_model(date_of_analysis=date_of_analysis, spots_set=spots_set, \\\n",
    "                            with_wo_CB=with_wo_CB, event_date=event_date, columns=cols, data_dir=churn_based_on_behaviour_dir,\\\n",
    "                            C = 100)\n",
    "    \n",
    "model_numbers = \\\n",
    "read_a_combination_of_variables.get_a_list_of_model_numbers(dir_name='combinations_of_variables_that_are_not_dependent/')"
   ]
  },
  {
   "cell_type": "code",
   "execution_count": 9,
   "id": "7b4b0248",
   "metadata": {},
   "outputs": [],
   "source": [
    "num_of_p_values = 1\n",
    "num_of_prediction_months = len(prediction_months)"
   ]
  },
  {
   "cell_type": "code",
   "execution_count": 10,
   "id": "ad53ef26",
   "metadata": {},
   "outputs": [
    {
     "name": "stdout",
     "output_type": "stream",
     "text": [
      "# Model 36: properly_used_reservations_inquiries\n",
      "had_properly_used_reservations_inquiries\n",
      "had_properly_used_reservations_inquiries_last_2_months\n"
     ]
    },
    {
     "data": {
      "text/markdown": [
       "### sorted by variable name"
      ],
      "text/plain": [
       "<IPython.core.display.Markdown object>"
      ]
     },
     "metadata": {},
     "output_type": "display_data"
    },
    {
     "data": {
      "text/markdown": [
       "## without variables with p >= 0.2"
      ],
      "text/plain": [
       "<IPython.core.display.Markdown object>"
      ]
     },
     "metadata": {},
     "output_type": "display_data"
    },
    {
     "data": {
      "text/markdown": [
       "### sorted by variable name"
      ],
      "text/plain": [
       "<IPython.core.display.Markdown object>"
      ]
     },
     "metadata": {},
     "output_type": "display_data"
    },
    {
     "name": "stdout",
     "output_type": "stream",
     "text": [
      "# Model 36: properly_used_reservations_inquiries\n",
      "had_properly_used_reservations_inquiries\n",
      "had_properly_used_reservations_inquiries_last_2_months\n"
     ]
    },
    {
     "data": {
      "text/markdown": [
       "### sorted by variable name"
      ],
      "text/plain": [
       "<IPython.core.display.Markdown object>"
      ]
     },
     "metadata": {},
     "output_type": "display_data"
    },
    {
     "data": {
      "text/markdown": [
       "## without variables with p >= 0.2"
      ],
      "text/plain": [
       "<IPython.core.display.Markdown object>"
      ]
     },
     "metadata": {},
     "output_type": "display_data"
    },
    {
     "data": {
      "text/markdown": [
       "### sorted by variable name"
      ],
      "text/plain": [
       "<IPython.core.display.Markdown object>"
      ]
     },
     "metadata": {},
     "output_type": "display_data"
    },
    {
     "name": "stdout",
     "output_type": "stream",
     "text": [
      "# Model 36: properly_used_reservations_inquiries\n",
      "had_properly_used_reservations_inquiries\n",
      "had_properly_used_reservations_inquiries_last_2_months\n"
     ]
    },
    {
     "data": {
      "text/markdown": [
       "### sorted by variable name"
      ],
      "text/plain": [
       "<IPython.core.display.Markdown object>"
      ]
     },
     "metadata": {},
     "output_type": "display_data"
    },
    {
     "data": {
      "text/markdown": [
       "## without variables with p >= 0.2"
      ],
      "text/plain": [
       "<IPython.core.display.Markdown object>"
      ]
     },
     "metadata": {},
     "output_type": "display_data"
    },
    {
     "data": {
      "text/markdown": [
       "### sorted by variable name"
      ],
      "text/plain": [
       "<IPython.core.display.Markdown object>"
      ]
     },
     "metadata": {},
     "output_type": "display_data"
    },
    {
     "name": "stdout",
     "output_type": "stream",
     "text": [
      "# Model 36: properly_used_reservations_inquiries\n",
      "had_properly_used_reservations_inquiries\n",
      "had_properly_used_reservations_inquiries_last_2_months\n"
     ]
    },
    {
     "data": {
      "text/markdown": [
       "### sorted by variable name"
      ],
      "text/plain": [
       "<IPython.core.display.Markdown object>"
      ]
     },
     "metadata": {},
     "output_type": "display_data"
    },
    {
     "data": {
      "text/markdown": [
       "## without variables with p >= 0.2"
      ],
      "text/plain": [
       "<IPython.core.display.Markdown object>"
      ]
     },
     "metadata": {},
     "output_type": "display_data"
    },
    {
     "data": {
      "text/markdown": [
       "### sorted by variable name"
      ],
      "text/plain": [
       "<IPython.core.display.Markdown object>"
      ]
     },
     "metadata": {},
     "output_type": "display_data"
    },
    {
     "name": "stdout",
     "output_type": "stream",
     "text": [
      "# Model 36: properly_used_reservations_inquiries\n",
      "had_properly_used_reservations_inquiries\n",
      "had_properly_used_reservations_inquiries_last_2_months\n"
     ]
    },
    {
     "data": {
      "text/markdown": [
       "### sorted by variable name"
      ],
      "text/plain": [
       "<IPython.core.display.Markdown object>"
      ]
     },
     "metadata": {},
     "output_type": "display_data"
    },
    {
     "data": {
      "text/markdown": [
       "## without variables with p >= 0.2"
      ],
      "text/plain": [
       "<IPython.core.display.Markdown object>"
      ]
     },
     "metadata": {},
     "output_type": "display_data"
    },
    {
     "data": {
      "text/markdown": [
       "### sorted by variable name"
      ],
      "text/plain": [
       "<IPython.core.display.Markdown object>"
      ]
     },
     "metadata": {},
     "output_type": "display_data"
    },
    {
     "name": "stdout",
     "output_type": "stream",
     "text": [
      "# Model 36: properly_used_reservations_inquiries\n",
      "had_properly_used_reservations_inquiries\n",
      "had_properly_used_reservations_inquiries_last_2_months\n"
     ]
    },
    {
     "data": {
      "text/markdown": [
       "### sorted by variable name"
      ],
      "text/plain": [
       "<IPython.core.display.Markdown object>"
      ]
     },
     "metadata": {},
     "output_type": "display_data"
    },
    {
     "data": {
      "text/markdown": [
       "## without variables with p >= 0.2"
      ],
      "text/plain": [
       "<IPython.core.display.Markdown object>"
      ]
     },
     "metadata": {},
     "output_type": "display_data"
    },
    {
     "data": {
      "text/markdown": [
       "### sorted by variable name"
      ],
      "text/plain": [
       "<IPython.core.display.Markdown object>"
      ]
     },
     "metadata": {},
     "output_type": "display_data"
    },
    {
     "name": "stdout",
     "output_type": "stream",
     "text": [
      "# Model 36: properly_used_reservations_inquiries\n",
      "had_properly_used_reservations_inquiries\n",
      "had_properly_used_reservations_inquiries_last_2_months\n"
     ]
    },
    {
     "data": {
      "text/markdown": [
       "### sorted by variable name"
      ],
      "text/plain": [
       "<IPython.core.display.Markdown object>"
      ]
     },
     "metadata": {},
     "output_type": "display_data"
    },
    {
     "data": {
      "text/markdown": [
       "## without variables with p >= 0.2"
      ],
      "text/plain": [
       "<IPython.core.display.Markdown object>"
      ]
     },
     "metadata": {},
     "output_type": "display_data"
    },
    {
     "data": {
      "text/markdown": [
       "### sorted by variable name"
      ],
      "text/plain": [
       "<IPython.core.display.Markdown object>"
      ]
     },
     "metadata": {},
     "output_type": "display_data"
    },
    {
     "name": "stdout",
     "output_type": "stream",
     "text": [
      "# Model 36: properly_used_reservations_inquiries\n",
      "had_properly_used_reservations_inquiries\n",
      "had_properly_used_reservations_inquiries_last_2_months\n"
     ]
    },
    {
     "data": {
      "text/markdown": [
       "### sorted by variable name"
      ],
      "text/plain": [
       "<IPython.core.display.Markdown object>"
      ]
     },
     "metadata": {},
     "output_type": "display_data"
    },
    {
     "data": {
      "text/markdown": [
       "## without variables with p >= 0.2"
      ],
      "text/plain": [
       "<IPython.core.display.Markdown object>"
      ]
     },
     "metadata": {},
     "output_type": "display_data"
    },
    {
     "data": {
      "text/markdown": [
       "### sorted by variable name"
      ],
      "text/plain": [
       "<IPython.core.display.Markdown object>"
      ]
     },
     "metadata": {},
     "output_type": "display_data"
    },
    {
     "name": "stdout",
     "output_type": "stream",
     "text": [
      "# Model 36: properly_used_reservations_inquiries\n",
      "had_properly_used_reservations_inquiries\n",
      "had_properly_used_reservations_inquiries_last_2_months\n"
     ]
    },
    {
     "data": {
      "text/markdown": [
       "### sorted by variable name"
      ],
      "text/plain": [
       "<IPython.core.display.Markdown object>"
      ]
     },
     "metadata": {},
     "output_type": "display_data"
    },
    {
     "data": {
      "text/markdown": [
       "## without variables with p >= 0.2"
      ],
      "text/plain": [
       "<IPython.core.display.Markdown object>"
      ]
     },
     "metadata": {},
     "output_type": "display_data"
    },
    {
     "data": {
      "text/markdown": [
       "### sorted by variable name"
      ],
      "text/plain": [
       "<IPython.core.display.Markdown object>"
      ]
     },
     "metadata": {},
     "output_type": "display_data"
    },
    {
     "name": "stdout",
     "output_type": "stream",
     "text": [
      "# Model 36: properly_used_reservations_inquiries\n",
      "had_properly_used_reservations_inquiries\n",
      "had_properly_used_reservations_inquiries_last_2_months\n"
     ]
    },
    {
     "data": {
      "text/markdown": [
       "### sorted by variable name"
      ],
      "text/plain": [
       "<IPython.core.display.Markdown object>"
      ]
     },
     "metadata": {},
     "output_type": "display_data"
    },
    {
     "data": {
      "text/markdown": [
       "## without variables with p >= 0.2"
      ],
      "text/plain": [
       "<IPython.core.display.Markdown object>"
      ]
     },
     "metadata": {},
     "output_type": "display_data"
    },
    {
     "data": {
      "text/markdown": [
       "### sorted by variable name"
      ],
      "text/plain": [
       "<IPython.core.display.Markdown object>"
      ]
     },
     "metadata": {},
     "output_type": "display_data"
    },
    {
     "name": "stdout",
     "output_type": "stream",
     "text": [
      "# Model 36: properly_used_reservations_inquiries\n",
      "had_properly_used_reservations_inquiries\n",
      "had_properly_used_reservations_inquiries_last_2_months\n"
     ]
    },
    {
     "data": {
      "text/markdown": [
       "### sorted by variable name"
      ],
      "text/plain": [
       "<IPython.core.display.Markdown object>"
      ]
     },
     "metadata": {},
     "output_type": "display_data"
    },
    {
     "data": {
      "text/markdown": [
       "## without variables with p >= 0.2"
      ],
      "text/plain": [
       "<IPython.core.display.Markdown object>"
      ]
     },
     "metadata": {},
     "output_type": "display_data"
    },
    {
     "data": {
      "text/markdown": [
       "### sorted by variable name"
      ],
      "text/plain": [
       "<IPython.core.display.Markdown object>"
      ]
     },
     "metadata": {},
     "output_type": "display_data"
    },
    {
     "name": "stdout",
     "output_type": "stream",
     "text": [
      "# Model 36: properly_used_reservations_inquiries\n",
      "had_properly_used_reservations_inquiries\n",
      "had_properly_used_reservations_inquiries_last_2_months\n"
     ]
    },
    {
     "data": {
      "text/markdown": [
       "### sorted by variable name"
      ],
      "text/plain": [
       "<IPython.core.display.Markdown object>"
      ]
     },
     "metadata": {},
     "output_type": "display_data"
    },
    {
     "data": {
      "text/markdown": [
       "## without variables with p >= 0.2"
      ],
      "text/plain": [
       "<IPython.core.display.Markdown object>"
      ]
     },
     "metadata": {},
     "output_type": "display_data"
    },
    {
     "data": {
      "text/markdown": [
       "### sorted by variable name"
      ],
      "text/plain": [
       "<IPython.core.display.Markdown object>"
      ]
     },
     "metadata": {},
     "output_type": "display_data"
    },
    {
     "name": "stdout",
     "output_type": "stream",
     "text": [
      "# Model 36: properly_used_reservations_inquiries\n",
      "had_properly_used_reservations_inquiries\n",
      "had_properly_used_reservations_inquiries_last_2_months\n"
     ]
    },
    {
     "data": {
      "text/markdown": [
       "### sorted by variable name"
      ],
      "text/plain": [
       "<IPython.core.display.Markdown object>"
      ]
     },
     "metadata": {},
     "output_type": "display_data"
    },
    {
     "data": {
      "text/markdown": [
       "## without variables with p >= 0.2"
      ],
      "text/plain": [
       "<IPython.core.display.Markdown object>"
      ]
     },
     "metadata": {},
     "output_type": "display_data"
    },
    {
     "data": {
      "text/markdown": [
       "### sorted by variable name"
      ],
      "text/plain": [
       "<IPython.core.display.Markdown object>"
      ]
     },
     "metadata": {},
     "output_type": "display_data"
    },
    {
     "name": "stdout",
     "output_type": "stream",
     "text": [
      "# Model 36: properly_used_reservations_inquiries\n",
      "had_properly_used_reservations_inquiries\n",
      "had_properly_used_reservations_inquiries_last_2_months\n"
     ]
    },
    {
     "data": {
      "text/markdown": [
       "### sorted by variable name"
      ],
      "text/plain": [
       "<IPython.core.display.Markdown object>"
      ]
     },
     "metadata": {},
     "output_type": "display_data"
    },
    {
     "data": {
      "text/markdown": [
       "## without variables with p >= 0.2"
      ],
      "text/plain": [
       "<IPython.core.display.Markdown object>"
      ]
     },
     "metadata": {},
     "output_type": "display_data"
    },
    {
     "data": {
      "text/markdown": [
       "### sorted by variable name"
      ],
      "text/plain": [
       "<IPython.core.display.Markdown object>"
      ]
     },
     "metadata": {},
     "output_type": "display_data"
    },
    {
     "name": "stdout",
     "output_type": "stream",
     "text": [
      "# Model 37: properly_used_catering_inquiries\n",
      "had_properly_used_catering_inquiries\n",
      "had_properly_used_catering_inquiries_last_4_months\n"
     ]
    },
    {
     "data": {
      "text/markdown": [
       "### sorted by variable name"
      ],
      "text/plain": [
       "<IPython.core.display.Markdown object>"
      ]
     },
     "metadata": {},
     "output_type": "display_data"
    },
    {
     "data": {
      "text/markdown": [
       "## without variables with p >= 0.2"
      ],
      "text/plain": [
       "<IPython.core.display.Markdown object>"
      ]
     },
     "metadata": {},
     "output_type": "display_data"
    },
    {
     "data": {
      "text/markdown": [
       "### sorted by variable name"
      ],
      "text/plain": [
       "<IPython.core.display.Markdown object>"
      ]
     },
     "metadata": {},
     "output_type": "display_data"
    },
    {
     "name": "stdout",
     "output_type": "stream",
     "text": [
      "# Model 37: properly_used_catering_inquiries\n",
      "had_properly_used_catering_inquiries\n",
      "had_properly_used_catering_inquiries_last_4_months\n"
     ]
    },
    {
     "data": {
      "text/markdown": [
       "### sorted by variable name"
      ],
      "text/plain": [
       "<IPython.core.display.Markdown object>"
      ]
     },
     "metadata": {},
     "output_type": "display_data"
    },
    {
     "data": {
      "text/markdown": [
       "## without variables with p >= 0.2"
      ],
      "text/plain": [
       "<IPython.core.display.Markdown object>"
      ]
     },
     "metadata": {},
     "output_type": "display_data"
    },
    {
     "data": {
      "text/markdown": [
       "### sorted by variable name"
      ],
      "text/plain": [
       "<IPython.core.display.Markdown object>"
      ]
     },
     "metadata": {},
     "output_type": "display_data"
    },
    {
     "name": "stdout",
     "output_type": "stream",
     "text": [
      "# Model 37: properly_used_catering_inquiries\n",
      "had_properly_used_catering_inquiries\n",
      "had_properly_used_catering_inquiries_last_4_months\n"
     ]
    },
    {
     "data": {
      "text/markdown": [
       "### sorted by variable name"
      ],
      "text/plain": [
       "<IPython.core.display.Markdown object>"
      ]
     },
     "metadata": {},
     "output_type": "display_data"
    },
    {
     "data": {
      "text/markdown": [
       "## without variables with p >= 0.2"
      ],
      "text/plain": [
       "<IPython.core.display.Markdown object>"
      ]
     },
     "metadata": {},
     "output_type": "display_data"
    },
    {
     "data": {
      "text/markdown": [
       "### sorted by variable name"
      ],
      "text/plain": [
       "<IPython.core.display.Markdown object>"
      ]
     },
     "metadata": {},
     "output_type": "display_data"
    },
    {
     "name": "stdout",
     "output_type": "stream",
     "text": [
      "# Model 37: properly_used_catering_inquiries\n",
      "had_properly_used_catering_inquiries\n",
      "had_properly_used_catering_inquiries_last_4_months\n"
     ]
    },
    {
     "data": {
      "text/markdown": [
       "### sorted by variable name"
      ],
      "text/plain": [
       "<IPython.core.display.Markdown object>"
      ]
     },
     "metadata": {},
     "output_type": "display_data"
    },
    {
     "data": {
      "text/markdown": [
       "## without variables with p >= 0.2"
      ],
      "text/plain": [
       "<IPython.core.display.Markdown object>"
      ]
     },
     "metadata": {},
     "output_type": "display_data"
    },
    {
     "data": {
      "text/markdown": [
       "### sorted by variable name"
      ],
      "text/plain": [
       "<IPython.core.display.Markdown object>"
      ]
     },
     "metadata": {},
     "output_type": "display_data"
    },
    {
     "name": "stdout",
     "output_type": "stream",
     "text": [
      "# Model 37: properly_used_catering_inquiries\n",
      "had_properly_used_catering_inquiries\n",
      "had_properly_used_catering_inquiries_last_4_months\n"
     ]
    },
    {
     "data": {
      "text/markdown": [
       "### sorted by variable name"
      ],
      "text/plain": [
       "<IPython.core.display.Markdown object>"
      ]
     },
     "metadata": {},
     "output_type": "display_data"
    },
    {
     "data": {
      "text/markdown": [
       "## without variables with p >= 0.2"
      ],
      "text/plain": [
       "<IPython.core.display.Markdown object>"
      ]
     },
     "metadata": {},
     "output_type": "display_data"
    },
    {
     "data": {
      "text/markdown": [
       "### sorted by variable name"
      ],
      "text/plain": [
       "<IPython.core.display.Markdown object>"
      ]
     },
     "metadata": {},
     "output_type": "display_data"
    },
    {
     "name": "stdout",
     "output_type": "stream",
     "text": [
      "# Model 37: properly_used_catering_inquiries\n",
      "had_properly_used_catering_inquiries\n",
      "had_properly_used_catering_inquiries_last_4_months\n"
     ]
    },
    {
     "data": {
      "text/markdown": [
       "### sorted by variable name"
      ],
      "text/plain": [
       "<IPython.core.display.Markdown object>"
      ]
     },
     "metadata": {},
     "output_type": "display_data"
    },
    {
     "data": {
      "text/markdown": [
       "## without variables with p >= 0.2"
      ],
      "text/plain": [
       "<IPython.core.display.Markdown object>"
      ]
     },
     "metadata": {},
     "output_type": "display_data"
    },
    {
     "data": {
      "text/markdown": [
       "### sorted by variable name"
      ],
      "text/plain": [
       "<IPython.core.display.Markdown object>"
      ]
     },
     "metadata": {},
     "output_type": "display_data"
    },
    {
     "name": "stdout",
     "output_type": "stream",
     "text": [
      "# Model 37: properly_used_catering_inquiries\n",
      "had_properly_used_catering_inquiries\n",
      "had_properly_used_catering_inquiries_last_4_months\n"
     ]
    },
    {
     "data": {
      "text/markdown": [
       "### sorted by variable name"
      ],
      "text/plain": [
       "<IPython.core.display.Markdown object>"
      ]
     },
     "metadata": {},
     "output_type": "display_data"
    },
    {
     "data": {
      "text/markdown": [
       "## without variables with p >= 0.2"
      ],
      "text/plain": [
       "<IPython.core.display.Markdown object>"
      ]
     },
     "metadata": {},
     "output_type": "display_data"
    },
    {
     "data": {
      "text/markdown": [
       "### sorted by variable name"
      ],
      "text/plain": [
       "<IPython.core.display.Markdown object>"
      ]
     },
     "metadata": {},
     "output_type": "display_data"
    },
    {
     "name": "stdout",
     "output_type": "stream",
     "text": [
      "# Model 37: properly_used_catering_inquiries\n",
      "had_properly_used_catering_inquiries\n",
      "had_properly_used_catering_inquiries_last_4_months\n"
     ]
    },
    {
     "data": {
      "text/markdown": [
       "### sorted by variable name"
      ],
      "text/plain": [
       "<IPython.core.display.Markdown object>"
      ]
     },
     "metadata": {},
     "output_type": "display_data"
    },
    {
     "data": {
      "text/markdown": [
       "## without variables with p >= 0.2"
      ],
      "text/plain": [
       "<IPython.core.display.Markdown object>"
      ]
     },
     "metadata": {},
     "output_type": "display_data"
    },
    {
     "data": {
      "text/markdown": [
       "### sorted by variable name"
      ],
      "text/plain": [
       "<IPython.core.display.Markdown object>"
      ]
     },
     "metadata": {},
     "output_type": "display_data"
    },
    {
     "name": "stdout",
     "output_type": "stream",
     "text": [
      "# Model 37: properly_used_catering_inquiries\n",
      "had_properly_used_catering_inquiries\n",
      "had_properly_used_catering_inquiries_last_4_months\n"
     ]
    },
    {
     "data": {
      "text/markdown": [
       "### sorted by variable name"
      ],
      "text/plain": [
       "<IPython.core.display.Markdown object>"
      ]
     },
     "metadata": {},
     "output_type": "display_data"
    },
    {
     "data": {
      "text/markdown": [
       "## without variables with p >= 0.2"
      ],
      "text/plain": [
       "<IPython.core.display.Markdown object>"
      ]
     },
     "metadata": {},
     "output_type": "display_data"
    },
    {
     "data": {
      "text/markdown": [
       "### sorted by variable name"
      ],
      "text/plain": [
       "<IPython.core.display.Markdown object>"
      ]
     },
     "metadata": {},
     "output_type": "display_data"
    },
    {
     "name": "stdout",
     "output_type": "stream",
     "text": [
      "# Model 37: properly_used_catering_inquiries\n",
      "had_properly_used_catering_inquiries\n",
      "had_properly_used_catering_inquiries_last_4_months\n"
     ]
    },
    {
     "data": {
      "text/markdown": [
       "### sorted by variable name"
      ],
      "text/plain": [
       "<IPython.core.display.Markdown object>"
      ]
     },
     "metadata": {},
     "output_type": "display_data"
    },
    {
     "data": {
      "text/markdown": [
       "## without variables with p >= 0.2"
      ],
      "text/plain": [
       "<IPython.core.display.Markdown object>"
      ]
     },
     "metadata": {},
     "output_type": "display_data"
    },
    {
     "data": {
      "text/markdown": [
       "### sorted by variable name"
      ],
      "text/plain": [
       "<IPython.core.display.Markdown object>"
      ]
     },
     "metadata": {},
     "output_type": "display_data"
    },
    {
     "name": "stdout",
     "output_type": "stream",
     "text": [
      "# Model 37: properly_used_catering_inquiries\n",
      "had_properly_used_catering_inquiries\n",
      "had_properly_used_catering_inquiries_last_4_months\n"
     ]
    },
    {
     "data": {
      "text/markdown": [
       "### sorted by variable name"
      ],
      "text/plain": [
       "<IPython.core.display.Markdown object>"
      ]
     },
     "metadata": {},
     "output_type": "display_data"
    },
    {
     "data": {
      "text/markdown": [
       "## without variables with p >= 0.2"
      ],
      "text/plain": [
       "<IPython.core.display.Markdown object>"
      ]
     },
     "metadata": {},
     "output_type": "display_data"
    },
    {
     "data": {
      "text/markdown": [
       "### sorted by variable name"
      ],
      "text/plain": [
       "<IPython.core.display.Markdown object>"
      ]
     },
     "metadata": {},
     "output_type": "display_data"
    },
    {
     "name": "stdout",
     "output_type": "stream",
     "text": [
      "# Model 37: properly_used_catering_inquiries\n",
      "had_properly_used_catering_inquiries\n",
      "had_properly_used_catering_inquiries_last_4_months\n"
     ]
    },
    {
     "data": {
      "text/markdown": [
       "### sorted by variable name"
      ],
      "text/plain": [
       "<IPython.core.display.Markdown object>"
      ]
     },
     "metadata": {},
     "output_type": "display_data"
    },
    {
     "data": {
      "text/markdown": [
       "## without variables with p >= 0.2"
      ],
      "text/plain": [
       "<IPython.core.display.Markdown object>"
      ]
     },
     "metadata": {},
     "output_type": "display_data"
    },
    {
     "data": {
      "text/markdown": [
       "### sorted by variable name"
      ],
      "text/plain": [
       "<IPython.core.display.Markdown object>"
      ]
     },
     "metadata": {},
     "output_type": "display_data"
    },
    {
     "name": "stdout",
     "output_type": "stream",
     "text": [
      "# Model 37: properly_used_catering_inquiries\n",
      "had_properly_used_catering_inquiries\n",
      "had_properly_used_catering_inquiries_last_4_months\n"
     ]
    },
    {
     "data": {
      "text/markdown": [
       "### sorted by variable name"
      ],
      "text/plain": [
       "<IPython.core.display.Markdown object>"
      ]
     },
     "metadata": {},
     "output_type": "display_data"
    },
    {
     "data": {
      "text/markdown": [
       "## without variables with p >= 0.2"
      ],
      "text/plain": [
       "<IPython.core.display.Markdown object>"
      ]
     },
     "metadata": {},
     "output_type": "display_data"
    },
    {
     "data": {
      "text/markdown": [
       "### sorted by variable name"
      ],
      "text/plain": [
       "<IPython.core.display.Markdown object>"
      ]
     },
     "metadata": {},
     "output_type": "display_data"
    },
    {
     "name": "stdout",
     "output_type": "stream",
     "text": [
      "# Model 37: properly_used_catering_inquiries\n",
      "had_properly_used_catering_inquiries\n",
      "had_properly_used_catering_inquiries_last_4_months\n"
     ]
    },
    {
     "data": {
      "text/markdown": [
       "### sorted by variable name"
      ],
      "text/plain": [
       "<IPython.core.display.Markdown object>"
      ]
     },
     "metadata": {},
     "output_type": "display_data"
    },
    {
     "data": {
      "text/markdown": [
       "## without variables with p >= 0.2"
      ],
      "text/plain": [
       "<IPython.core.display.Markdown object>"
      ]
     },
     "metadata": {},
     "output_type": "display_data"
    },
    {
     "data": {
      "text/markdown": [
       "### sorted by variable name"
      ],
      "text/plain": [
       "<IPython.core.display.Markdown object>"
      ]
     },
     "metadata": {},
     "output_type": "display_data"
    },
    {
     "name": "stdout",
     "output_type": "stream",
     "text": [
      "# Model 38: properly_used_private_parties_inquiries\n",
      "had_properly_used_private_parties_inquiries\n",
      "had_properly_used_private_parties_inquiries_last_3_months\n"
     ]
    },
    {
     "data": {
      "text/markdown": [
       "### sorted by variable name"
      ],
      "text/plain": [
       "<IPython.core.display.Markdown object>"
      ]
     },
     "metadata": {},
     "output_type": "display_data"
    },
    {
     "data": {
      "text/markdown": [
       "## without variables with p >= 0.2"
      ],
      "text/plain": [
       "<IPython.core.display.Markdown object>"
      ]
     },
     "metadata": {},
     "output_type": "display_data"
    },
    {
     "data": {
      "text/markdown": [
       "### sorted by variable name"
      ],
      "text/plain": [
       "<IPython.core.display.Markdown object>"
      ]
     },
     "metadata": {},
     "output_type": "display_data"
    },
    {
     "name": "stdout",
     "output_type": "stream",
     "text": [
      "# Model 38: properly_used_private_parties_inquiries\n",
      "had_properly_used_private_parties_inquiries\n",
      "had_properly_used_private_parties_inquiries_last_3_months\n"
     ]
    },
    {
     "data": {
      "text/markdown": [
       "### sorted by variable name"
      ],
      "text/plain": [
       "<IPython.core.display.Markdown object>"
      ]
     },
     "metadata": {},
     "output_type": "display_data"
    },
    {
     "data": {
      "text/markdown": [
       "## without variables with p >= 0.2"
      ],
      "text/plain": [
       "<IPython.core.display.Markdown object>"
      ]
     },
     "metadata": {},
     "output_type": "display_data"
    },
    {
     "data": {
      "text/markdown": [
       "### sorted by variable name"
      ],
      "text/plain": [
       "<IPython.core.display.Markdown object>"
      ]
     },
     "metadata": {},
     "output_type": "display_data"
    },
    {
     "name": "stdout",
     "output_type": "stream",
     "text": [
      "# Model 38: properly_used_private_parties_inquiries\n",
      "had_properly_used_private_parties_inquiries\n",
      "had_properly_used_private_parties_inquiries_last_3_months\n"
     ]
    },
    {
     "data": {
      "text/markdown": [
       "### sorted by variable name"
      ],
      "text/plain": [
       "<IPython.core.display.Markdown object>"
      ]
     },
     "metadata": {},
     "output_type": "display_data"
    },
    {
     "data": {
      "text/markdown": [
       "## without variables with p >= 0.2"
      ],
      "text/plain": [
       "<IPython.core.display.Markdown object>"
      ]
     },
     "metadata": {},
     "output_type": "display_data"
    },
    {
     "data": {
      "text/markdown": [
       "### sorted by variable name"
      ],
      "text/plain": [
       "<IPython.core.display.Markdown object>"
      ]
     },
     "metadata": {},
     "output_type": "display_data"
    },
    {
     "name": "stdout",
     "output_type": "stream",
     "text": [
      "# Model 38: properly_used_private_parties_inquiries\n",
      "had_properly_used_private_parties_inquiries\n",
      "had_properly_used_private_parties_inquiries_last_3_months\n"
     ]
    },
    {
     "data": {
      "text/markdown": [
       "### sorted by variable name"
      ],
      "text/plain": [
       "<IPython.core.display.Markdown object>"
      ]
     },
     "metadata": {},
     "output_type": "display_data"
    },
    {
     "data": {
      "text/markdown": [
       "## without variables with p >= 0.2"
      ],
      "text/plain": [
       "<IPython.core.display.Markdown object>"
      ]
     },
     "metadata": {},
     "output_type": "display_data"
    },
    {
     "data": {
      "text/markdown": [
       "### sorted by variable name"
      ],
      "text/plain": [
       "<IPython.core.display.Markdown object>"
      ]
     },
     "metadata": {},
     "output_type": "display_data"
    },
    {
     "name": "stdout",
     "output_type": "stream",
     "text": [
      "# Model 38: properly_used_private_parties_inquiries\n",
      "had_properly_used_private_parties_inquiries\n",
      "had_properly_used_private_parties_inquiries_last_3_months\n"
     ]
    },
    {
     "data": {
      "text/markdown": [
       "### sorted by variable name"
      ],
      "text/plain": [
       "<IPython.core.display.Markdown object>"
      ]
     },
     "metadata": {},
     "output_type": "display_data"
    },
    {
     "data": {
      "text/markdown": [
       "## without variables with p >= 0.2"
      ],
      "text/plain": [
       "<IPython.core.display.Markdown object>"
      ]
     },
     "metadata": {},
     "output_type": "display_data"
    },
    {
     "data": {
      "text/markdown": [
       "### sorted by variable name"
      ],
      "text/plain": [
       "<IPython.core.display.Markdown object>"
      ]
     },
     "metadata": {},
     "output_type": "display_data"
    },
    {
     "name": "stdout",
     "output_type": "stream",
     "text": [
      "# Model 38: properly_used_private_parties_inquiries\n",
      "had_properly_used_private_parties_inquiries\n",
      "had_properly_used_private_parties_inquiries_last_3_months\n"
     ]
    },
    {
     "data": {
      "text/markdown": [
       "### sorted by variable name"
      ],
      "text/plain": [
       "<IPython.core.display.Markdown object>"
      ]
     },
     "metadata": {},
     "output_type": "display_data"
    },
    {
     "data": {
      "text/markdown": [
       "## without variables with p >= 0.2"
      ],
      "text/plain": [
       "<IPython.core.display.Markdown object>"
      ]
     },
     "metadata": {},
     "output_type": "display_data"
    },
    {
     "data": {
      "text/markdown": [
       "### sorted by variable name"
      ],
      "text/plain": [
       "<IPython.core.display.Markdown object>"
      ]
     },
     "metadata": {},
     "output_type": "display_data"
    },
    {
     "name": "stdout",
     "output_type": "stream",
     "text": [
      "# Model 38: properly_used_private_parties_inquiries\n",
      "had_properly_used_private_parties_inquiries\n",
      "had_properly_used_private_parties_inquiries_last_3_months\n"
     ]
    },
    {
     "data": {
      "text/markdown": [
       "### sorted by variable name"
      ],
      "text/plain": [
       "<IPython.core.display.Markdown object>"
      ]
     },
     "metadata": {},
     "output_type": "display_data"
    },
    {
     "data": {
      "text/markdown": [
       "## without variables with p >= 0.2"
      ],
      "text/plain": [
       "<IPython.core.display.Markdown object>"
      ]
     },
     "metadata": {},
     "output_type": "display_data"
    },
    {
     "data": {
      "text/markdown": [
       "### sorted by variable name"
      ],
      "text/plain": [
       "<IPython.core.display.Markdown object>"
      ]
     },
     "metadata": {},
     "output_type": "display_data"
    },
    {
     "name": "stdout",
     "output_type": "stream",
     "text": [
      "# Model 38: properly_used_private_parties_inquiries\n",
      "had_properly_used_private_parties_inquiries\n",
      "had_properly_used_private_parties_inquiries_last_3_months\n"
     ]
    },
    {
     "data": {
      "text/markdown": [
       "### sorted by variable name"
      ],
      "text/plain": [
       "<IPython.core.display.Markdown object>"
      ]
     },
     "metadata": {},
     "output_type": "display_data"
    },
    {
     "data": {
      "text/markdown": [
       "## without variables with p >= 0.2"
      ],
      "text/plain": [
       "<IPython.core.display.Markdown object>"
      ]
     },
     "metadata": {},
     "output_type": "display_data"
    },
    {
     "data": {
      "text/markdown": [
       "### sorted by variable name"
      ],
      "text/plain": [
       "<IPython.core.display.Markdown object>"
      ]
     },
     "metadata": {},
     "output_type": "display_data"
    },
    {
     "name": "stdout",
     "output_type": "stream",
     "text": [
      "# Model 38: properly_used_private_parties_inquiries\n",
      "had_properly_used_private_parties_inquiries\n",
      "had_properly_used_private_parties_inquiries_last_3_months\n"
     ]
    },
    {
     "data": {
      "text/markdown": [
       "### sorted by variable name"
      ],
      "text/plain": [
       "<IPython.core.display.Markdown object>"
      ]
     },
     "metadata": {},
     "output_type": "display_data"
    },
    {
     "data": {
      "text/markdown": [
       "## without variables with p >= 0.2"
      ],
      "text/plain": [
       "<IPython.core.display.Markdown object>"
      ]
     },
     "metadata": {},
     "output_type": "display_data"
    },
    {
     "data": {
      "text/markdown": [
       "### sorted by variable name"
      ],
      "text/plain": [
       "<IPython.core.display.Markdown object>"
      ]
     },
     "metadata": {},
     "output_type": "display_data"
    },
    {
     "name": "stdout",
     "output_type": "stream",
     "text": [
      "# Model 38: properly_used_private_parties_inquiries\n",
      "had_properly_used_private_parties_inquiries\n",
      "had_properly_used_private_parties_inquiries_last_3_months\n"
     ]
    },
    {
     "data": {
      "text/markdown": [
       "### sorted by variable name"
      ],
      "text/plain": [
       "<IPython.core.display.Markdown object>"
      ]
     },
     "metadata": {},
     "output_type": "display_data"
    },
    {
     "data": {
      "text/markdown": [
       "## without variables with p >= 0.2"
      ],
      "text/plain": [
       "<IPython.core.display.Markdown object>"
      ]
     },
     "metadata": {},
     "output_type": "display_data"
    },
    {
     "data": {
      "text/markdown": [
       "### sorted by variable name"
      ],
      "text/plain": [
       "<IPython.core.display.Markdown object>"
      ]
     },
     "metadata": {},
     "output_type": "display_data"
    },
    {
     "name": "stdout",
     "output_type": "stream",
     "text": [
      "# Model 38: properly_used_private_parties_inquiries\n",
      "had_properly_used_private_parties_inquiries\n",
      "had_properly_used_private_parties_inquiries_last_3_months\n"
     ]
    },
    {
     "data": {
      "text/markdown": [
       "### sorted by variable name"
      ],
      "text/plain": [
       "<IPython.core.display.Markdown object>"
      ]
     },
     "metadata": {},
     "output_type": "display_data"
    },
    {
     "data": {
      "text/markdown": [
       "## without variables with p >= 0.2"
      ],
      "text/plain": [
       "<IPython.core.display.Markdown object>"
      ]
     },
     "metadata": {},
     "output_type": "display_data"
    },
    {
     "data": {
      "text/markdown": [
       "### sorted by variable name"
      ],
      "text/plain": [
       "<IPython.core.display.Markdown object>"
      ]
     },
     "metadata": {},
     "output_type": "display_data"
    },
    {
     "name": "stdout",
     "output_type": "stream",
     "text": [
      "# Model 38: properly_used_private_parties_inquiries\n",
      "had_properly_used_private_parties_inquiries\n",
      "had_properly_used_private_parties_inquiries_last_3_months\n"
     ]
    },
    {
     "data": {
      "text/markdown": [
       "### sorted by variable name"
      ],
      "text/plain": [
       "<IPython.core.display.Markdown object>"
      ]
     },
     "metadata": {},
     "output_type": "display_data"
    },
    {
     "data": {
      "text/markdown": [
       "## without variables with p >= 0.2"
      ],
      "text/plain": [
       "<IPython.core.display.Markdown object>"
      ]
     },
     "metadata": {},
     "output_type": "display_data"
    },
    {
     "data": {
      "text/markdown": [
       "### sorted by variable name"
      ],
      "text/plain": [
       "<IPython.core.display.Markdown object>"
      ]
     },
     "metadata": {},
     "output_type": "display_data"
    },
    {
     "name": "stdout",
     "output_type": "stream",
     "text": [
      "# Model 38: properly_used_private_parties_inquiries\n",
      "had_properly_used_private_parties_inquiries\n",
      "had_properly_used_private_parties_inquiries_last_3_months\n"
     ]
    },
    {
     "data": {
      "text/markdown": [
       "### sorted by variable name"
      ],
      "text/plain": [
       "<IPython.core.display.Markdown object>"
      ]
     },
     "metadata": {},
     "output_type": "display_data"
    },
    {
     "data": {
      "text/markdown": [
       "## without variables with p >= 0.2"
      ],
      "text/plain": [
       "<IPython.core.display.Markdown object>"
      ]
     },
     "metadata": {},
     "output_type": "display_data"
    },
    {
     "data": {
      "text/markdown": [
       "### sorted by variable name"
      ],
      "text/plain": [
       "<IPython.core.display.Markdown object>"
      ]
     },
     "metadata": {},
     "output_type": "display_data"
    },
    {
     "name": "stdout",
     "output_type": "stream",
     "text": [
      "# Model 38: properly_used_private_parties_inquiries\n",
      "had_properly_used_private_parties_inquiries\n",
      "had_properly_used_private_parties_inquiries_last_3_months\n"
     ]
    },
    {
     "data": {
      "text/markdown": [
       "### sorted by variable name"
      ],
      "text/plain": [
       "<IPython.core.display.Markdown object>"
      ]
     },
     "metadata": {},
     "output_type": "display_data"
    },
    {
     "data": {
      "text/markdown": [
       "## without variables with p >= 0.2"
      ],
      "text/plain": [
       "<IPython.core.display.Markdown object>"
      ]
     },
     "metadata": {},
     "output_type": "display_data"
    },
    {
     "data": {
      "text/markdown": [
       "### sorted by variable name"
      ],
      "text/plain": [
       "<IPython.core.display.Markdown object>"
      ]
     },
     "metadata": {},
     "output_type": "display_data"
    },
    {
     "name": "stdout",
     "output_type": "stream",
     "text": [
      "# Model 39: properly_used_job_listings_inquiries\n",
      "had_properly_used_job_listings_inquiries\n",
      "had_properly_used_job_listings_inquiries_last_3_months\n"
     ]
    },
    {
     "data": {
      "text/markdown": [
       "### sorted by variable name"
      ],
      "text/plain": [
       "<IPython.core.display.Markdown object>"
      ]
     },
     "metadata": {},
     "output_type": "display_data"
    },
    {
     "data": {
      "text/markdown": [
       "## without variables with p >= 0.2"
      ],
      "text/plain": [
       "<IPython.core.display.Markdown object>"
      ]
     },
     "metadata": {},
     "output_type": "display_data"
    },
    {
     "data": {
      "text/markdown": [
       "### sorted by variable name"
      ],
      "text/plain": [
       "<IPython.core.display.Markdown object>"
      ]
     },
     "metadata": {},
     "output_type": "display_data"
    },
    {
     "name": "stdout",
     "output_type": "stream",
     "text": [
      "# Model 39: properly_used_job_listings_inquiries\n",
      "had_properly_used_job_listings_inquiries\n",
      "had_properly_used_job_listings_inquiries_last_3_months\n"
     ]
    },
    {
     "data": {
      "text/markdown": [
       "### sorted by variable name"
      ],
      "text/plain": [
       "<IPython.core.display.Markdown object>"
      ]
     },
     "metadata": {},
     "output_type": "display_data"
    },
    {
     "data": {
      "text/markdown": [
       "## without variables with p >= 0.2"
      ],
      "text/plain": [
       "<IPython.core.display.Markdown object>"
      ]
     },
     "metadata": {},
     "output_type": "display_data"
    },
    {
     "data": {
      "text/markdown": [
       "### sorted by variable name"
      ],
      "text/plain": [
       "<IPython.core.display.Markdown object>"
      ]
     },
     "metadata": {},
     "output_type": "display_data"
    },
    {
     "name": "stdout",
     "output_type": "stream",
     "text": [
      "# Model 39: properly_used_job_listings_inquiries\n",
      "had_properly_used_job_listings_inquiries\n",
      "had_properly_used_job_listings_inquiries_last_3_months\n"
     ]
    },
    {
     "data": {
      "text/markdown": [
       "### sorted by variable name"
      ],
      "text/plain": [
       "<IPython.core.display.Markdown object>"
      ]
     },
     "metadata": {},
     "output_type": "display_data"
    },
    {
     "data": {
      "text/markdown": [
       "## without variables with p >= 0.2"
      ],
      "text/plain": [
       "<IPython.core.display.Markdown object>"
      ]
     },
     "metadata": {},
     "output_type": "display_data"
    },
    {
     "data": {
      "text/markdown": [
       "### sorted by variable name"
      ],
      "text/plain": [
       "<IPython.core.display.Markdown object>"
      ]
     },
     "metadata": {},
     "output_type": "display_data"
    },
    {
     "name": "stdout",
     "output_type": "stream",
     "text": [
      "# Model 39: properly_used_job_listings_inquiries\n",
      "had_properly_used_job_listings_inquiries\n",
      "had_properly_used_job_listings_inquiries_last_3_months\n"
     ]
    },
    {
     "data": {
      "text/markdown": [
       "### sorted by variable name"
      ],
      "text/plain": [
       "<IPython.core.display.Markdown object>"
      ]
     },
     "metadata": {},
     "output_type": "display_data"
    },
    {
     "data": {
      "text/markdown": [
       "## without variables with p >= 0.2"
      ],
      "text/plain": [
       "<IPython.core.display.Markdown object>"
      ]
     },
     "metadata": {},
     "output_type": "display_data"
    },
    {
     "data": {
      "text/markdown": [
       "### sorted by variable name"
      ],
      "text/plain": [
       "<IPython.core.display.Markdown object>"
      ]
     },
     "metadata": {},
     "output_type": "display_data"
    },
    {
     "name": "stdout",
     "output_type": "stream",
     "text": [
      "# Model 39: properly_used_job_listings_inquiries\n",
      "had_properly_used_job_listings_inquiries\n",
      "had_properly_used_job_listings_inquiries_last_3_months\n"
     ]
    },
    {
     "data": {
      "text/markdown": [
       "### sorted by variable name"
      ],
      "text/plain": [
       "<IPython.core.display.Markdown object>"
      ]
     },
     "metadata": {},
     "output_type": "display_data"
    },
    {
     "data": {
      "text/markdown": [
       "## without variables with p >= 0.2"
      ],
      "text/plain": [
       "<IPython.core.display.Markdown object>"
      ]
     },
     "metadata": {},
     "output_type": "display_data"
    },
    {
     "data": {
      "text/markdown": [
       "### sorted by variable name"
      ],
      "text/plain": [
       "<IPython.core.display.Markdown object>"
      ]
     },
     "metadata": {},
     "output_type": "display_data"
    },
    {
     "name": "stdout",
     "output_type": "stream",
     "text": [
      "# Model 39: properly_used_job_listings_inquiries\n",
      "had_properly_used_job_listings_inquiries\n",
      "had_properly_used_job_listings_inquiries_last_3_months\n"
     ]
    },
    {
     "data": {
      "text/markdown": [
       "### sorted by variable name"
      ],
      "text/plain": [
       "<IPython.core.display.Markdown object>"
      ]
     },
     "metadata": {},
     "output_type": "display_data"
    },
    {
     "data": {
      "text/markdown": [
       "## without variables with p >= 0.2"
      ],
      "text/plain": [
       "<IPython.core.display.Markdown object>"
      ]
     },
     "metadata": {},
     "output_type": "display_data"
    },
    {
     "data": {
      "text/markdown": [
       "### sorted by variable name"
      ],
      "text/plain": [
       "<IPython.core.display.Markdown object>"
      ]
     },
     "metadata": {},
     "output_type": "display_data"
    },
    {
     "name": "stdout",
     "output_type": "stream",
     "text": [
      "# Model 39: properly_used_job_listings_inquiries\n",
      "had_properly_used_job_listings_inquiries\n",
      "had_properly_used_job_listings_inquiries_last_3_months\n"
     ]
    },
    {
     "data": {
      "text/markdown": [
       "### sorted by variable name"
      ],
      "text/plain": [
       "<IPython.core.display.Markdown object>"
      ]
     },
     "metadata": {},
     "output_type": "display_data"
    },
    {
     "data": {
      "text/markdown": [
       "## without variables with p >= 0.2"
      ],
      "text/plain": [
       "<IPython.core.display.Markdown object>"
      ]
     },
     "metadata": {},
     "output_type": "display_data"
    },
    {
     "data": {
      "text/markdown": [
       "### sorted by variable name"
      ],
      "text/plain": [
       "<IPython.core.display.Markdown object>"
      ]
     },
     "metadata": {},
     "output_type": "display_data"
    },
    {
     "name": "stdout",
     "output_type": "stream",
     "text": [
      "# Model 39: properly_used_job_listings_inquiries\n",
      "had_properly_used_job_listings_inquiries\n",
      "had_properly_used_job_listings_inquiries_last_3_months\n"
     ]
    },
    {
     "data": {
      "text/markdown": [
       "### sorted by variable name"
      ],
      "text/plain": [
       "<IPython.core.display.Markdown object>"
      ]
     },
     "metadata": {},
     "output_type": "display_data"
    },
    {
     "data": {
      "text/markdown": [
       "## without variables with p >= 0.2"
      ],
      "text/plain": [
       "<IPython.core.display.Markdown object>"
      ]
     },
     "metadata": {},
     "output_type": "display_data"
    },
    {
     "data": {
      "text/markdown": [
       "### sorted by variable name"
      ],
      "text/plain": [
       "<IPython.core.display.Markdown object>"
      ]
     },
     "metadata": {},
     "output_type": "display_data"
    },
    {
     "name": "stdout",
     "output_type": "stream",
     "text": [
      "# Model 39: properly_used_job_listings_inquiries\n",
      "had_properly_used_job_listings_inquiries\n",
      "had_properly_used_job_listings_inquiries_last_3_months\n"
     ]
    },
    {
     "data": {
      "text/markdown": [
       "### sorted by variable name"
      ],
      "text/plain": [
       "<IPython.core.display.Markdown object>"
      ]
     },
     "metadata": {},
     "output_type": "display_data"
    },
    {
     "data": {
      "text/markdown": [
       "## without variables with p >= 0.2"
      ],
      "text/plain": [
       "<IPython.core.display.Markdown object>"
      ]
     },
     "metadata": {},
     "output_type": "display_data"
    },
    {
     "data": {
      "text/markdown": [
       "### sorted by variable name"
      ],
      "text/plain": [
       "<IPython.core.display.Markdown object>"
      ]
     },
     "metadata": {},
     "output_type": "display_data"
    },
    {
     "name": "stdout",
     "output_type": "stream",
     "text": [
      "# Model 39: properly_used_job_listings_inquiries\n",
      "had_properly_used_job_listings_inquiries\n",
      "had_properly_used_job_listings_inquiries_last_3_months\n"
     ]
    },
    {
     "data": {
      "text/markdown": [
       "### sorted by variable name"
      ],
      "text/plain": [
       "<IPython.core.display.Markdown object>"
      ]
     },
     "metadata": {},
     "output_type": "display_data"
    },
    {
     "data": {
      "text/markdown": [
       "## without variables with p >= 0.2"
      ],
      "text/plain": [
       "<IPython.core.display.Markdown object>"
      ]
     },
     "metadata": {},
     "output_type": "display_data"
    },
    {
     "data": {
      "text/markdown": [
       "### sorted by variable name"
      ],
      "text/plain": [
       "<IPython.core.display.Markdown object>"
      ]
     },
     "metadata": {},
     "output_type": "display_data"
    },
    {
     "name": "stdout",
     "output_type": "stream",
     "text": [
      "# Model 39: properly_used_job_listings_inquiries\n",
      "had_properly_used_job_listings_inquiries\n",
      "had_properly_used_job_listings_inquiries_last_3_months\n"
     ]
    },
    {
     "data": {
      "text/markdown": [
       "### sorted by variable name"
      ],
      "text/plain": [
       "<IPython.core.display.Markdown object>"
      ]
     },
     "metadata": {},
     "output_type": "display_data"
    },
    {
     "data": {
      "text/markdown": [
       "## without variables with p >= 0.2"
      ],
      "text/plain": [
       "<IPython.core.display.Markdown object>"
      ]
     },
     "metadata": {},
     "output_type": "display_data"
    },
    {
     "data": {
      "text/markdown": [
       "### sorted by variable name"
      ],
      "text/plain": [
       "<IPython.core.display.Markdown object>"
      ]
     },
     "metadata": {},
     "output_type": "display_data"
    },
    {
     "name": "stdout",
     "output_type": "stream",
     "text": [
      "# Model 39: properly_used_job_listings_inquiries\n",
      "had_properly_used_job_listings_inquiries\n",
      "had_properly_used_job_listings_inquiries_last_3_months\n"
     ]
    },
    {
     "data": {
      "text/markdown": [
       "### sorted by variable name"
      ],
      "text/plain": [
       "<IPython.core.display.Markdown object>"
      ]
     },
     "metadata": {},
     "output_type": "display_data"
    },
    {
     "data": {
      "text/markdown": [
       "## without variables with p >= 0.2"
      ],
      "text/plain": [
       "<IPython.core.display.Markdown object>"
      ]
     },
     "metadata": {},
     "output_type": "display_data"
    },
    {
     "data": {
      "text/markdown": [
       "### sorted by variable name"
      ],
      "text/plain": [
       "<IPython.core.display.Markdown object>"
      ]
     },
     "metadata": {},
     "output_type": "display_data"
    },
    {
     "name": "stdout",
     "output_type": "stream",
     "text": [
      "# Model 39: properly_used_job_listings_inquiries\n",
      "had_properly_used_job_listings_inquiries\n",
      "had_properly_used_job_listings_inquiries_last_3_months\n"
     ]
    },
    {
     "data": {
      "text/markdown": [
       "### sorted by variable name"
      ],
      "text/plain": [
       "<IPython.core.display.Markdown object>"
      ]
     },
     "metadata": {},
     "output_type": "display_data"
    },
    {
     "data": {
      "text/markdown": [
       "## without variables with p >= 0.2"
      ],
      "text/plain": [
       "<IPython.core.display.Markdown object>"
      ]
     },
     "metadata": {},
     "output_type": "display_data"
    },
    {
     "data": {
      "text/markdown": [
       "### sorted by variable name"
      ],
      "text/plain": [
       "<IPython.core.display.Markdown object>"
      ]
     },
     "metadata": {},
     "output_type": "display_data"
    },
    {
     "name": "stdout",
     "output_type": "stream",
     "text": [
      "# Model 39: properly_used_job_listings_inquiries\n",
      "had_properly_used_job_listings_inquiries\n",
      "had_properly_used_job_listings_inquiries_last_3_months\n"
     ]
    },
    {
     "data": {
      "text/markdown": [
       "### sorted by variable name"
      ],
      "text/plain": [
       "<IPython.core.display.Markdown object>"
      ]
     },
     "metadata": {},
     "output_type": "display_data"
    },
    {
     "data": {
      "text/markdown": [
       "## without variables with p >= 0.2"
      ],
      "text/plain": [
       "<IPython.core.display.Markdown object>"
      ]
     },
     "metadata": {},
     "output_type": "display_data"
    },
    {
     "data": {
      "text/markdown": [
       "### sorted by variable name"
      ],
      "text/plain": [
       "<IPython.core.display.Markdown object>"
      ]
     },
     "metadata": {},
     "output_type": "display_data"
    },
    {
     "name": "stdout",
     "output_type": "stream",
     "text": [
      "# Model 40: properly_used_online_orders_inquiries\n",
      "had_properly_used_online_orders_inquiries\n",
      "had_properly_used_online_orders_inquiries_last_2_months\n"
     ]
    },
    {
     "data": {
      "text/markdown": [
       "### sorted by variable name"
      ],
      "text/plain": [
       "<IPython.core.display.Markdown object>"
      ]
     },
     "metadata": {},
     "output_type": "display_data"
    },
    {
     "data": {
      "text/markdown": [
       "## without variables with p >= 0.2"
      ],
      "text/plain": [
       "<IPython.core.display.Markdown object>"
      ]
     },
     "metadata": {},
     "output_type": "display_data"
    },
    {
     "data": {
      "text/markdown": [
       "### sorted by variable name"
      ],
      "text/plain": [
       "<IPython.core.display.Markdown object>"
      ]
     },
     "metadata": {},
     "output_type": "display_data"
    },
    {
     "name": "stdout",
     "output_type": "stream",
     "text": [
      "# Model 40: properly_used_online_orders_inquiries\n",
      "had_properly_used_online_orders_inquiries\n",
      "had_properly_used_online_orders_inquiries_last_2_months\n"
     ]
    },
    {
     "data": {
      "text/markdown": [
       "### sorted by variable name"
      ],
      "text/plain": [
       "<IPython.core.display.Markdown object>"
      ]
     },
     "metadata": {},
     "output_type": "display_data"
    },
    {
     "data": {
      "text/markdown": [
       "## without variables with p >= 0.2"
      ],
      "text/plain": [
       "<IPython.core.display.Markdown object>"
      ]
     },
     "metadata": {},
     "output_type": "display_data"
    },
    {
     "data": {
      "text/markdown": [
       "### sorted by variable name"
      ],
      "text/plain": [
       "<IPython.core.display.Markdown object>"
      ]
     },
     "metadata": {},
     "output_type": "display_data"
    },
    {
     "name": "stdout",
     "output_type": "stream",
     "text": [
      "# Model 40: properly_used_online_orders_inquiries\n",
      "had_properly_used_online_orders_inquiries\n",
      "had_properly_used_online_orders_inquiries_last_2_months\n"
     ]
    },
    {
     "data": {
      "text/markdown": [
       "### sorted by variable name"
      ],
      "text/plain": [
       "<IPython.core.display.Markdown object>"
      ]
     },
     "metadata": {},
     "output_type": "display_data"
    },
    {
     "data": {
      "text/markdown": [
       "## without variables with p >= 0.2"
      ],
      "text/plain": [
       "<IPython.core.display.Markdown object>"
      ]
     },
     "metadata": {},
     "output_type": "display_data"
    },
    {
     "data": {
      "text/markdown": [
       "### sorted by variable name"
      ],
      "text/plain": [
       "<IPython.core.display.Markdown object>"
      ]
     },
     "metadata": {},
     "output_type": "display_data"
    },
    {
     "name": "stdout",
     "output_type": "stream",
     "text": [
      "# Model 40: properly_used_online_orders_inquiries\n",
      "had_properly_used_online_orders_inquiries\n",
      "had_properly_used_online_orders_inquiries_last_2_months\n"
     ]
    },
    {
     "data": {
      "text/markdown": [
       "### sorted by variable name"
      ],
      "text/plain": [
       "<IPython.core.display.Markdown object>"
      ]
     },
     "metadata": {},
     "output_type": "display_data"
    },
    {
     "data": {
      "text/markdown": [
       "## without variables with p >= 0.2"
      ],
      "text/plain": [
       "<IPython.core.display.Markdown object>"
      ]
     },
     "metadata": {},
     "output_type": "display_data"
    },
    {
     "data": {
      "text/markdown": [
       "### sorted by variable name"
      ],
      "text/plain": [
       "<IPython.core.display.Markdown object>"
      ]
     },
     "metadata": {},
     "output_type": "display_data"
    },
    {
     "name": "stdout",
     "output_type": "stream",
     "text": [
      "# Model 40: properly_used_online_orders_inquiries\n",
      "had_properly_used_online_orders_inquiries\n",
      "had_properly_used_online_orders_inquiries_last_2_months\n"
     ]
    },
    {
     "data": {
      "text/markdown": [
       "### sorted by variable name"
      ],
      "text/plain": [
       "<IPython.core.display.Markdown object>"
      ]
     },
     "metadata": {},
     "output_type": "display_data"
    },
    {
     "data": {
      "text/markdown": [
       "## without variables with p >= 0.2"
      ],
      "text/plain": [
       "<IPython.core.display.Markdown object>"
      ]
     },
     "metadata": {},
     "output_type": "display_data"
    },
    {
     "data": {
      "text/markdown": [
       "### sorted by variable name"
      ],
      "text/plain": [
       "<IPython.core.display.Markdown object>"
      ]
     },
     "metadata": {},
     "output_type": "display_data"
    },
    {
     "name": "stdout",
     "output_type": "stream",
     "text": [
      "# Model 40: properly_used_online_orders_inquiries\n",
      "had_properly_used_online_orders_inquiries\n",
      "had_properly_used_online_orders_inquiries_last_2_months\n"
     ]
    },
    {
     "data": {
      "text/markdown": [
       "### sorted by variable name"
      ],
      "text/plain": [
       "<IPython.core.display.Markdown object>"
      ]
     },
     "metadata": {},
     "output_type": "display_data"
    },
    {
     "data": {
      "text/markdown": [
       "## without variables with p >= 0.2"
      ],
      "text/plain": [
       "<IPython.core.display.Markdown object>"
      ]
     },
     "metadata": {},
     "output_type": "display_data"
    },
    {
     "data": {
      "text/markdown": [
       "### sorted by variable name"
      ],
      "text/plain": [
       "<IPython.core.display.Markdown object>"
      ]
     },
     "metadata": {},
     "output_type": "display_data"
    },
    {
     "name": "stdout",
     "output_type": "stream",
     "text": [
      "# Model 40: properly_used_online_orders_inquiries\n",
      "had_properly_used_online_orders_inquiries\n",
      "had_properly_used_online_orders_inquiries_last_2_months\n"
     ]
    },
    {
     "data": {
      "text/markdown": [
       "### sorted by variable name"
      ],
      "text/plain": [
       "<IPython.core.display.Markdown object>"
      ]
     },
     "metadata": {},
     "output_type": "display_data"
    },
    {
     "data": {
      "text/markdown": [
       "## without variables with p >= 0.2"
      ],
      "text/plain": [
       "<IPython.core.display.Markdown object>"
      ]
     },
     "metadata": {},
     "output_type": "display_data"
    },
    {
     "data": {
      "text/markdown": [
       "### sorted by variable name"
      ],
      "text/plain": [
       "<IPython.core.display.Markdown object>"
      ]
     },
     "metadata": {},
     "output_type": "display_data"
    },
    {
     "name": "stdout",
     "output_type": "stream",
     "text": [
      "# Model 40: properly_used_online_orders_inquiries\n",
      "had_properly_used_online_orders_inquiries\n",
      "had_properly_used_online_orders_inquiries_last_2_months\n"
     ]
    },
    {
     "data": {
      "text/markdown": [
       "### sorted by variable name"
      ],
      "text/plain": [
       "<IPython.core.display.Markdown object>"
      ]
     },
     "metadata": {},
     "output_type": "display_data"
    },
    {
     "data": {
      "text/markdown": [
       "## without variables with p >= 0.2"
      ],
      "text/plain": [
       "<IPython.core.display.Markdown object>"
      ]
     },
     "metadata": {},
     "output_type": "display_data"
    },
    {
     "data": {
      "text/markdown": [
       "### sorted by variable name"
      ],
      "text/plain": [
       "<IPython.core.display.Markdown object>"
      ]
     },
     "metadata": {},
     "output_type": "display_data"
    },
    {
     "name": "stdout",
     "output_type": "stream",
     "text": [
      "# Model 40: properly_used_online_orders_inquiries\n",
      "had_properly_used_online_orders_inquiries\n",
      "had_properly_used_online_orders_inquiries_last_2_months\n"
     ]
    },
    {
     "data": {
      "text/markdown": [
       "### sorted by variable name"
      ],
      "text/plain": [
       "<IPython.core.display.Markdown object>"
      ]
     },
     "metadata": {},
     "output_type": "display_data"
    },
    {
     "data": {
      "text/markdown": [
       "## without variables with p >= 0.2"
      ],
      "text/plain": [
       "<IPython.core.display.Markdown object>"
      ]
     },
     "metadata": {},
     "output_type": "display_data"
    },
    {
     "data": {
      "text/markdown": [
       "### sorted by variable name"
      ],
      "text/plain": [
       "<IPython.core.display.Markdown object>"
      ]
     },
     "metadata": {},
     "output_type": "display_data"
    },
    {
     "name": "stdout",
     "output_type": "stream",
     "text": [
      "# Model 40: properly_used_online_orders_inquiries\n",
      "had_properly_used_online_orders_inquiries\n",
      "had_properly_used_online_orders_inquiries_last_2_months\n"
     ]
    },
    {
     "data": {
      "text/markdown": [
       "### sorted by variable name"
      ],
      "text/plain": [
       "<IPython.core.display.Markdown object>"
      ]
     },
     "metadata": {},
     "output_type": "display_data"
    },
    {
     "data": {
      "text/markdown": [
       "## without variables with p >= 0.2"
      ],
      "text/plain": [
       "<IPython.core.display.Markdown object>"
      ]
     },
     "metadata": {},
     "output_type": "display_data"
    },
    {
     "data": {
      "text/markdown": [
       "### sorted by variable name"
      ],
      "text/plain": [
       "<IPython.core.display.Markdown object>"
      ]
     },
     "metadata": {},
     "output_type": "display_data"
    },
    {
     "name": "stdout",
     "output_type": "stream",
     "text": [
      "# Model 40: properly_used_online_orders_inquiries\n",
      "had_properly_used_online_orders_inquiries\n",
      "had_properly_used_online_orders_inquiries_last_2_months\n"
     ]
    },
    {
     "data": {
      "text/markdown": [
       "### sorted by variable name"
      ],
      "text/plain": [
       "<IPython.core.display.Markdown object>"
      ]
     },
     "metadata": {},
     "output_type": "display_data"
    },
    {
     "data": {
      "text/markdown": [
       "## without variables with p >= 0.2"
      ],
      "text/plain": [
       "<IPython.core.display.Markdown object>"
      ]
     },
     "metadata": {},
     "output_type": "display_data"
    },
    {
     "data": {
      "text/markdown": [
       "### sorted by variable name"
      ],
      "text/plain": [
       "<IPython.core.display.Markdown object>"
      ]
     },
     "metadata": {},
     "output_type": "display_data"
    },
    {
     "name": "stdout",
     "output_type": "stream",
     "text": [
      "# Model 40: properly_used_online_orders_inquiries\n",
      "had_properly_used_online_orders_inquiries\n",
      "had_properly_used_online_orders_inquiries_last_2_months\n"
     ]
    },
    {
     "data": {
      "text/markdown": [
       "### sorted by variable name"
      ],
      "text/plain": [
       "<IPython.core.display.Markdown object>"
      ]
     },
     "metadata": {},
     "output_type": "display_data"
    },
    {
     "data": {
      "text/markdown": [
       "## without variables with p >= 0.2"
      ],
      "text/plain": [
       "<IPython.core.display.Markdown object>"
      ]
     },
     "metadata": {},
     "output_type": "display_data"
    },
    {
     "data": {
      "text/markdown": [
       "### sorted by variable name"
      ],
      "text/plain": [
       "<IPython.core.display.Markdown object>"
      ]
     },
     "metadata": {},
     "output_type": "display_data"
    },
    {
     "name": "stdout",
     "output_type": "stream",
     "text": [
      "# Model 40: properly_used_online_orders_inquiries\n",
      "had_properly_used_online_orders_inquiries\n",
      "had_properly_used_online_orders_inquiries_last_2_months\n"
     ]
    },
    {
     "data": {
      "text/markdown": [
       "### sorted by variable name"
      ],
      "text/plain": [
       "<IPython.core.display.Markdown object>"
      ]
     },
     "metadata": {},
     "output_type": "display_data"
    },
    {
     "data": {
      "text/markdown": [
       "## without variables with p >= 0.2"
      ],
      "text/plain": [
       "<IPython.core.display.Markdown object>"
      ]
     },
     "metadata": {},
     "output_type": "display_data"
    },
    {
     "data": {
      "text/markdown": [
       "### sorted by variable name"
      ],
      "text/plain": [
       "<IPython.core.display.Markdown object>"
      ]
     },
     "metadata": {},
     "output_type": "display_data"
    },
    {
     "name": "stdout",
     "output_type": "stream",
     "text": [
      "# Model 40: properly_used_online_orders_inquiries\n",
      "had_properly_used_online_orders_inquiries\n",
      "had_properly_used_online_orders_inquiries_last_2_months\n"
     ]
    },
    {
     "data": {
      "text/markdown": [
       "### sorted by variable name"
      ],
      "text/plain": [
       "<IPython.core.display.Markdown object>"
      ]
     },
     "metadata": {},
     "output_type": "display_data"
    },
    {
     "data": {
      "text/markdown": [
       "## without variables with p >= 0.2"
      ],
      "text/plain": [
       "<IPython.core.display.Markdown object>"
      ]
     },
     "metadata": {},
     "output_type": "display_data"
    },
    {
     "data": {
      "text/markdown": [
       "### sorted by variable name"
      ],
      "text/plain": [
       "<IPython.core.display.Markdown object>"
      ]
     },
     "metadata": {},
     "output_type": "display_data"
    }
   ],
   "source": [
    "df_res = pd.DataFrame()\n",
    "models_to_run = [36, 37, 38, 39, 40]\n",
    "cut_offs = [500, 700, 1000, 1200, 1500, 1700, 2000]\n",
    "for model_number in models_to_run:\n",
    "    for ct in cut_offs:\n",
    "        for e in ('high_end_', 'low_end_'):\n",
    "            if e=='high_end_':\n",
    "                spots_ = website_sessions_wo_contactless[website_sessions_wo_contactless['sessions']>=ct]['spot_id'].unique()\n",
    "            else:\n",
    "                spots_ = website_sessions_wo_contactless[website_sessions_wo_contactless['sessions']<ct]['spot_id'].unique()\n",
    "            \n",
    "            data = data_[data_['spot_id'].isin(spots_)].copy()\n",
    "            base_df = base_df_[base_df_['spot_id'].isin(spots_)].copy()\n",
    "            df_timeline_all_vars = df_timeline_all_vars_[df_timeline_all_vars_['spot_id'].isin(spots_)].copy()\n",
    "            \n",
    "            cols_to_use = read_a_combination_of_variables.\\\n",
    "            main(model_number=model_number, dir_name='combinations_of_variables_that_are_not_dependent/')\n",
    "\n",
    "            model_name = \\\n",
    "            read_a_combination_of_variables.get_model_names(model_number=model_number, \\\n",
    "                                                            dir_name='combinations_of_variables_that_are_not_dependent/')\n",
    "            print(\"# Model \"+ str(model_number) + \": \" + model_name)\n",
    "            \n",
    "            print('had_'+model_name)\n",
    "\n",
    "            #### get behavioural variables ####\n",
    "            (variables_to_use_for_the_model, did_something_last_month_vars, \\\n",
    "             did_something_before_and_didnt_last_month_vars) = \\\n",
    "            get_started_doing_something_variables.main(date_of_analysis=date_of_analysis, \\\n",
    "                                                       variables_to_use_for_the_model=cols_to_use)\n",
    "            cols = variables_to_use_for_the_model + \\\n",
    "            did_something_before_and_didnt_last_month_vars + did_something_last_month_vars\n",
    "            \n",
    "            variable_to_check = [c for c in cols if c.startswith('had_'+model_name) and \\\n",
    "                   re.search('before_and_didnt', c) == None][0]\n",
    "            \n",
    "            print(variable_to_check)\n",
    "\n",
    "            #### data for the model ###\n",
    "            df_timeline = df_timeline_all_vars.copy()\n",
    "            vars_that_stay = ['spot_id', 'start', 'stop', 'event']+\\\n",
    "            [x for x in cols if x not in base_cols]+\\\n",
    "            [x for x in df_timeline.columns if 'spot_category_' in x or 'metro_area_' in x]\n",
    "            df_timeline.drop([x for x in df_timeline.columns if x not in vars_that_stay], axis = 1, inplace = True)\n",
    "\n",
    "            ### variables to skip ###\n",
    "            df_timeline.isnull().sum().sum() #OK\n",
    "            skip_vars = list((df_timeline!=0).sum()[(df_timeline!=0).sum()==0].index)\n",
    "            skip_vars\n",
    "\n",
    "            ctv = fit_tv_cox_models.fit_the_models_and_print_summaries_kiza(df_timeline=df_timeline, base_df=base_df, \\\n",
    "                                                                 date_of_analysis=date_of_analysis, model_type=model_type, \\\n",
    "                                                                 variables_to_use_for_the_model=cols_to_use,\\\n",
    "                                                                 coefficient_limit_for_numerical_vars=coefficient_limit_for_numerical_vars, \\\n",
    "                                                                 coefficient_limit_for_cat_vars=coefficient_limit_for_cat_vars, p_limit=p_limit, \\\n",
    "                                                                 additional_higher_p_limit=additional_higher_p_limit, \\\n",
    "                                                                 additional_lower_p_limit=additional_lower_p_limit,\\\n",
    "                                                                 skip_vars=skip_vars, penalizer=penalizer)\n",
    "            \n",
    "            df_res = pd.concat([df_res, pd.DataFrame([[model_number, e + str(ct), \n",
    "                                                       model_name, variable_to_check, ctv, data.spot_id.nunique()]])])"
   ]
  },
  {
   "cell_type": "code",
   "execution_count": 11,
   "id": "939dfe70",
   "metadata": {},
   "outputs": [],
   "source": [
    "df_res.columns = ['model_number', 'category', 'model_name', 'variable_name', 'models', 'spots_num']"
   ]
  },
  {
   "cell_type": "code",
   "execution_count": 12,
   "id": "0340409f",
   "metadata": {},
   "outputs": [
    {
     "data": {
      "text/plain": [
       "['model_number',\n",
       " 'category',\n",
       " 'model_name',\n",
       " 'variable_name',\n",
       " 'models',\n",
       " 'spots_num']"
      ]
     },
     "execution_count": 12,
     "metadata": {},
     "output_type": "execute_result"
    }
   ],
   "source": [
    "df_res.columns.tolist()"
   ]
  },
  {
   "cell_type": "code",
   "execution_count": 13,
   "id": "b966acb7",
   "metadata": {},
   "outputs": [],
   "source": [
    "def extract_coefficients(variable_name, model):\n",
    "    model_summary = model.summary\n",
    "    if variable_name in model_summary.index:\n",
    "        return(model_summary[model_summary.index==variable_name]['exp(coef)'].iloc[0])\n",
    "    else:\n",
    "        return(np.NaN)\n",
    "\n",
    "def extract_p_values(variable_name, model):\n",
    "    model_summary = model.summary\n",
    "    if variable_name in model_summary.index:\n",
    "        return(model_summary[model_summary.index==variable_name]['p'].iloc[0])\n",
    "    else:\n",
    "        return(np.NaN)"
   ]
  },
  {
   "cell_type": "code",
   "execution_count": 14,
   "id": "c2d0e9ae",
   "metadata": {},
   "outputs": [],
   "source": [
    "df_res['exp(coef)'] = df_res.apply(lambda x: extract_coefficients(variable_name=x['variable_name'], \n",
    "                                                                  model=x['models'][0]), axis=1)\n",
    "df_res['p'] = df_res.apply(lambda x: extract_p_values(variable_name=x['variable_name'], \n",
    "                                                                  model=x['models'][0]), axis=1)\n",
    "\n",
    "df_res['exp(coef).2'] = df_res.apply(lambda x: extract_coefficients(variable_name=x['variable_name'], \n",
    "                                                                  model=x['models'][1]), axis=1)\n",
    "df_res['p.2'] = df_res.apply(lambda x: extract_p_values(variable_name=x['variable_name'], \n",
    "                                                                  model=x['models'][1]), axis=1)"
   ]
  },
  {
   "cell_type": "code",
   "execution_count": 15,
   "id": "6bef5f4d",
   "metadata": {},
   "outputs": [],
   "source": [
    "def check_model(summary):\n",
    "    vars_ = summary.index\n",
    "    vars_ = [x[4:] if x.startswith('had_') else x for x in vars_]\n",
    "    vars_ = [x[:-14] if x.endswith('_months') else x for x in vars_]\n",
    "    vars_ = [x[:-17] if x.endswith('_before_and_didnt') else x for x in vars_]\n",
    "    vars_ = [x[:-32] if x.endswith('_before_and_didnt_last_4_months\\t') else x for x in vars_]\n",
    "    vars_ = [i for i in vars_ if not(i.startswith('metro_area_') or i.startswith('spot_category_'))]\n",
    "    vars_ = [x[:-15] if x.endswith('_last_4_months\\t') else x for x in vars_]\n",
    "    vars_ = sorted(pd.Series(vars_).unique())\n",
    "    return(len(vars_))"
   ]
  },
  {
   "cell_type": "code",
   "execution_count": 16,
   "id": "8e69d1e3",
   "metadata": {},
   "outputs": [
    {
     "data": {
      "text/plain": [
       "[68, 68, 68, 68, 68]"
      ]
     },
     "execution_count": 16,
     "metadata": {},
     "output_type": "execute_result"
    }
   ],
   "source": [
    "[len(sorted(read_a_combination_of_variables.\\\n",
    "main(model_number=n, dir_name='combinations_of_variables_that_are_not_dependent/'))) for n \n",
    " in [36, 37, 38, 39, 40]] "
   ]
  },
  {
   "cell_type": "code",
   "execution_count": 17,
   "id": "3671def6",
   "metadata": {},
   "outputs": [
    {
     "data": {
      "text/html": [
       "<div>\n",
       "<style scoped>\n",
       "    .dataframe tbody tr th:only-of-type {\n",
       "        vertical-align: middle;\n",
       "    }\n",
       "\n",
       "    .dataframe tbody tr th {\n",
       "        vertical-align: top;\n",
       "    }\n",
       "\n",
       "    .dataframe thead th {\n",
       "        text-align: right;\n",
       "    }\n",
       "</style>\n",
       "<table border=\"1\" class=\"dataframe\">\n",
       "  <thead>\n",
       "    <tr style=\"text-align: right;\">\n",
       "      <th></th>\n",
       "      <th>model_number</th>\n",
       "      <th>category</th>\n",
       "      <th>model_name</th>\n",
       "      <th>variable_name</th>\n",
       "    </tr>\n",
       "  </thead>\n",
       "  <tbody>\n",
       "    <tr>\n",
       "      <th>0</th>\n",
       "      <td>36</td>\n",
       "      <td>high_end_500</td>\n",
       "      <td>properly_used_reservations_inquiries</td>\n",
       "      <td>had_properly_used_reservations_inquiries_last_...</td>\n",
       "    </tr>\n",
       "    <tr>\n",
       "      <th>0</th>\n",
       "      <td>36</td>\n",
       "      <td>low_end_500</td>\n",
       "      <td>properly_used_reservations_inquiries</td>\n",
       "      <td>had_properly_used_reservations_inquiries_last_...</td>\n",
       "    </tr>\n",
       "    <tr>\n",
       "      <th>0</th>\n",
       "      <td>36</td>\n",
       "      <td>high_end_700</td>\n",
       "      <td>properly_used_reservations_inquiries</td>\n",
       "      <td>had_properly_used_reservations_inquiries_last_...</td>\n",
       "    </tr>\n",
       "    <tr>\n",
       "      <th>0</th>\n",
       "      <td>36</td>\n",
       "      <td>low_end_700</td>\n",
       "      <td>properly_used_reservations_inquiries</td>\n",
       "      <td>had_properly_used_reservations_inquiries_last_...</td>\n",
       "    </tr>\n",
       "    <tr>\n",
       "      <th>0</th>\n",
       "      <td>36</td>\n",
       "      <td>high_end_1000</td>\n",
       "      <td>properly_used_reservations_inquiries</td>\n",
       "      <td>had_properly_used_reservations_inquiries_last_...</td>\n",
       "    </tr>\n",
       "    <tr>\n",
       "      <th>0</th>\n",
       "      <td>36</td>\n",
       "      <td>low_end_1000</td>\n",
       "      <td>properly_used_reservations_inquiries</td>\n",
       "      <td>had_properly_used_reservations_inquiries_last_...</td>\n",
       "    </tr>\n",
       "    <tr>\n",
       "      <th>0</th>\n",
       "      <td>36</td>\n",
       "      <td>high_end_1200</td>\n",
       "      <td>properly_used_reservations_inquiries</td>\n",
       "      <td>had_properly_used_reservations_inquiries_last_...</td>\n",
       "    </tr>\n",
       "    <tr>\n",
       "      <th>0</th>\n",
       "      <td>36</td>\n",
       "      <td>low_end_1200</td>\n",
       "      <td>properly_used_reservations_inquiries</td>\n",
       "      <td>had_properly_used_reservations_inquiries_last_...</td>\n",
       "    </tr>\n",
       "    <tr>\n",
       "      <th>0</th>\n",
       "      <td>36</td>\n",
       "      <td>high_end_1500</td>\n",
       "      <td>properly_used_reservations_inquiries</td>\n",
       "      <td>had_properly_used_reservations_inquiries_last_...</td>\n",
       "    </tr>\n",
       "    <tr>\n",
       "      <th>0</th>\n",
       "      <td>36</td>\n",
       "      <td>low_end_1500</td>\n",
       "      <td>properly_used_reservations_inquiries</td>\n",
       "      <td>had_properly_used_reservations_inquiries_last_...</td>\n",
       "    </tr>\n",
       "    <tr>\n",
       "      <th>0</th>\n",
       "      <td>36</td>\n",
       "      <td>high_end_1700</td>\n",
       "      <td>properly_used_reservations_inquiries</td>\n",
       "      <td>had_properly_used_reservations_inquiries_last_...</td>\n",
       "    </tr>\n",
       "    <tr>\n",
       "      <th>0</th>\n",
       "      <td>36</td>\n",
       "      <td>low_end_1700</td>\n",
       "      <td>properly_used_reservations_inquiries</td>\n",
       "      <td>had_properly_used_reservations_inquiries_last_...</td>\n",
       "    </tr>\n",
       "    <tr>\n",
       "      <th>0</th>\n",
       "      <td>36</td>\n",
       "      <td>high_end_2000</td>\n",
       "      <td>properly_used_reservations_inquiries</td>\n",
       "      <td>had_properly_used_reservations_inquiries_last_...</td>\n",
       "    </tr>\n",
       "    <tr>\n",
       "      <th>0</th>\n",
       "      <td>36</td>\n",
       "      <td>low_end_2000</td>\n",
       "      <td>properly_used_reservations_inquiries</td>\n",
       "      <td>had_properly_used_reservations_inquiries_last_...</td>\n",
       "    </tr>\n",
       "  </tbody>\n",
       "</table>\n",
       "</div>"
      ],
      "text/plain": [
       "   model_number       category                            model_name  \\\n",
       "0            36   high_end_500  properly_used_reservations_inquiries   \n",
       "0            36    low_end_500  properly_used_reservations_inquiries   \n",
       "0            36   high_end_700  properly_used_reservations_inquiries   \n",
       "0            36    low_end_700  properly_used_reservations_inquiries   \n",
       "0            36  high_end_1000  properly_used_reservations_inquiries   \n",
       "0            36   low_end_1000  properly_used_reservations_inquiries   \n",
       "0            36  high_end_1200  properly_used_reservations_inquiries   \n",
       "0            36   low_end_1200  properly_used_reservations_inquiries   \n",
       "0            36  high_end_1500  properly_used_reservations_inquiries   \n",
       "0            36   low_end_1500  properly_used_reservations_inquiries   \n",
       "0            36  high_end_1700  properly_used_reservations_inquiries   \n",
       "0            36   low_end_1700  properly_used_reservations_inquiries   \n",
       "0            36  high_end_2000  properly_used_reservations_inquiries   \n",
       "0            36   low_end_2000  properly_used_reservations_inquiries   \n",
       "\n",
       "                                       variable_name  \n",
       "0  had_properly_used_reservations_inquiries_last_...  \n",
       "0  had_properly_used_reservations_inquiries_last_...  \n",
       "0  had_properly_used_reservations_inquiries_last_...  \n",
       "0  had_properly_used_reservations_inquiries_last_...  \n",
       "0  had_properly_used_reservations_inquiries_last_...  \n",
       "0  had_properly_used_reservations_inquiries_last_...  \n",
       "0  had_properly_used_reservations_inquiries_last_...  \n",
       "0  had_properly_used_reservations_inquiries_last_...  \n",
       "0  had_properly_used_reservations_inquiries_last_...  \n",
       "0  had_properly_used_reservations_inquiries_last_...  \n",
       "0  had_properly_used_reservations_inquiries_last_...  \n",
       "0  had_properly_used_reservations_inquiries_last_...  \n",
       "0  had_properly_used_reservations_inquiries_last_...  \n",
       "0  had_properly_used_reservations_inquiries_last_...  "
      ]
     },
     "execution_count": 17,
     "metadata": {},
     "output_type": "execute_result"
    }
   ],
   "source": [
    "df_res[df_res['model_number']==36][['model_number', 'category', 'model_name', 'variable_name']]"
   ]
  },
  {
   "cell_type": "code",
   "execution_count": 18,
   "id": "dec4553f",
   "metadata": {},
   "outputs": [
    {
     "data": {
      "text/plain": [
       "0    68\n",
       "0    66\n",
       "0    68\n",
       "0    66\n",
       "0    68\n",
       "0    67\n",
       "0    68\n",
       "0    67\n",
       "0    68\n",
       "0    67\n",
       "0    68\n",
       "0    67\n",
       "0    67\n",
       "0    68\n",
       "Name: models, dtype: int64"
      ]
     },
     "execution_count": 18,
     "metadata": {},
     "output_type": "execute_result"
    }
   ],
   "source": [
    "df_res[df_res['model_number']==36]['models'].map(lambda x: check_model(x[0].summary))"
   ]
  },
  {
   "cell_type": "code",
   "execution_count": 19,
   "id": "20c59e14",
   "metadata": {},
   "outputs": [],
   "source": [
    "# df_res[['model_number', 'category', 'model_name', 'variable_name', 'spots_num', \n",
    "#         'exp(coef)', 'p', 'exp(coef).2', 'p.2']]"
   ]
  },
  {
   "cell_type": "code",
   "execution_count": 20,
   "id": "fe3805d3",
   "metadata": {},
   "outputs": [],
   "source": [
    "df_res_export = df_res[['model_number', 'category', 'model_name', 'variable_name', 'spots_num', \n",
    "        'exp(coef)', 'p', 'exp(coef).2', 'p.2']]"
   ]
  },
  {
   "cell_type": "code",
   "execution_count": 21,
   "id": "b0f4bceb",
   "metadata": {},
   "outputs": [
    {
     "data": {
      "text/html": [
       "<div>\n",
       "<style scoped>\n",
       "    .dataframe tbody tr th:only-of-type {\n",
       "        vertical-align: middle;\n",
       "    }\n",
       "\n",
       "    .dataframe tbody tr th {\n",
       "        vertical-align: top;\n",
       "    }\n",
       "\n",
       "    .dataframe thead th {\n",
       "        text-align: right;\n",
       "    }\n",
       "</style>\n",
       "<table border=\"1\" class=\"dataframe\">\n",
       "  <thead>\n",
       "    <tr style=\"text-align: right;\">\n",
       "      <th></th>\n",
       "      <th>model_number</th>\n",
       "      <th>category</th>\n",
       "      <th>model_name</th>\n",
       "      <th>variable_name</th>\n",
       "      <th>spots_num</th>\n",
       "      <th>exp(coef)</th>\n",
       "      <th>p</th>\n",
       "      <th>exp(coef).2</th>\n",
       "      <th>p.2</th>\n",
       "    </tr>\n",
       "  </thead>\n",
       "  <tbody>\n",
       "    <tr>\n",
       "      <th>0</th>\n",
       "      <td>39</td>\n",
       "      <td>high_end_500</td>\n",
       "      <td>properly_used_job_listings_inquiries</td>\n",
       "      <td>had_properly_used_job_listings_inquiries_last_...</td>\n",
       "      <td>2353</td>\n",
       "      <td>1.037196</td>\n",
       "      <td>0.874724</td>\n",
       "      <td>NaN</td>\n",
       "      <td>NaN</td>\n",
       "    </tr>\n",
       "    <tr>\n",
       "      <th>0</th>\n",
       "      <td>39</td>\n",
       "      <td>low_end_500</td>\n",
       "      <td>properly_used_job_listings_inquiries</td>\n",
       "      <td>had_properly_used_job_listings_inquiries_last_...</td>\n",
       "      <td>219</td>\n",
       "      <td>0.253921</td>\n",
       "      <td>0.701943</td>\n",
       "      <td>NaN</td>\n",
       "      <td>NaN</td>\n",
       "    </tr>\n",
       "    <tr>\n",
       "      <th>0</th>\n",
       "      <td>39</td>\n",
       "      <td>high_end_700</td>\n",
       "      <td>properly_used_job_listings_inquiries</td>\n",
       "      <td>had_properly_used_job_listings_inquiries_last_...</td>\n",
       "      <td>2246</td>\n",
       "      <td>1.106328</td>\n",
       "      <td>0.667654</td>\n",
       "      <td>NaN</td>\n",
       "      <td>NaN</td>\n",
       "    </tr>\n",
       "    <tr>\n",
       "      <th>0</th>\n",
       "      <td>39</td>\n",
       "      <td>low_end_700</td>\n",
       "      <td>properly_used_job_listings_inquiries</td>\n",
       "      <td>had_properly_used_job_listings_inquiries_last_...</td>\n",
       "      <td>326</td>\n",
       "      <td>0.159983</td>\n",
       "      <td>0.323348</td>\n",
       "      <td>NaN</td>\n",
       "      <td>NaN</td>\n",
       "    </tr>\n",
       "    <tr>\n",
       "      <th>0</th>\n",
       "      <td>39</td>\n",
       "      <td>high_end_1000</td>\n",
       "      <td>properly_used_job_listings_inquiries</td>\n",
       "      <td>had_properly_used_job_listings_inquiries_last_...</td>\n",
       "      <td>2023</td>\n",
       "      <td>1.147338</td>\n",
       "      <td>0.571590</td>\n",
       "      <td>NaN</td>\n",
       "      <td>NaN</td>\n",
       "    </tr>\n",
       "    <tr>\n",
       "      <th>0</th>\n",
       "      <td>39</td>\n",
       "      <td>low_end_1000</td>\n",
       "      <td>properly_used_job_listings_inquiries</td>\n",
       "      <td>had_properly_used_job_listings_inquiries_last_...</td>\n",
       "      <td>549</td>\n",
       "      <td>0.144368</td>\n",
       "      <td>0.096493</td>\n",
       "      <td>0.155964</td>\n",
       "      <td>0.097806</td>\n",
       "    </tr>\n",
       "    <tr>\n",
       "      <th>0</th>\n",
       "      <td>39</td>\n",
       "      <td>high_end_1200</td>\n",
       "      <td>properly_used_job_listings_inquiries</td>\n",
       "      <td>had_properly_used_job_listings_inquiries_last_...</td>\n",
       "      <td>1874</td>\n",
       "      <td>1.229224</td>\n",
       "      <td>0.409980</td>\n",
       "      <td>NaN</td>\n",
       "      <td>NaN</td>\n",
       "    </tr>\n",
       "    <tr>\n",
       "      <th>0</th>\n",
       "      <td>39</td>\n",
       "      <td>low_end_1200</td>\n",
       "      <td>properly_used_job_listings_inquiries</td>\n",
       "      <td>had_properly_used_job_listings_inquiries_last_...</td>\n",
       "      <td>698</td>\n",
       "      <td>0.190610</td>\n",
       "      <td>0.090525</td>\n",
       "      <td>0.165350</td>\n",
       "      <td>0.055223</td>\n",
       "    </tr>\n",
       "    <tr>\n",
       "      <th>0</th>\n",
       "      <td>39</td>\n",
       "      <td>high_end_1500</td>\n",
       "      <td>properly_used_job_listings_inquiries</td>\n",
       "      <td>had_properly_used_job_listings_inquiries_last_...</td>\n",
       "      <td>1665</td>\n",
       "      <td>1.257852</td>\n",
       "      <td>0.377764</td>\n",
       "      <td>NaN</td>\n",
       "      <td>NaN</td>\n",
       "    </tr>\n",
       "    <tr>\n",
       "      <th>0</th>\n",
       "      <td>39</td>\n",
       "      <td>low_end_1500</td>\n",
       "      <td>properly_used_job_listings_inquiries</td>\n",
       "      <td>had_properly_used_job_listings_inquiries_last_...</td>\n",
       "      <td>907</td>\n",
       "      <td>0.241478</td>\n",
       "      <td>0.068725</td>\n",
       "      <td>0.207087</td>\n",
       "      <td>0.035242</td>\n",
       "    </tr>\n",
       "    <tr>\n",
       "      <th>0</th>\n",
       "      <td>39</td>\n",
       "      <td>high_end_1700</td>\n",
       "      <td>properly_used_job_listings_inquiries</td>\n",
       "      <td>had_properly_used_job_listings_inquiries_last_...</td>\n",
       "      <td>1525</td>\n",
       "      <td>1.264241</td>\n",
       "      <td>0.385484</td>\n",
       "      <td>NaN</td>\n",
       "      <td>NaN</td>\n",
       "    </tr>\n",
       "    <tr>\n",
       "      <th>0</th>\n",
       "      <td>39</td>\n",
       "      <td>low_end_1700</td>\n",
       "      <td>properly_used_job_listings_inquiries</td>\n",
       "      <td>had_properly_used_job_listings_inquiries_last_...</td>\n",
       "      <td>1047</td>\n",
       "      <td>0.391381</td>\n",
       "      <td>0.125575</td>\n",
       "      <td>0.338955</td>\n",
       "      <td>0.066303</td>\n",
       "    </tr>\n",
       "    <tr>\n",
       "      <th>0</th>\n",
       "      <td>39</td>\n",
       "      <td>high_end_2000</td>\n",
       "      <td>properly_used_job_listings_inquiries</td>\n",
       "      <td>had_properly_used_job_listings_inquiries_last_...</td>\n",
       "      <td>1324</td>\n",
       "      <td>1.242357</td>\n",
       "      <td>0.454549</td>\n",
       "      <td>NaN</td>\n",
       "      <td>NaN</td>\n",
       "    </tr>\n",
       "    <tr>\n",
       "      <th>0</th>\n",
       "      <td>39</td>\n",
       "      <td>low_end_2000</td>\n",
       "      <td>properly_used_job_listings_inquiries</td>\n",
       "      <td>had_properly_used_job_listings_inquiries_last_...</td>\n",
       "      <td>1248</td>\n",
       "      <td>0.534789</td>\n",
       "      <td>0.180705</td>\n",
       "      <td>0.474735</td>\n",
       "      <td>0.097547</td>\n",
       "    </tr>\n",
       "  </tbody>\n",
       "</table>\n",
       "</div>"
      ],
      "text/plain": [
       "   model_number       category                            model_name  \\\n",
       "0            39   high_end_500  properly_used_job_listings_inquiries   \n",
       "0            39    low_end_500  properly_used_job_listings_inquiries   \n",
       "0            39   high_end_700  properly_used_job_listings_inquiries   \n",
       "0            39    low_end_700  properly_used_job_listings_inquiries   \n",
       "0            39  high_end_1000  properly_used_job_listings_inquiries   \n",
       "0            39   low_end_1000  properly_used_job_listings_inquiries   \n",
       "0            39  high_end_1200  properly_used_job_listings_inquiries   \n",
       "0            39   low_end_1200  properly_used_job_listings_inquiries   \n",
       "0            39  high_end_1500  properly_used_job_listings_inquiries   \n",
       "0            39   low_end_1500  properly_used_job_listings_inquiries   \n",
       "0            39  high_end_1700  properly_used_job_listings_inquiries   \n",
       "0            39   low_end_1700  properly_used_job_listings_inquiries   \n",
       "0            39  high_end_2000  properly_used_job_listings_inquiries   \n",
       "0            39   low_end_2000  properly_used_job_listings_inquiries   \n",
       "\n",
       "                                       variable_name  spots_num  exp(coef)  \\\n",
       "0  had_properly_used_job_listings_inquiries_last_...       2353   1.037196   \n",
       "0  had_properly_used_job_listings_inquiries_last_...        219   0.253921   \n",
       "0  had_properly_used_job_listings_inquiries_last_...       2246   1.106328   \n",
       "0  had_properly_used_job_listings_inquiries_last_...        326   0.159983   \n",
       "0  had_properly_used_job_listings_inquiries_last_...       2023   1.147338   \n",
       "0  had_properly_used_job_listings_inquiries_last_...        549   0.144368   \n",
       "0  had_properly_used_job_listings_inquiries_last_...       1874   1.229224   \n",
       "0  had_properly_used_job_listings_inquiries_last_...        698   0.190610   \n",
       "0  had_properly_used_job_listings_inquiries_last_...       1665   1.257852   \n",
       "0  had_properly_used_job_listings_inquiries_last_...        907   0.241478   \n",
       "0  had_properly_used_job_listings_inquiries_last_...       1525   1.264241   \n",
       "0  had_properly_used_job_listings_inquiries_last_...       1047   0.391381   \n",
       "0  had_properly_used_job_listings_inquiries_last_...       1324   1.242357   \n",
       "0  had_properly_used_job_listings_inquiries_last_...       1248   0.534789   \n",
       "\n",
       "          p  exp(coef).2       p.2  \n",
       "0  0.874724          NaN       NaN  \n",
       "0  0.701943          NaN       NaN  \n",
       "0  0.667654          NaN       NaN  \n",
       "0  0.323348          NaN       NaN  \n",
       "0  0.571590          NaN       NaN  \n",
       "0  0.096493     0.155964  0.097806  \n",
       "0  0.409980          NaN       NaN  \n",
       "0  0.090525     0.165350  0.055223  \n",
       "0  0.377764          NaN       NaN  \n",
       "0  0.068725     0.207087  0.035242  \n",
       "0  0.385484          NaN       NaN  \n",
       "0  0.125575     0.338955  0.066303  \n",
       "0  0.454549          NaN       NaN  \n",
       "0  0.180705     0.474735  0.097547  "
      ]
     },
     "execution_count": 21,
     "metadata": {},
     "output_type": "execute_result"
    }
   ],
   "source": [
    "df_res_export[df_res_export['model_number']==39]"
   ]
  },
  {
   "cell_type": "code",
   "execution_count": 22,
   "id": "f6af4dc3",
   "metadata": {},
   "outputs": [
    {
     "data": {
      "text/html": [
       "<div>\n",
       "<style scoped>\n",
       "    .dataframe tbody tr th:only-of-type {\n",
       "        vertical-align: middle;\n",
       "    }\n",
       "\n",
       "    .dataframe tbody tr th {\n",
       "        vertical-align: top;\n",
       "    }\n",
       "\n",
       "    .dataframe thead th {\n",
       "        text-align: right;\n",
       "    }\n",
       "</style>\n",
       "<table border=\"1\" class=\"dataframe\">\n",
       "  <thead>\n",
       "    <tr style=\"text-align: right;\">\n",
       "      <th></th>\n",
       "      <th>model_number</th>\n",
       "      <th>category</th>\n",
       "      <th>model_name</th>\n",
       "      <th>variable_name</th>\n",
       "      <th>spots_num</th>\n",
       "      <th>exp(coef)</th>\n",
       "      <th>p</th>\n",
       "      <th>exp(coef).2</th>\n",
       "      <th>p.2</th>\n",
       "    </tr>\n",
       "  </thead>\n",
       "  <tbody>\n",
       "    <tr>\n",
       "      <th>0</th>\n",
       "      <td>40</td>\n",
       "      <td>low_end_2000</td>\n",
       "      <td>properly_used_online_orders_inquiries</td>\n",
       "      <td>had_properly_used_online_orders_inquiries_last...</td>\n",
       "      <td>1248</td>\n",
       "      <td>0.811496</td>\n",
       "      <td>0.562669</td>\n",
       "      <td>NaN</td>\n",
       "      <td>NaN</td>\n",
       "    </tr>\n",
       "    <tr>\n",
       "      <th>0</th>\n",
       "      <td>40</td>\n",
       "      <td>high_end_2000</td>\n",
       "      <td>properly_used_online_orders_inquiries</td>\n",
       "      <td>had_properly_used_online_orders_inquiries_last...</td>\n",
       "      <td>1324</td>\n",
       "      <td>1.254032</td>\n",
       "      <td>0.542681</td>\n",
       "      <td>NaN</td>\n",
       "      <td>NaN</td>\n",
       "    </tr>\n",
       "    <tr>\n",
       "      <th>0</th>\n",
       "      <td>40</td>\n",
       "      <td>low_end_1700</td>\n",
       "      <td>properly_used_online_orders_inquiries</td>\n",
       "      <td>had_properly_used_online_orders_inquiries_last...</td>\n",
       "      <td>1047</td>\n",
       "      <td>0.867642</td>\n",
       "      <td>0.724516</td>\n",
       "      <td>NaN</td>\n",
       "      <td>NaN</td>\n",
       "    </tr>\n",
       "    <tr>\n",
       "      <th>0</th>\n",
       "      <td>40</td>\n",
       "      <td>high_end_1700</td>\n",
       "      <td>properly_used_online_orders_inquiries</td>\n",
       "      <td>had_properly_used_online_orders_inquiries_last...</td>\n",
       "      <td>1525</td>\n",
       "      <td>1.120845</td>\n",
       "      <td>0.737009</td>\n",
       "      <td>NaN</td>\n",
       "      <td>NaN</td>\n",
       "    </tr>\n",
       "    <tr>\n",
       "      <th>0</th>\n",
       "      <td>40</td>\n",
       "      <td>low_end_1500</td>\n",
       "      <td>properly_used_online_orders_inquiries</td>\n",
       "      <td>had_properly_used_online_orders_inquiries_last...</td>\n",
       "      <td>907</td>\n",
       "      <td>0.872238</td>\n",
       "      <td>0.754278</td>\n",
       "      <td>NaN</td>\n",
       "      <td>NaN</td>\n",
       "    </tr>\n",
       "    <tr>\n",
       "      <th>0</th>\n",
       "      <td>40</td>\n",
       "      <td>high_end_1500</td>\n",
       "      <td>properly_used_online_orders_inquiries</td>\n",
       "      <td>had_properly_used_online_orders_inquiries_last...</td>\n",
       "      <td>1665</td>\n",
       "      <td>1.146658</td>\n",
       "      <td>0.672926</td>\n",
       "      <td>NaN</td>\n",
       "      <td>NaN</td>\n",
       "    </tr>\n",
       "    <tr>\n",
       "      <th>0</th>\n",
       "      <td>40</td>\n",
       "      <td>low_end_1200</td>\n",
       "      <td>properly_used_online_orders_inquiries</td>\n",
       "      <td>had_properly_used_online_orders_inquiries_last...</td>\n",
       "      <td>698</td>\n",
       "      <td>0.659408</td>\n",
       "      <td>0.399738</td>\n",
       "      <td>NaN</td>\n",
       "      <td>NaN</td>\n",
       "    </tr>\n",
       "    <tr>\n",
       "      <th>0</th>\n",
       "      <td>40</td>\n",
       "      <td>high_end_1200</td>\n",
       "      <td>properly_used_online_orders_inquiries</td>\n",
       "      <td>had_properly_used_online_orders_inquiries_last...</td>\n",
       "      <td>1874</td>\n",
       "      <td>1.164636</td>\n",
       "      <td>0.617500</td>\n",
       "      <td>NaN</td>\n",
       "      <td>NaN</td>\n",
       "    </tr>\n",
       "    <tr>\n",
       "      <th>0</th>\n",
       "      <td>40</td>\n",
       "      <td>low_end_1000</td>\n",
       "      <td>properly_used_online_orders_inquiries</td>\n",
       "      <td>had_properly_used_online_orders_inquiries_last...</td>\n",
       "      <td>549</td>\n",
       "      <td>0.717318</td>\n",
       "      <td>0.571293</td>\n",
       "      <td>NaN</td>\n",
       "      <td>NaN</td>\n",
       "    </tr>\n",
       "    <tr>\n",
       "      <th>0</th>\n",
       "      <td>40</td>\n",
       "      <td>high_end_1000</td>\n",
       "      <td>properly_used_online_orders_inquiries</td>\n",
       "      <td>had_properly_used_online_orders_inquiries_last...</td>\n",
       "      <td>2023</td>\n",
       "      <td>1.096789</td>\n",
       "      <td>0.749796</td>\n",
       "      <td>NaN</td>\n",
       "      <td>NaN</td>\n",
       "    </tr>\n",
       "    <tr>\n",
       "      <th>0</th>\n",
       "      <td>40</td>\n",
       "      <td>low_end_700</td>\n",
       "      <td>properly_used_online_orders_inquiries</td>\n",
       "      <td>had_properly_used_online_orders_inquiries_last...</td>\n",
       "      <td>326</td>\n",
       "      <td>0.539847</td>\n",
       "      <td>0.451112</td>\n",
       "      <td>NaN</td>\n",
       "      <td>NaN</td>\n",
       "    </tr>\n",
       "    <tr>\n",
       "      <th>0</th>\n",
       "      <td>40</td>\n",
       "      <td>high_end_700</td>\n",
       "      <td>properly_used_online_orders_inquiries</td>\n",
       "      <td>had_properly_used_online_orders_inquiries_last...</td>\n",
       "      <td>2246</td>\n",
       "      <td>0.978642</td>\n",
       "      <td>0.936765</td>\n",
       "      <td>NaN</td>\n",
       "      <td>NaN</td>\n",
       "    </tr>\n",
       "    <tr>\n",
       "      <th>0</th>\n",
       "      <td>40</td>\n",
       "      <td>low_end_500</td>\n",
       "      <td>properly_used_online_orders_inquiries</td>\n",
       "      <td>had_properly_used_online_orders_inquiries_last...</td>\n",
       "      <td>219</td>\n",
       "      <td>0.181145</td>\n",
       "      <td>0.189404</td>\n",
       "      <td>0.119482</td>\n",
       "      <td>0.013914</td>\n",
       "    </tr>\n",
       "    <tr>\n",
       "      <th>0</th>\n",
       "      <td>40</td>\n",
       "      <td>high_end_500</td>\n",
       "      <td>properly_used_online_orders_inquiries</td>\n",
       "      <td>had_properly_used_online_orders_inquiries_last...</td>\n",
       "      <td>2353</td>\n",
       "      <td>0.993438</td>\n",
       "      <td>0.980105</td>\n",
       "      <td>NaN</td>\n",
       "      <td>NaN</td>\n",
       "    </tr>\n",
       "  </tbody>\n",
       "</table>\n",
       "</div>"
      ],
      "text/plain": [
       "   model_number       category                             model_name  \\\n",
       "0            40   low_end_2000  properly_used_online_orders_inquiries   \n",
       "0            40  high_end_2000  properly_used_online_orders_inquiries   \n",
       "0            40   low_end_1700  properly_used_online_orders_inquiries   \n",
       "0            40  high_end_1700  properly_used_online_orders_inquiries   \n",
       "0            40   low_end_1500  properly_used_online_orders_inquiries   \n",
       "0            40  high_end_1500  properly_used_online_orders_inquiries   \n",
       "0            40   low_end_1200  properly_used_online_orders_inquiries   \n",
       "0            40  high_end_1200  properly_used_online_orders_inquiries   \n",
       "0            40   low_end_1000  properly_used_online_orders_inquiries   \n",
       "0            40  high_end_1000  properly_used_online_orders_inquiries   \n",
       "0            40    low_end_700  properly_used_online_orders_inquiries   \n",
       "0            40   high_end_700  properly_used_online_orders_inquiries   \n",
       "0            40    low_end_500  properly_used_online_orders_inquiries   \n",
       "0            40   high_end_500  properly_used_online_orders_inquiries   \n",
       "\n",
       "                                       variable_name  spots_num  exp(coef)  \\\n",
       "0  had_properly_used_online_orders_inquiries_last...       1248   0.811496   \n",
       "0  had_properly_used_online_orders_inquiries_last...       1324   1.254032   \n",
       "0  had_properly_used_online_orders_inquiries_last...       1047   0.867642   \n",
       "0  had_properly_used_online_orders_inquiries_last...       1525   1.120845   \n",
       "0  had_properly_used_online_orders_inquiries_last...        907   0.872238   \n",
       "0  had_properly_used_online_orders_inquiries_last...       1665   1.146658   \n",
       "0  had_properly_used_online_orders_inquiries_last...        698   0.659408   \n",
       "0  had_properly_used_online_orders_inquiries_last...       1874   1.164636   \n",
       "0  had_properly_used_online_orders_inquiries_last...        549   0.717318   \n",
       "0  had_properly_used_online_orders_inquiries_last...       2023   1.096789   \n",
       "0  had_properly_used_online_orders_inquiries_last...        326   0.539847   \n",
       "0  had_properly_used_online_orders_inquiries_last...       2246   0.978642   \n",
       "0  had_properly_used_online_orders_inquiries_last...        219   0.181145   \n",
       "0  had_properly_used_online_orders_inquiries_last...       2353   0.993438   \n",
       "\n",
       "          p  exp(coef).2       p.2  \n",
       "0  0.562669          NaN       NaN  \n",
       "0  0.542681          NaN       NaN  \n",
       "0  0.724516          NaN       NaN  \n",
       "0  0.737009          NaN       NaN  \n",
       "0  0.754278          NaN       NaN  \n",
       "0  0.672926          NaN       NaN  \n",
       "0  0.399738          NaN       NaN  \n",
       "0  0.617500          NaN       NaN  \n",
       "0  0.571293          NaN       NaN  \n",
       "0  0.749796          NaN       NaN  \n",
       "0  0.451112          NaN       NaN  \n",
       "0  0.936765          NaN       NaN  \n",
       "0  0.189404     0.119482  0.013914  \n",
       "0  0.980105          NaN       NaN  "
      ]
     },
     "execution_count": 22,
     "metadata": {},
     "output_type": "execute_result"
    }
   ],
   "source": [
    "df_res_export[df_res_export['model_number']==40][::-1]"
   ]
  },
  {
   "cell_type": "code",
   "execution_count": 23,
   "id": "03c9ffe0",
   "metadata": {},
   "outputs": [
    {
     "data": {
      "text/html": [
       "<div>\n",
       "<style scoped>\n",
       "    .dataframe tbody tr th:only-of-type {\n",
       "        vertical-align: middle;\n",
       "    }\n",
       "\n",
       "    .dataframe tbody tr th {\n",
       "        vertical-align: top;\n",
       "    }\n",
       "\n",
       "    .dataframe thead th {\n",
       "        text-align: right;\n",
       "    }\n",
       "</style>\n",
       "<table border=\"1\" class=\"dataframe\">\n",
       "  <thead>\n",
       "    <tr style=\"text-align: right;\">\n",
       "      <th></th>\n",
       "      <th>coef</th>\n",
       "      <th>exp(coef)</th>\n",
       "      <th>se(coef)</th>\n",
       "      <th>coef lower 95%</th>\n",
       "      <th>coef upper 95%</th>\n",
       "      <th>exp(coef) lower 95%</th>\n",
       "      <th>exp(coef) upper 95%</th>\n",
       "      <th>cmp to</th>\n",
       "      <th>z</th>\n",
       "      <th>p</th>\n",
       "      <th>-log2(p)</th>\n",
       "    </tr>\n",
       "    <tr>\n",
       "      <th>covariate</th>\n",
       "      <th></th>\n",
       "      <th></th>\n",
       "      <th></th>\n",
       "      <th></th>\n",
       "      <th></th>\n",
       "      <th></th>\n",
       "      <th></th>\n",
       "      <th></th>\n",
       "      <th></th>\n",
       "      <th></th>\n",
       "      <th></th>\n",
       "    </tr>\n",
       "  </thead>\n",
       "  <tbody>\n",
       "    <tr>\n",
       "      <th>had_properly_used_online_orders_inquiries_last_2_months</th>\n",
       "      <td>-0.006583</td>\n",
       "      <td>0.993438</td>\n",
       "      <td>0.263991</td>\n",
       "      <td>-0.523997</td>\n",
       "      <td>0.51083</td>\n",
       "      <td>0.592149</td>\n",
       "      <td>1.666674</td>\n",
       "      <td>0.0</td>\n",
       "      <td>-0.024937</td>\n",
       "      <td>0.980105</td>\n",
       "      <td>0.028991</td>\n",
       "    </tr>\n",
       "  </tbody>\n",
       "</table>\n",
       "</div>"
      ],
      "text/plain": [
       "                                                        coef  exp(coef)  \\\n",
       "covariate                                                                 \n",
       "had_properly_used_online_orders_inquiries_last_... -0.006583   0.993438   \n",
       "\n",
       "                                                    se(coef)  coef lower 95%  \\\n",
       "covariate                                                                      \n",
       "had_properly_used_online_orders_inquiries_last_...  0.263991       -0.523997   \n",
       "\n",
       "                                                    coef upper 95%  \\\n",
       "covariate                                                            \n",
       "had_properly_used_online_orders_inquiries_last_...         0.51083   \n",
       "\n",
       "                                                    exp(coef) lower 95%  \\\n",
       "covariate                                                                 \n",
       "had_properly_used_online_orders_inquiries_last_...             0.592149   \n",
       "\n",
       "                                                    exp(coef) upper 95%  \\\n",
       "covariate                                                                 \n",
       "had_properly_used_online_orders_inquiries_last_...             1.666674   \n",
       "\n",
       "                                                    cmp to         z  \\\n",
       "covariate                                                              \n",
       "had_properly_used_online_orders_inquiries_last_...     0.0 -0.024937   \n",
       "\n",
       "                                                           p  -log2(p)  \n",
       "covariate                                                               \n",
       "had_properly_used_online_orders_inquiries_last_...  0.980105  0.028991  "
      ]
     },
     "execution_count": 23,
     "metadata": {},
     "output_type": "execute_result"
    }
   ],
   "source": [
    "df_res[df_res_export['model_number']==40]['models'].iloc[0][0].summary[df_res[df_res_export['model_number']==40]['models'].iloc[0][0].summary.index==\\\n",
    "'had_properly_used_online_orders_inquiries_last_2_months']"
   ]
  },
  {
   "cell_type": "code",
   "execution_count": 24,
   "id": "3ceae7f7",
   "metadata": {},
   "outputs": [],
   "source": [
    "df_res_export[df_res_export['model_number']==36][::-1]\\\n",
    ".to_csv('properly_used_reservations_set_CAN_CANCEL_01_01_2023.csv', index=False)"
   ]
  },
  {
   "cell_type": "code",
   "execution_count": 25,
   "id": "bfe2380d",
   "metadata": {},
   "outputs": [],
   "source": [
    "df_res_export[df_res_export['model_number']==37][::-1]\\\n",
    ".to_csv('properly_used_catering_set_CAN_CANCEL_01_01_2023.csv', index=False)"
   ]
  },
  {
   "cell_type": "code",
   "execution_count": 26,
   "id": "fa2471c5",
   "metadata": {},
   "outputs": [],
   "source": [
    "df_res_export[df_res_export['model_number']==38][::-1]\\\n",
    ".to_csv('properly_used_private_parties_set_CAN_CANCEL_01_01_2023.csv', index=False)"
   ]
  },
  {
   "cell_type": "code",
   "execution_count": 27,
   "id": "62a4eb6a",
   "metadata": {},
   "outputs": [],
   "source": [
    "df_res_export[df_res_export['model_number']==39][::-1]\\\n",
    ".to_csv('properly_used_job_listings_set_CAN_CANCEL_01_01_2023.csv', index=False)"
   ]
  },
  {
   "cell_type": "code",
   "execution_count": 28,
   "id": "f7912b45",
   "metadata": {},
   "outputs": [],
   "source": [
    "df_res_export[df_res_export['model_number']==40][::-1]\\\n",
    ".to_csv('properly_used_online_orders_set_CAN_CANCEL_01_01_2023.csv', index=False)"
   ]
  },
  {
   "cell_type": "code",
   "execution_count": 29,
   "id": "6e3d90a1",
   "metadata": {},
   "outputs": [
    {
     "data": {
      "text/html": [
       "<div>\n",
       "<style scoped>\n",
       "    .dataframe tbody tr th:only-of-type {\n",
       "        vertical-align: middle;\n",
       "    }\n",
       "\n",
       "    .dataframe tbody tr th {\n",
       "        vertical-align: top;\n",
       "    }\n",
       "\n",
       "    .dataframe thead th {\n",
       "        text-align: right;\n",
       "    }\n",
       "</style>\n",
       "<table border=\"1\" class=\"dataframe\">\n",
       "  <thead>\n",
       "    <tr style=\"text-align: right;\">\n",
       "      <th></th>\n",
       "      <th>model_number</th>\n",
       "      <th>category</th>\n",
       "      <th>model_name</th>\n",
       "      <th>variable_name</th>\n",
       "      <th>spots_num</th>\n",
       "      <th>exp(coef)</th>\n",
       "      <th>p</th>\n",
       "      <th>exp(coef).2</th>\n",
       "      <th>p.2</th>\n",
       "    </tr>\n",
       "  </thead>\n",
       "  <tbody>\n",
       "    <tr>\n",
       "      <th>0</th>\n",
       "      <td>40</td>\n",
       "      <td>high_end_500</td>\n",
       "      <td>properly_used_online_orders_inquiries</td>\n",
       "      <td>had_properly_used_online_orders_inquiries_last...</td>\n",
       "      <td>2353</td>\n",
       "      <td>0.993438</td>\n",
       "      <td>0.980105</td>\n",
       "      <td>NaN</td>\n",
       "      <td>NaN</td>\n",
       "    </tr>\n",
       "    <tr>\n",
       "      <th>0</th>\n",
       "      <td>40</td>\n",
       "      <td>low_end_500</td>\n",
       "      <td>properly_used_online_orders_inquiries</td>\n",
       "      <td>had_properly_used_online_orders_inquiries_last...</td>\n",
       "      <td>219</td>\n",
       "      <td>0.181145</td>\n",
       "      <td>0.189404</td>\n",
       "      <td>0.119482</td>\n",
       "      <td>0.013914</td>\n",
       "    </tr>\n",
       "    <tr>\n",
       "      <th>0</th>\n",
       "      <td>40</td>\n",
       "      <td>high_end_700</td>\n",
       "      <td>properly_used_online_orders_inquiries</td>\n",
       "      <td>had_properly_used_online_orders_inquiries_last...</td>\n",
       "      <td>2246</td>\n",
       "      <td>0.978642</td>\n",
       "      <td>0.936765</td>\n",
       "      <td>NaN</td>\n",
       "      <td>NaN</td>\n",
       "    </tr>\n",
       "    <tr>\n",
       "      <th>0</th>\n",
       "      <td>40</td>\n",
       "      <td>low_end_700</td>\n",
       "      <td>properly_used_online_orders_inquiries</td>\n",
       "      <td>had_properly_used_online_orders_inquiries_last...</td>\n",
       "      <td>326</td>\n",
       "      <td>0.539847</td>\n",
       "      <td>0.451112</td>\n",
       "      <td>NaN</td>\n",
       "      <td>NaN</td>\n",
       "    </tr>\n",
       "    <tr>\n",
       "      <th>0</th>\n",
       "      <td>40</td>\n",
       "      <td>high_end_1000</td>\n",
       "      <td>properly_used_online_orders_inquiries</td>\n",
       "      <td>had_properly_used_online_orders_inquiries_last...</td>\n",
       "      <td>2023</td>\n",
       "      <td>1.096789</td>\n",
       "      <td>0.749796</td>\n",
       "      <td>NaN</td>\n",
       "      <td>NaN</td>\n",
       "    </tr>\n",
       "    <tr>\n",
       "      <th>0</th>\n",
       "      <td>40</td>\n",
       "      <td>low_end_1000</td>\n",
       "      <td>properly_used_online_orders_inquiries</td>\n",
       "      <td>had_properly_used_online_orders_inquiries_last...</td>\n",
       "      <td>549</td>\n",
       "      <td>0.717318</td>\n",
       "      <td>0.571293</td>\n",
       "      <td>NaN</td>\n",
       "      <td>NaN</td>\n",
       "    </tr>\n",
       "    <tr>\n",
       "      <th>0</th>\n",
       "      <td>40</td>\n",
       "      <td>high_end_1200</td>\n",
       "      <td>properly_used_online_orders_inquiries</td>\n",
       "      <td>had_properly_used_online_orders_inquiries_last...</td>\n",
       "      <td>1874</td>\n",
       "      <td>1.164636</td>\n",
       "      <td>0.617500</td>\n",
       "      <td>NaN</td>\n",
       "      <td>NaN</td>\n",
       "    </tr>\n",
       "    <tr>\n",
       "      <th>0</th>\n",
       "      <td>40</td>\n",
       "      <td>low_end_1200</td>\n",
       "      <td>properly_used_online_orders_inquiries</td>\n",
       "      <td>had_properly_used_online_orders_inquiries_last...</td>\n",
       "      <td>698</td>\n",
       "      <td>0.659408</td>\n",
       "      <td>0.399738</td>\n",
       "      <td>NaN</td>\n",
       "      <td>NaN</td>\n",
       "    </tr>\n",
       "    <tr>\n",
       "      <th>0</th>\n",
       "      <td>40</td>\n",
       "      <td>high_end_1500</td>\n",
       "      <td>properly_used_online_orders_inquiries</td>\n",
       "      <td>had_properly_used_online_orders_inquiries_last...</td>\n",
       "      <td>1665</td>\n",
       "      <td>1.146658</td>\n",
       "      <td>0.672926</td>\n",
       "      <td>NaN</td>\n",
       "      <td>NaN</td>\n",
       "    </tr>\n",
       "    <tr>\n",
       "      <th>0</th>\n",
       "      <td>40</td>\n",
       "      <td>low_end_1500</td>\n",
       "      <td>properly_used_online_orders_inquiries</td>\n",
       "      <td>had_properly_used_online_orders_inquiries_last...</td>\n",
       "      <td>907</td>\n",
       "      <td>0.872238</td>\n",
       "      <td>0.754278</td>\n",
       "      <td>NaN</td>\n",
       "      <td>NaN</td>\n",
       "    </tr>\n",
       "    <tr>\n",
       "      <th>0</th>\n",
       "      <td>40</td>\n",
       "      <td>high_end_1700</td>\n",
       "      <td>properly_used_online_orders_inquiries</td>\n",
       "      <td>had_properly_used_online_orders_inquiries_last...</td>\n",
       "      <td>1525</td>\n",
       "      <td>1.120845</td>\n",
       "      <td>0.737009</td>\n",
       "      <td>NaN</td>\n",
       "      <td>NaN</td>\n",
       "    </tr>\n",
       "    <tr>\n",
       "      <th>0</th>\n",
       "      <td>40</td>\n",
       "      <td>low_end_1700</td>\n",
       "      <td>properly_used_online_orders_inquiries</td>\n",
       "      <td>had_properly_used_online_orders_inquiries_last...</td>\n",
       "      <td>1047</td>\n",
       "      <td>0.867642</td>\n",
       "      <td>0.724516</td>\n",
       "      <td>NaN</td>\n",
       "      <td>NaN</td>\n",
       "    </tr>\n",
       "    <tr>\n",
       "      <th>0</th>\n",
       "      <td>40</td>\n",
       "      <td>high_end_2000</td>\n",
       "      <td>properly_used_online_orders_inquiries</td>\n",
       "      <td>had_properly_used_online_orders_inquiries_last...</td>\n",
       "      <td>1324</td>\n",
       "      <td>1.254032</td>\n",
       "      <td>0.542681</td>\n",
       "      <td>NaN</td>\n",
       "      <td>NaN</td>\n",
       "    </tr>\n",
       "    <tr>\n",
       "      <th>0</th>\n",
       "      <td>40</td>\n",
       "      <td>low_end_2000</td>\n",
       "      <td>properly_used_online_orders_inquiries</td>\n",
       "      <td>had_properly_used_online_orders_inquiries_last...</td>\n",
       "      <td>1248</td>\n",
       "      <td>0.811496</td>\n",
       "      <td>0.562669</td>\n",
       "      <td>NaN</td>\n",
       "      <td>NaN</td>\n",
       "    </tr>\n",
       "  </tbody>\n",
       "</table>\n",
       "</div>"
      ],
      "text/plain": [
       "   model_number       category                             model_name  \\\n",
       "0            40   high_end_500  properly_used_online_orders_inquiries   \n",
       "0            40    low_end_500  properly_used_online_orders_inquiries   \n",
       "0            40   high_end_700  properly_used_online_orders_inquiries   \n",
       "0            40    low_end_700  properly_used_online_orders_inquiries   \n",
       "0            40  high_end_1000  properly_used_online_orders_inquiries   \n",
       "0            40   low_end_1000  properly_used_online_orders_inquiries   \n",
       "0            40  high_end_1200  properly_used_online_orders_inquiries   \n",
       "0            40   low_end_1200  properly_used_online_orders_inquiries   \n",
       "0            40  high_end_1500  properly_used_online_orders_inquiries   \n",
       "0            40   low_end_1500  properly_used_online_orders_inquiries   \n",
       "0            40  high_end_1700  properly_used_online_orders_inquiries   \n",
       "0            40   low_end_1700  properly_used_online_orders_inquiries   \n",
       "0            40  high_end_2000  properly_used_online_orders_inquiries   \n",
       "0            40   low_end_2000  properly_used_online_orders_inquiries   \n",
       "\n",
       "                                       variable_name  spots_num  exp(coef)  \\\n",
       "0  had_properly_used_online_orders_inquiries_last...       2353   0.993438   \n",
       "0  had_properly_used_online_orders_inquiries_last...        219   0.181145   \n",
       "0  had_properly_used_online_orders_inquiries_last...       2246   0.978642   \n",
       "0  had_properly_used_online_orders_inquiries_last...        326   0.539847   \n",
       "0  had_properly_used_online_orders_inquiries_last...       2023   1.096789   \n",
       "0  had_properly_used_online_orders_inquiries_last...        549   0.717318   \n",
       "0  had_properly_used_online_orders_inquiries_last...       1874   1.164636   \n",
       "0  had_properly_used_online_orders_inquiries_last...        698   0.659408   \n",
       "0  had_properly_used_online_orders_inquiries_last...       1665   1.146658   \n",
       "0  had_properly_used_online_orders_inquiries_last...        907   0.872238   \n",
       "0  had_properly_used_online_orders_inquiries_last...       1525   1.120845   \n",
       "0  had_properly_used_online_orders_inquiries_last...       1047   0.867642   \n",
       "0  had_properly_used_online_orders_inquiries_last...       1324   1.254032   \n",
       "0  had_properly_used_online_orders_inquiries_last...       1248   0.811496   \n",
       "\n",
       "          p  exp(coef).2       p.2  \n",
       "0  0.980105          NaN       NaN  \n",
       "0  0.189404     0.119482  0.013914  \n",
       "0  0.936765          NaN       NaN  \n",
       "0  0.451112          NaN       NaN  \n",
       "0  0.749796          NaN       NaN  \n",
       "0  0.571293          NaN       NaN  \n",
       "0  0.617500          NaN       NaN  \n",
       "0  0.399738          NaN       NaN  \n",
       "0  0.672926          NaN       NaN  \n",
       "0  0.754278          NaN       NaN  \n",
       "0  0.737009          NaN       NaN  \n",
       "0  0.724516          NaN       NaN  \n",
       "0  0.542681          NaN       NaN  \n",
       "0  0.562669          NaN       NaN  "
      ]
     },
     "execution_count": 29,
     "metadata": {},
     "output_type": "execute_result"
    }
   ],
   "source": [
    "df_res[df_res['model_number']==40][['model_number', 'category', \n",
    "                                    'model_name', 'variable_name', \n",
    "                                    'spots_num', 'exp(coef)', 'p', 'exp(coef).2', 'p.2']]"
   ]
  },
  {
   "cell_type": "code",
   "execution_count": 30,
   "id": "63eaf7f7",
   "metadata": {},
   "outputs": [
    {
     "data": {
      "text/html": [
       "<div>\n",
       "<style scoped>\n",
       "    .dataframe tbody tr th:only-of-type {\n",
       "        vertical-align: middle;\n",
       "    }\n",
       "\n",
       "    .dataframe tbody tr th {\n",
       "        vertical-align: top;\n",
       "    }\n",
       "\n",
       "    .dataframe thead th {\n",
       "        text-align: right;\n",
       "    }\n",
       "</style>\n",
       "<table border=\"1\" class=\"dataframe\">\n",
       "  <thead>\n",
       "    <tr style=\"text-align: right;\">\n",
       "      <th></th>\n",
       "      <th>model_number</th>\n",
       "      <th>category</th>\n",
       "      <th>model_name</th>\n",
       "      <th>variable_name</th>\n",
       "      <th>spots_num</th>\n",
       "      <th>exp(coef)</th>\n",
       "      <th>p</th>\n",
       "      <th>exp(coef).2</th>\n",
       "      <th>p.2</th>\n",
       "    </tr>\n",
       "  </thead>\n",
       "  <tbody>\n",
       "    <tr>\n",
       "      <th>0</th>\n",
       "      <td>40</td>\n",
       "      <td>low_end_500</td>\n",
       "      <td>properly_used_online_orders_inquiries</td>\n",
       "      <td>had_properly_used_online_orders_inquiries_last...</td>\n",
       "      <td>219</td>\n",
       "      <td>0.181145</td>\n",
       "      <td>0.189404</td>\n",
       "      <td>0.119482</td>\n",
       "      <td>0.013914</td>\n",
       "    </tr>\n",
       "  </tbody>\n",
       "</table>\n",
       "</div>"
      ],
      "text/plain": [
       "   model_number     category                             model_name  \\\n",
       "0            40  low_end_500  properly_used_online_orders_inquiries   \n",
       "\n",
       "                                       variable_name  spots_num  exp(coef)  \\\n",
       "0  had_properly_used_online_orders_inquiries_last...        219   0.181145   \n",
       "\n",
       "          p  exp(coef).2       p.2  \n",
       "0  0.189404     0.119482  0.013914  "
      ]
     },
     "execution_count": 30,
     "metadata": {},
     "output_type": "execute_result"
    }
   ],
   "source": [
    "df_res[(df_res['model_number']==40) & (df_res['category'].isin(['low_end_500']))]\\\n",
    "[['model_number', 'category', 'model_name', \n",
    "  'variable_name', 'spots_num', 'exp(coef)', 'p', 'exp(coef).2', 'p.2']]"
   ]
  },
  {
   "cell_type": "code",
   "execution_count": 31,
   "id": "b8a82b53",
   "metadata": {},
   "outputs": [
    {
     "data": {
      "text/plain": [
       "Index(['Annual Commitment with 2 semi-annual payments', 'Annual Prepay',\n",
       "       'Fb.page.likes.analysis.avg.log2', 'Monthly',\n",
       "       'New.email.subscriber.signups.last.month.div10',\n",
       "       'New.email.subscribers.allinclusive.last.month.div10',\n",
       "       'Opted.out.of.facebook', 'SpotHopper_site_not_live_yet',\n",
       "       'Website.Views.last.month.total.log2',\n",
       "       'had_added_events_manually_edited_events_before_and_didnt_last_4_months',\n",
       "       ...\n",
       "       'spot_category_Sports Bar', 'spot_category_Sushi',\n",
       "       'spot_category_other', 'their_own_website_dontKnow',\n",
       "       'their_own_website_no', 'year_become_customer_2018.0',\n",
       "       'year_become_customer_2019.0', 'year_become_customer_2020.0',\n",
       "       'year_become_customer_2021.0', 'year_become_customer_2022.0'],\n",
       "      dtype='object', name='covariate', length=149)"
      ]
     },
     "execution_count": 31,
     "metadata": {},
     "output_type": "execute_result"
    }
   ],
   "source": [
    "df_res[(df_res['model_number']==40) & (df_res['category'].isin(['low_end_500']))]['models'].iloc[0][0]\\\n",
    ".summary.index"
   ]
  },
  {
   "cell_type": "code",
   "execution_count": 32,
   "id": "dadc0c03",
   "metadata": {},
   "outputs": [],
   "source": [
    "def compare_models_vars(model_0, model_1):\n",
    "    \n",
    "    vars_ = model_0.summary.index\n",
    "    vars_ = [x[:-1] if x.endswith('\\t') else x for x in vars_]\n",
    "    vars_ = [x[4:] if x.startswith('had_') else x for x in vars_]\n",
    "    vars_ = [x[:-14] if x.endswith('_months') else x for x in vars_]\n",
    "    vars_ = [x[:-17] if x.endswith('_before_and_didnt') else x for x in vars_]\n",
    "    vars_ = [x[:-32] if x.endswith('_before_and_didnt_last_4_months') else x for x in vars_]\n",
    "    # vars_ = [i for i in vars_ if not(i.startswith('metro_area_') or i.startswith('spot_category_'))]\n",
    "    # vars_ = [x[:-15] if x.endswith('_last_4_months\\t') else x for x in vars_]\n",
    "    vars_ = sorted(pd.Series(vars_).unique())\n",
    "    \n",
    "    vars_1 = model_1.summary.index\n",
    "    vars_1 = [x[:-1] if x.endswith('\\t') else x for x in vars_1]\n",
    "    vars_1 = [x[4:] if x.startswith('had_') else x for x in vars_1]\n",
    "    vars_1 = [x[:-14] if x.endswith('_months') else x for x in vars_1]\n",
    "    vars_1 = [x[:-17] if x.endswith('_before_and_didnt') else x for x in vars_1]\n",
    "    vars_1 = [x[:-32] if x.endswith('_before_and_didnt_last_4_months') else x for x in vars_1]\n",
    "    # vars_1 = [i for i in vars_1 if not(i.startswith('metro_area_') or i.startswith('spot_category_'))]\n",
    "    # vars_1 = [x[:-15] if x.endswith('_last_4_months\\t') else x for x in vars_1]\n",
    "    vars_1 = sorted(pd.Series(vars_1).unique())\n",
    "    \n",
    "    return(vars_, vars_1)"
   ]
  },
  {
   "cell_type": "code",
   "execution_count": 33,
   "id": "aa640650",
   "metadata": {},
   "outputs": [],
   "source": [
    "df_res['num_of_removed_vars'] = df_res['models'].map(lambda x: compare_models_vars(x[0], x[1]))\\\n",
    ".map(lambda x: len([i for i in x[0] if i not in x[1]]))"
   ]
  },
  {
   "cell_type": "code",
   "execution_count": 34,
   "id": "7235c156",
   "metadata": {},
   "outputs": [
    {
     "data": {
      "text/html": [
       "<div>\n",
       "<style scoped>\n",
       "    .dataframe tbody tr th:only-of-type {\n",
       "        vertical-align: middle;\n",
       "    }\n",
       "\n",
       "    .dataframe tbody tr th {\n",
       "        vertical-align: top;\n",
       "    }\n",
       "\n",
       "    .dataframe thead th {\n",
       "        text-align: right;\n",
       "    }\n",
       "</style>\n",
       "<table border=\"1\" class=\"dataframe\">\n",
       "  <thead>\n",
       "    <tr style=\"text-align: right;\">\n",
       "      <th></th>\n",
       "      <th>model_number</th>\n",
       "      <th>category</th>\n",
       "      <th>model_name</th>\n",
       "      <th>num_of_removed_vars</th>\n",
       "      <th>variable_name</th>\n",
       "      <th>spots_num</th>\n",
       "      <th>exp(coef)</th>\n",
       "      <th>p</th>\n",
       "      <th>exp(coef).2</th>\n",
       "      <th>p.2</th>\n",
       "    </tr>\n",
       "  </thead>\n",
       "  <tbody>\n",
       "    <tr>\n",
       "      <th>0</th>\n",
       "      <td>40</td>\n",
       "      <td>low_end_500</td>\n",
       "      <td>properly_used_online_orders_inquiries</td>\n",
       "      <td>73</td>\n",
       "      <td>had_properly_used_online_orders_inquiries_last...</td>\n",
       "      <td>219</td>\n",
       "      <td>0.181145</td>\n",
       "      <td>0.189404</td>\n",
       "      <td>0.119482</td>\n",
       "      <td>0.013914</td>\n",
       "    </tr>\n",
       "  </tbody>\n",
       "</table>\n",
       "</div>"
      ],
      "text/plain": [
       "   model_number     category                             model_name  \\\n",
       "0            40  low_end_500  properly_used_online_orders_inquiries   \n",
       "\n",
       "   num_of_removed_vars                                      variable_name  \\\n",
       "0                   73  had_properly_used_online_orders_inquiries_last...   \n",
       "\n",
       "   spots_num  exp(coef)         p  exp(coef).2       p.2  \n",
       "0        219   0.181145  0.189404     0.119482  0.013914  "
      ]
     },
     "execution_count": 34,
     "metadata": {},
     "output_type": "execute_result"
    }
   ],
   "source": [
    "df_res[(df_res['model_number']==40) & (df_res['category'].isin(['low_end_500']))]\\\n",
    "[['model_number', 'category', 'model_name', 'num_of_removed_vars', \\\n",
    "  'variable_name', 'spots_num', 'exp(coef)', 'p', 'exp(coef).2', 'p.2']]"
   ]
  },
  {
   "cell_type": "code",
   "execution_count": 35,
   "id": "e2b726ca",
   "metadata": {},
   "outputs": [],
   "source": [
    "def get_variance(model, variable):\n",
    "    var_mat = model.variance_matrix_\n",
    "    var_mat.columns = var_mat.index\n",
    "    if variable in var_mat.index:\n",
    "        return(var_mat[var_mat.index==variable][variable].iloc[0])\n",
    "    else:\n",
    "        return(pd.NA)"
   ]
  },
  {
   "cell_type": "code",
   "execution_count": 36,
   "id": "f2551424",
   "metadata": {},
   "outputs": [
    {
     "data": {
      "text/html": [
       "<div>\n",
       "<style scoped>\n",
       "    .dataframe tbody tr th:only-of-type {\n",
       "        vertical-align: middle;\n",
       "    }\n",
       "\n",
       "    .dataframe tbody tr th {\n",
       "        vertical-align: top;\n",
       "    }\n",
       "\n",
       "    .dataframe thead th {\n",
       "        text-align: right;\n",
       "    }\n",
       "</style>\n",
       "<table border=\"1\" class=\"dataframe\">\n",
       "  <thead>\n",
       "    <tr style=\"text-align: right;\">\n",
       "      <th></th>\n",
       "      <th>model_number</th>\n",
       "      <th>category</th>\n",
       "      <th>model_name</th>\n",
       "      <th>num_of_removed_vars</th>\n",
       "      <th>variable_name</th>\n",
       "      <th>spots_num</th>\n",
       "      <th>exp(coef)</th>\n",
       "      <th>p</th>\n",
       "      <th>exp(coef).2</th>\n",
       "      <th>p.2</th>\n",
       "    </tr>\n",
       "  </thead>\n",
       "  <tbody>\n",
       "    <tr>\n",
       "      <th>0</th>\n",
       "      <td>40</td>\n",
       "      <td>high_end_500</td>\n",
       "      <td>properly_used_online_orders_inquiries</td>\n",
       "      <td>84</td>\n",
       "      <td>had_properly_used_online_orders_inquiries_last...</td>\n",
       "      <td>2353</td>\n",
       "      <td>0.993438</td>\n",
       "      <td>0.980105</td>\n",
       "      <td>NaN</td>\n",
       "      <td>NaN</td>\n",
       "    </tr>\n",
       "    <tr>\n",
       "      <th>0</th>\n",
       "      <td>40</td>\n",
       "      <td>low_end_500</td>\n",
       "      <td>properly_used_online_orders_inquiries</td>\n",
       "      <td>73</td>\n",
       "      <td>had_properly_used_online_orders_inquiries_last...</td>\n",
       "      <td>219</td>\n",
       "      <td>0.181145</td>\n",
       "      <td>0.189404</td>\n",
       "      <td>0.119482</td>\n",
       "      <td>0.013914</td>\n",
       "    </tr>\n",
       "    <tr>\n",
       "      <th>0</th>\n",
       "      <td>40</td>\n",
       "      <td>high_end_700</td>\n",
       "      <td>properly_used_online_orders_inquiries</td>\n",
       "      <td>82</td>\n",
       "      <td>had_properly_used_online_orders_inquiries_last...</td>\n",
       "      <td>2246</td>\n",
       "      <td>0.978642</td>\n",
       "      <td>0.936765</td>\n",
       "      <td>NaN</td>\n",
       "      <td>NaN</td>\n",
       "    </tr>\n",
       "    <tr>\n",
       "      <th>0</th>\n",
       "      <td>40</td>\n",
       "      <td>low_end_700</td>\n",
       "      <td>properly_used_online_orders_inquiries</td>\n",
       "      <td>80</td>\n",
       "      <td>had_properly_used_online_orders_inquiries_last...</td>\n",
       "      <td>326</td>\n",
       "      <td>0.539847</td>\n",
       "      <td>0.451112</td>\n",
       "      <td>NaN</td>\n",
       "      <td>NaN</td>\n",
       "    </tr>\n",
       "    <tr>\n",
       "      <th>0</th>\n",
       "      <td>40</td>\n",
       "      <td>high_end_1000</td>\n",
       "      <td>properly_used_online_orders_inquiries</td>\n",
       "      <td>91</td>\n",
       "      <td>had_properly_used_online_orders_inquiries_last...</td>\n",
       "      <td>2023</td>\n",
       "      <td>1.096789</td>\n",
       "      <td>0.749796</td>\n",
       "      <td>NaN</td>\n",
       "      <td>NaN</td>\n",
       "    </tr>\n",
       "    <tr>\n",
       "      <th>0</th>\n",
       "      <td>40</td>\n",
       "      <td>low_end_1000</td>\n",
       "      <td>properly_used_online_orders_inquiries</td>\n",
       "      <td>78</td>\n",
       "      <td>had_properly_used_online_orders_inquiries_last...</td>\n",
       "      <td>549</td>\n",
       "      <td>0.717318</td>\n",
       "      <td>0.571293</td>\n",
       "      <td>NaN</td>\n",
       "      <td>NaN</td>\n",
       "    </tr>\n",
       "    <tr>\n",
       "      <th>0</th>\n",
       "      <td>40</td>\n",
       "      <td>high_end_1200</td>\n",
       "      <td>properly_used_online_orders_inquiries</td>\n",
       "      <td>87</td>\n",
       "      <td>had_properly_used_online_orders_inquiries_last...</td>\n",
       "      <td>1874</td>\n",
       "      <td>1.164636</td>\n",
       "      <td>0.617500</td>\n",
       "      <td>NaN</td>\n",
       "      <td>NaN</td>\n",
       "    </tr>\n",
       "    <tr>\n",
       "      <th>0</th>\n",
       "      <td>40</td>\n",
       "      <td>low_end_1200</td>\n",
       "      <td>properly_used_online_orders_inquiries</td>\n",
       "      <td>76</td>\n",
       "      <td>had_properly_used_online_orders_inquiries_last...</td>\n",
       "      <td>698</td>\n",
       "      <td>0.659408</td>\n",
       "      <td>0.399738</td>\n",
       "      <td>NaN</td>\n",
       "      <td>NaN</td>\n",
       "    </tr>\n",
       "    <tr>\n",
       "      <th>0</th>\n",
       "      <td>40</td>\n",
       "      <td>high_end_1500</td>\n",
       "      <td>properly_used_online_orders_inquiries</td>\n",
       "      <td>92</td>\n",
       "      <td>had_properly_used_online_orders_inquiries_last...</td>\n",
       "      <td>1665</td>\n",
       "      <td>1.146658</td>\n",
       "      <td>0.672926</td>\n",
       "      <td>NaN</td>\n",
       "      <td>NaN</td>\n",
       "    </tr>\n",
       "    <tr>\n",
       "      <th>0</th>\n",
       "      <td>40</td>\n",
       "      <td>low_end_1500</td>\n",
       "      <td>properly_used_online_orders_inquiries</td>\n",
       "      <td>80</td>\n",
       "      <td>had_properly_used_online_orders_inquiries_last...</td>\n",
       "      <td>907</td>\n",
       "      <td>0.872238</td>\n",
       "      <td>0.754278</td>\n",
       "      <td>NaN</td>\n",
       "      <td>NaN</td>\n",
       "    </tr>\n",
       "    <tr>\n",
       "      <th>0</th>\n",
       "      <td>40</td>\n",
       "      <td>high_end_1700</td>\n",
       "      <td>properly_used_online_orders_inquiries</td>\n",
       "      <td>97</td>\n",
       "      <td>had_properly_used_online_orders_inquiries_last...</td>\n",
       "      <td>1525</td>\n",
       "      <td>1.120845</td>\n",
       "      <td>0.737009</td>\n",
       "      <td>NaN</td>\n",
       "      <td>NaN</td>\n",
       "    </tr>\n",
       "    <tr>\n",
       "      <th>0</th>\n",
       "      <td>40</td>\n",
       "      <td>low_end_1700</td>\n",
       "      <td>properly_used_online_orders_inquiries</td>\n",
       "      <td>80</td>\n",
       "      <td>had_properly_used_online_orders_inquiries_last...</td>\n",
       "      <td>1047</td>\n",
       "      <td>0.867642</td>\n",
       "      <td>0.724516</td>\n",
       "      <td>NaN</td>\n",
       "      <td>NaN</td>\n",
       "    </tr>\n",
       "    <tr>\n",
       "      <th>0</th>\n",
       "      <td>40</td>\n",
       "      <td>high_end_2000</td>\n",
       "      <td>properly_used_online_orders_inquiries</td>\n",
       "      <td>96</td>\n",
       "      <td>had_properly_used_online_orders_inquiries_last...</td>\n",
       "      <td>1324</td>\n",
       "      <td>1.254032</td>\n",
       "      <td>0.542681</td>\n",
       "      <td>NaN</td>\n",
       "      <td>NaN</td>\n",
       "    </tr>\n",
       "    <tr>\n",
       "      <th>0</th>\n",
       "      <td>40</td>\n",
       "      <td>low_end_2000</td>\n",
       "      <td>properly_used_online_orders_inquiries</td>\n",
       "      <td>80</td>\n",
       "      <td>had_properly_used_online_orders_inquiries_last...</td>\n",
       "      <td>1248</td>\n",
       "      <td>0.811496</td>\n",
       "      <td>0.562669</td>\n",
       "      <td>NaN</td>\n",
       "      <td>NaN</td>\n",
       "    </tr>\n",
       "  </tbody>\n",
       "</table>\n",
       "</div>"
      ],
      "text/plain": [
       "   model_number       category                             model_name  \\\n",
       "0            40   high_end_500  properly_used_online_orders_inquiries   \n",
       "0            40    low_end_500  properly_used_online_orders_inquiries   \n",
       "0            40   high_end_700  properly_used_online_orders_inquiries   \n",
       "0            40    low_end_700  properly_used_online_orders_inquiries   \n",
       "0            40  high_end_1000  properly_used_online_orders_inquiries   \n",
       "0            40   low_end_1000  properly_used_online_orders_inquiries   \n",
       "0            40  high_end_1200  properly_used_online_orders_inquiries   \n",
       "0            40   low_end_1200  properly_used_online_orders_inquiries   \n",
       "0            40  high_end_1500  properly_used_online_orders_inquiries   \n",
       "0            40   low_end_1500  properly_used_online_orders_inquiries   \n",
       "0            40  high_end_1700  properly_used_online_orders_inquiries   \n",
       "0            40   low_end_1700  properly_used_online_orders_inquiries   \n",
       "0            40  high_end_2000  properly_used_online_orders_inquiries   \n",
       "0            40   low_end_2000  properly_used_online_orders_inquiries   \n",
       "\n",
       "   num_of_removed_vars                                      variable_name  \\\n",
       "0                   84  had_properly_used_online_orders_inquiries_last...   \n",
       "0                   73  had_properly_used_online_orders_inquiries_last...   \n",
       "0                   82  had_properly_used_online_orders_inquiries_last...   \n",
       "0                   80  had_properly_used_online_orders_inquiries_last...   \n",
       "0                   91  had_properly_used_online_orders_inquiries_last...   \n",
       "0                   78  had_properly_used_online_orders_inquiries_last...   \n",
       "0                   87  had_properly_used_online_orders_inquiries_last...   \n",
       "0                   76  had_properly_used_online_orders_inquiries_last...   \n",
       "0                   92  had_properly_used_online_orders_inquiries_last...   \n",
       "0                   80  had_properly_used_online_orders_inquiries_last...   \n",
       "0                   97  had_properly_used_online_orders_inquiries_last...   \n",
       "0                   80  had_properly_used_online_orders_inquiries_last...   \n",
       "0                   96  had_properly_used_online_orders_inquiries_last...   \n",
       "0                   80  had_properly_used_online_orders_inquiries_last...   \n",
       "\n",
       "   spots_num  exp(coef)         p  exp(coef).2       p.2  \n",
       "0       2353   0.993438  0.980105          NaN       NaN  \n",
       "0        219   0.181145  0.189404     0.119482  0.013914  \n",
       "0       2246   0.978642  0.936765          NaN       NaN  \n",
       "0        326   0.539847  0.451112          NaN       NaN  \n",
       "0       2023   1.096789  0.749796          NaN       NaN  \n",
       "0        549   0.717318  0.571293          NaN       NaN  \n",
       "0       1874   1.164636  0.617500          NaN       NaN  \n",
       "0        698   0.659408  0.399738          NaN       NaN  \n",
       "0       1665   1.146658  0.672926          NaN       NaN  \n",
       "0        907   0.872238  0.754278          NaN       NaN  \n",
       "0       1525   1.120845  0.737009          NaN       NaN  \n",
       "0       1047   0.867642  0.724516          NaN       NaN  \n",
       "0       1324   1.254032  0.542681          NaN       NaN  \n",
       "0       1248   0.811496  0.562669          NaN       NaN  "
      ]
     },
     "execution_count": 36,
     "metadata": {},
     "output_type": "execute_result"
    }
   ],
   "source": [
    "df_res[(df_res['model_number']==40)]\\\n",
    "[['model_number', 'category', 'model_name', 'num_of_removed_vars', \\\n",
    "  'variable_name', 'spots_num', 'exp(coef)', 'p', 'exp(coef).2', 'p.2']]"
   ]
  },
  {
   "cell_type": "code",
   "execution_count": 37,
   "id": "0ba2e35e",
   "metadata": {},
   "outputs": [],
   "source": [
    "df_res['var_variance_mod0'] = df_res[['variable_name', 'models']].apply(lambda x: get_variance(x['models'][0], \n",
    "                                                                 x['variable_name']), axis=1)\n",
    "\n",
    "df_res['var_variance_mod1'] = df_res[['variable_name', 'models']].apply(lambda x: get_variance(x['models'][1], \n",
    "                                                                 x['variable_name']), axis=1)"
   ]
  },
  {
   "cell_type": "code",
   "execution_count": 38,
   "id": "9c3f7877",
   "metadata": {},
   "outputs": [
    {
     "data": {
      "text/html": [
       "<div>\n",
       "<style scoped>\n",
       "    .dataframe tbody tr th:only-of-type {\n",
       "        vertical-align: middle;\n",
       "    }\n",
       "\n",
       "    .dataframe tbody tr th {\n",
       "        vertical-align: top;\n",
       "    }\n",
       "\n",
       "    .dataframe thead th {\n",
       "        text-align: right;\n",
       "    }\n",
       "</style>\n",
       "<table border=\"1\" class=\"dataframe\">\n",
       "  <thead>\n",
       "    <tr style=\"text-align: right;\">\n",
       "      <th></th>\n",
       "      <th>model_number</th>\n",
       "      <th>category</th>\n",
       "      <th>model_name</th>\n",
       "      <th>num_of_removed_vars</th>\n",
       "      <th>variable_name</th>\n",
       "      <th>spots_num</th>\n",
       "      <th>exp(coef)</th>\n",
       "      <th>p</th>\n",
       "      <th>var_variance_mod0</th>\n",
       "      <th>exp(coef).2</th>\n",
       "      <th>p.2</th>\n",
       "      <th>var_variance_mod1</th>\n",
       "    </tr>\n",
       "  </thead>\n",
       "  <tbody>\n",
       "    <tr>\n",
       "      <th>0</th>\n",
       "      <td>40</td>\n",
       "      <td>high_end_500</td>\n",
       "      <td>properly_used_online_orders_inquiries</td>\n",
       "      <td>84</td>\n",
       "      <td>had_properly_used_online_orders_inquiries_last...</td>\n",
       "      <td>2353</td>\n",
       "      <td>0.993438</td>\n",
       "      <td>0.980105</td>\n",
       "      <td>0.069691</td>\n",
       "      <td>NaN</td>\n",
       "      <td>NaN</td>\n",
       "      <td>&lt;NA&gt;</td>\n",
       "    </tr>\n",
       "    <tr>\n",
       "      <th>0</th>\n",
       "      <td>40</td>\n",
       "      <td>low_end_500</td>\n",
       "      <td>properly_used_online_orders_inquiries</td>\n",
       "      <td>73</td>\n",
       "      <td>had_properly_used_online_orders_inquiries_last...</td>\n",
       "      <td>219</td>\n",
       "      <td>0.181145</td>\n",
       "      <td>0.189404</td>\n",
       "      <td>1.694785</td>\n",
       "      <td>0.119482</td>\n",
       "      <td>0.013914</td>\n",
       "      <td>0.746214</td>\n",
       "    </tr>\n",
       "    <tr>\n",
       "      <th>0</th>\n",
       "      <td>40</td>\n",
       "      <td>high_end_700</td>\n",
       "      <td>properly_used_online_orders_inquiries</td>\n",
       "      <td>82</td>\n",
       "      <td>had_properly_used_online_orders_inquiries_last...</td>\n",
       "      <td>2246</td>\n",
       "      <td>0.978642</td>\n",
       "      <td>0.936765</td>\n",
       "      <td>0.074052</td>\n",
       "      <td>NaN</td>\n",
       "      <td>NaN</td>\n",
       "      <td>&lt;NA&gt;</td>\n",
       "    </tr>\n",
       "    <tr>\n",
       "      <th>0</th>\n",
       "      <td>40</td>\n",
       "      <td>low_end_700</td>\n",
       "      <td>properly_used_online_orders_inquiries</td>\n",
       "      <td>80</td>\n",
       "      <td>had_properly_used_online_orders_inquiries_last...</td>\n",
       "      <td>326</td>\n",
       "      <td>0.539847</td>\n",
       "      <td>0.451112</td>\n",
       "      <td>0.669243</td>\n",
       "      <td>NaN</td>\n",
       "      <td>NaN</td>\n",
       "      <td>&lt;NA&gt;</td>\n",
       "    </tr>\n",
       "    <tr>\n",
       "      <th>0</th>\n",
       "      <td>40</td>\n",
       "      <td>high_end_1000</td>\n",
       "      <td>properly_used_online_orders_inquiries</td>\n",
       "      <td>91</td>\n",
       "      <td>had_properly_used_online_orders_inquiries_last...</td>\n",
       "      <td>2023</td>\n",
       "      <td>1.096789</td>\n",
       "      <td>0.749796</td>\n",
       "      <td>0.083924</td>\n",
       "      <td>NaN</td>\n",
       "      <td>NaN</td>\n",
       "      <td>&lt;NA&gt;</td>\n",
       "    </tr>\n",
       "    <tr>\n",
       "      <th>0</th>\n",
       "      <td>40</td>\n",
       "      <td>low_end_1000</td>\n",
       "      <td>properly_used_online_orders_inquiries</td>\n",
       "      <td>78</td>\n",
       "      <td>had_properly_used_online_orders_inquiries_last...</td>\n",
       "      <td>549</td>\n",
       "      <td>0.717318</td>\n",
       "      <td>0.571293</td>\n",
       "      <td>0.344377</td>\n",
       "      <td>NaN</td>\n",
       "      <td>NaN</td>\n",
       "      <td>&lt;NA&gt;</td>\n",
       "    </tr>\n",
       "    <tr>\n",
       "      <th>0</th>\n",
       "      <td>40</td>\n",
       "      <td>high_end_1200</td>\n",
       "      <td>properly_used_online_orders_inquiries</td>\n",
       "      <td>87</td>\n",
       "      <td>had_properly_used_online_orders_inquiries_last...</td>\n",
       "      <td>1874</td>\n",
       "      <td>1.164636</td>\n",
       "      <td>0.617500</td>\n",
       "      <td>0.093139</td>\n",
       "      <td>NaN</td>\n",
       "      <td>NaN</td>\n",
       "      <td>&lt;NA&gt;</td>\n",
       "    </tr>\n",
       "    <tr>\n",
       "      <th>0</th>\n",
       "      <td>40</td>\n",
       "      <td>low_end_1200</td>\n",
       "      <td>properly_used_online_orders_inquiries</td>\n",
       "      <td>76</td>\n",
       "      <td>had_properly_used_online_orders_inquiries_last...</td>\n",
       "      <td>698</td>\n",
       "      <td>0.659408</td>\n",
       "      <td>0.399738</td>\n",
       "      <td>0.244530</td>\n",
       "      <td>NaN</td>\n",
       "      <td>NaN</td>\n",
       "      <td>&lt;NA&gt;</td>\n",
       "    </tr>\n",
       "    <tr>\n",
       "      <th>0</th>\n",
       "      <td>40</td>\n",
       "      <td>high_end_1500</td>\n",
       "      <td>properly_used_online_orders_inquiries</td>\n",
       "      <td>92</td>\n",
       "      <td>had_properly_used_online_orders_inquiries_last...</td>\n",
       "      <td>1665</td>\n",
       "      <td>1.146658</td>\n",
       "      <td>0.672926</td>\n",
       "      <td>0.105099</td>\n",
       "      <td>NaN</td>\n",
       "      <td>NaN</td>\n",
       "      <td>&lt;NA&gt;</td>\n",
       "    </tr>\n",
       "    <tr>\n",
       "      <th>0</th>\n",
       "      <td>40</td>\n",
       "      <td>low_end_1500</td>\n",
       "      <td>properly_used_online_orders_inquiries</td>\n",
       "      <td>80</td>\n",
       "      <td>had_properly_used_online_orders_inquiries_last...</td>\n",
       "      <td>907</td>\n",
       "      <td>0.872238</td>\n",
       "      <td>0.754278</td>\n",
       "      <td>0.190720</td>\n",
       "      <td>NaN</td>\n",
       "      <td>NaN</td>\n",
       "      <td>&lt;NA&gt;</td>\n",
       "    </tr>\n",
       "    <tr>\n",
       "      <th>0</th>\n",
       "      <td>40</td>\n",
       "      <td>high_end_1700</td>\n",
       "      <td>properly_used_online_orders_inquiries</td>\n",
       "      <td>97</td>\n",
       "      <td>had_properly_used_online_orders_inquiries_last...</td>\n",
       "      <td>1525</td>\n",
       "      <td>1.120845</td>\n",
       "      <td>0.737009</td>\n",
       "      <td>0.115407</td>\n",
       "      <td>NaN</td>\n",
       "      <td>NaN</td>\n",
       "      <td>&lt;NA&gt;</td>\n",
       "    </tr>\n",
       "    <tr>\n",
       "      <th>0</th>\n",
       "      <td>40</td>\n",
       "      <td>low_end_1700</td>\n",
       "      <td>properly_used_online_orders_inquiries</td>\n",
       "      <td>80</td>\n",
       "      <td>had_properly_used_online_orders_inquiries_last...</td>\n",
       "      <td>1047</td>\n",
       "      <td>0.867642</td>\n",
       "      <td>0.724516</td>\n",
       "      <td>0.162286</td>\n",
       "      <td>NaN</td>\n",
       "      <td>NaN</td>\n",
       "      <td>&lt;NA&gt;</td>\n",
       "    </tr>\n",
       "    <tr>\n",
       "      <th>0</th>\n",
       "      <td>40</td>\n",
       "      <td>high_end_2000</td>\n",
       "      <td>properly_used_online_orders_inquiries</td>\n",
       "      <td>96</td>\n",
       "      <td>had_properly_used_online_orders_inquiries_last...</td>\n",
       "      <td>1324</td>\n",
       "      <td>1.254032</td>\n",
       "      <td>0.542681</td>\n",
       "      <td>0.138266</td>\n",
       "      <td>NaN</td>\n",
       "      <td>NaN</td>\n",
       "      <td>&lt;NA&gt;</td>\n",
       "    </tr>\n",
       "    <tr>\n",
       "      <th>0</th>\n",
       "      <td>40</td>\n",
       "      <td>low_end_2000</td>\n",
       "      <td>properly_used_online_orders_inquiries</td>\n",
       "      <td>80</td>\n",
       "      <td>had_properly_used_online_orders_inquiries_last...</td>\n",
       "      <td>1248</td>\n",
       "      <td>0.811496</td>\n",
       "      <td>0.562669</td>\n",
       "      <td>0.130195</td>\n",
       "      <td>NaN</td>\n",
       "      <td>NaN</td>\n",
       "      <td>&lt;NA&gt;</td>\n",
       "    </tr>\n",
       "  </tbody>\n",
       "</table>\n",
       "</div>"
      ],
      "text/plain": [
       "   model_number       category                             model_name  \\\n",
       "0            40   high_end_500  properly_used_online_orders_inquiries   \n",
       "0            40    low_end_500  properly_used_online_orders_inquiries   \n",
       "0            40   high_end_700  properly_used_online_orders_inquiries   \n",
       "0            40    low_end_700  properly_used_online_orders_inquiries   \n",
       "0            40  high_end_1000  properly_used_online_orders_inquiries   \n",
       "0            40   low_end_1000  properly_used_online_orders_inquiries   \n",
       "0            40  high_end_1200  properly_used_online_orders_inquiries   \n",
       "0            40   low_end_1200  properly_used_online_orders_inquiries   \n",
       "0            40  high_end_1500  properly_used_online_orders_inquiries   \n",
       "0            40   low_end_1500  properly_used_online_orders_inquiries   \n",
       "0            40  high_end_1700  properly_used_online_orders_inquiries   \n",
       "0            40   low_end_1700  properly_used_online_orders_inquiries   \n",
       "0            40  high_end_2000  properly_used_online_orders_inquiries   \n",
       "0            40   low_end_2000  properly_used_online_orders_inquiries   \n",
       "\n",
       "   num_of_removed_vars                                      variable_name  \\\n",
       "0                   84  had_properly_used_online_orders_inquiries_last...   \n",
       "0                   73  had_properly_used_online_orders_inquiries_last...   \n",
       "0                   82  had_properly_used_online_orders_inquiries_last...   \n",
       "0                   80  had_properly_used_online_orders_inquiries_last...   \n",
       "0                   91  had_properly_used_online_orders_inquiries_last...   \n",
       "0                   78  had_properly_used_online_orders_inquiries_last...   \n",
       "0                   87  had_properly_used_online_orders_inquiries_last...   \n",
       "0                   76  had_properly_used_online_orders_inquiries_last...   \n",
       "0                   92  had_properly_used_online_orders_inquiries_last...   \n",
       "0                   80  had_properly_used_online_orders_inquiries_last...   \n",
       "0                   97  had_properly_used_online_orders_inquiries_last...   \n",
       "0                   80  had_properly_used_online_orders_inquiries_last...   \n",
       "0                   96  had_properly_used_online_orders_inquiries_last...   \n",
       "0                   80  had_properly_used_online_orders_inquiries_last...   \n",
       "\n",
       "   spots_num  exp(coef)         p  var_variance_mod0  exp(coef).2       p.2  \\\n",
       "0       2353   0.993438  0.980105           0.069691          NaN       NaN   \n",
       "0        219   0.181145  0.189404           1.694785     0.119482  0.013914   \n",
       "0       2246   0.978642  0.936765           0.074052          NaN       NaN   \n",
       "0        326   0.539847  0.451112           0.669243          NaN       NaN   \n",
       "0       2023   1.096789  0.749796           0.083924          NaN       NaN   \n",
       "0        549   0.717318  0.571293           0.344377          NaN       NaN   \n",
       "0       1874   1.164636  0.617500           0.093139          NaN       NaN   \n",
       "0        698   0.659408  0.399738           0.244530          NaN       NaN   \n",
       "0       1665   1.146658  0.672926           0.105099          NaN       NaN   \n",
       "0        907   0.872238  0.754278           0.190720          NaN       NaN   \n",
       "0       1525   1.120845  0.737009           0.115407          NaN       NaN   \n",
       "0       1047   0.867642  0.724516           0.162286          NaN       NaN   \n",
       "0       1324   1.254032  0.542681           0.138266          NaN       NaN   \n",
       "0       1248   0.811496  0.562669           0.130195          NaN       NaN   \n",
       "\n",
       "  var_variance_mod1  \n",
       "0              <NA>  \n",
       "0          0.746214  \n",
       "0              <NA>  \n",
       "0              <NA>  \n",
       "0              <NA>  \n",
       "0              <NA>  \n",
       "0              <NA>  \n",
       "0              <NA>  \n",
       "0              <NA>  \n",
       "0              <NA>  \n",
       "0              <NA>  \n",
       "0              <NA>  \n",
       "0              <NA>  \n",
       "0              <NA>  "
      ]
     },
     "execution_count": 38,
     "metadata": {},
     "output_type": "execute_result"
    }
   ],
   "source": [
    "df_res[(df_res['model_number']==40)]\\\n",
    "[['model_number', 'category', 'model_name', 'num_of_removed_vars', \\\n",
    "  'variable_name', 'spots_num', 'exp(coef)', 'p', 'var_variance_mod0', \n",
    "  'exp(coef).2', 'p.2', 'var_variance_mod1']]"
   ]
  },
  {
   "cell_type": "code",
   "execution_count": 39,
   "id": "444de5ee",
   "metadata": {},
   "outputs": [
    {
     "data": {
      "text/html": [
       "<div>\n",
       "<style scoped>\n",
       "    .dataframe tbody tr th:only-of-type {\n",
       "        vertical-align: middle;\n",
       "    }\n",
       "\n",
       "    .dataframe tbody tr th {\n",
       "        vertical-align: top;\n",
       "    }\n",
       "\n",
       "    .dataframe thead th {\n",
       "        text-align: right;\n",
       "    }\n",
       "</style>\n",
       "<table border=\"1\" class=\"dataframe\">\n",
       "  <thead>\n",
       "    <tr style=\"text-align: right;\">\n",
       "      <th></th>\n",
       "      <th>model_number</th>\n",
       "      <th>category</th>\n",
       "      <th>model_name</th>\n",
       "      <th>num_of_removed_vars</th>\n",
       "      <th>variable_name</th>\n",
       "      <th>spots_num</th>\n",
       "      <th>exp(coef)</th>\n",
       "      <th>p</th>\n",
       "      <th>var_variance_mod0</th>\n",
       "      <th>exp(coef).2</th>\n",
       "      <th>p.2</th>\n",
       "      <th>var_variance_mod1</th>\n",
       "    </tr>\n",
       "  </thead>\n",
       "  <tbody>\n",
       "    <tr>\n",
       "      <th>0</th>\n",
       "      <td>38</td>\n",
       "      <td>high_end_500</td>\n",
       "      <td>properly_used_private_parties_inquiries</td>\n",
       "      <td>85</td>\n",
       "      <td>had_properly_used_private_parties_inquiries_la...</td>\n",
       "      <td>2353</td>\n",
       "      <td>0.817289</td>\n",
       "      <td>0.257641</td>\n",
       "      <td>0.031769</td>\n",
       "      <td>NaN</td>\n",
       "      <td>NaN</td>\n",
       "      <td>&lt;NA&gt;</td>\n",
       "    </tr>\n",
       "    <tr>\n",
       "      <th>0</th>\n",
       "      <td>38</td>\n",
       "      <td>low_end_500</td>\n",
       "      <td>properly_used_private_parties_inquiries</td>\n",
       "      <td>73</td>\n",
       "      <td>had_properly_used_private_parties_inquiries_la...</td>\n",
       "      <td>219</td>\n",
       "      <td>0.786206</td>\n",
       "      <td>0.860930</td>\n",
       "      <td>1.885111</td>\n",
       "      <td>NaN</td>\n",
       "      <td>NaN</td>\n",
       "      <td>&lt;NA&gt;</td>\n",
       "    </tr>\n",
       "    <tr>\n",
       "      <th>0</th>\n",
       "      <td>38</td>\n",
       "      <td>high_end_700</td>\n",
       "      <td>properly_used_private_parties_inquiries</td>\n",
       "      <td>82</td>\n",
       "      <td>had_properly_used_private_parties_inquiries_la...</td>\n",
       "      <td>2246</td>\n",
       "      <td>0.840770</td>\n",
       "      <td>0.339132</td>\n",
       "      <td>0.032921</td>\n",
       "      <td>NaN</td>\n",
       "      <td>NaN</td>\n",
       "      <td>&lt;NA&gt;</td>\n",
       "    </tr>\n",
       "    <tr>\n",
       "      <th>0</th>\n",
       "      <td>38</td>\n",
       "      <td>low_end_700</td>\n",
       "      <td>properly_used_private_parties_inquiries</td>\n",
       "      <td>79</td>\n",
       "      <td>had_properly_used_private_parties_inquiries_la...</td>\n",
       "      <td>326</td>\n",
       "      <td>0.373682</td>\n",
       "      <td>0.225528</td>\n",
       "      <td>0.659665</td>\n",
       "      <td>0.265125</td>\n",
       "      <td>0.039990</td>\n",
       "      <td>0.417797</td>\n",
       "    </tr>\n",
       "    <tr>\n",
       "      <th>0</th>\n",
       "      <td>38</td>\n",
       "      <td>high_end_1000</td>\n",
       "      <td>properly_used_private_parties_inquiries</td>\n",
       "      <td>90</td>\n",
       "      <td>had_properly_used_private_parties_inquiries_la...</td>\n",
       "      <td>2023</td>\n",
       "      <td>0.841144</td>\n",
       "      <td>0.373546</td>\n",
       "      <td>0.037794</td>\n",
       "      <td>NaN</td>\n",
       "      <td>NaN</td>\n",
       "      <td>&lt;NA&gt;</td>\n",
       "    </tr>\n",
       "    <tr>\n",
       "      <th>0</th>\n",
       "      <td>38</td>\n",
       "      <td>low_end_1000</td>\n",
       "      <td>properly_used_private_parties_inquiries</td>\n",
       "      <td>78</td>\n",
       "      <td>had_properly_used_private_parties_inquiries_la...</td>\n",
       "      <td>549</td>\n",
       "      <td>0.572413</td>\n",
       "      <td>0.234122</td>\n",
       "      <td>0.219862</td>\n",
       "      <td>NaN</td>\n",
       "      <td>NaN</td>\n",
       "      <td>&lt;NA&gt;</td>\n",
       "    </tr>\n",
       "    <tr>\n",
       "      <th>0</th>\n",
       "      <td>38</td>\n",
       "      <td>high_end_1200</td>\n",
       "      <td>properly_used_private_parties_inquiries</td>\n",
       "      <td>89</td>\n",
       "      <td>had_properly_used_private_parties_inquiries_la...</td>\n",
       "      <td>1874</td>\n",
       "      <td>0.791010</td>\n",
       "      <td>0.253470</td>\n",
       "      <td>0.042148</td>\n",
       "      <td>NaN</td>\n",
       "      <td>NaN</td>\n",
       "      <td>&lt;NA&gt;</td>\n",
       "    </tr>\n",
       "    <tr>\n",
       "      <th>0</th>\n",
       "      <td>38</td>\n",
       "      <td>low_end_1200</td>\n",
       "      <td>properly_used_private_parties_inquiries</td>\n",
       "      <td>77</td>\n",
       "      <td>had_properly_used_private_parties_inquiries_la...</td>\n",
       "      <td>698</td>\n",
       "      <td>0.592319</td>\n",
       "      <td>0.153483</td>\n",
       "      <td>0.134626</td>\n",
       "      <td>NaN</td>\n",
       "      <td>NaN</td>\n",
       "      <td>&lt;NA&gt;</td>\n",
       "    </tr>\n",
       "    <tr>\n",
       "      <th>0</th>\n",
       "      <td>38</td>\n",
       "      <td>high_end_1500</td>\n",
       "      <td>properly_used_private_parties_inquiries</td>\n",
       "      <td>95</td>\n",
       "      <td>had_properly_used_private_parties_inquiries_la...</td>\n",
       "      <td>1665</td>\n",
       "      <td>0.758101</td>\n",
       "      <td>0.199510</td>\n",
       "      <td>0.046596</td>\n",
       "      <td>NaN</td>\n",
       "      <td>NaN</td>\n",
       "      <td>&lt;NA&gt;</td>\n",
       "    </tr>\n",
       "    <tr>\n",
       "      <th>0</th>\n",
       "      <td>38</td>\n",
       "      <td>low_end_1500</td>\n",
       "      <td>properly_used_private_parties_inquiries</td>\n",
       "      <td>81</td>\n",
       "      <td>had_properly_used_private_parties_inquiries_la...</td>\n",
       "      <td>907</td>\n",
       "      <td>0.657062</td>\n",
       "      <td>0.191861</td>\n",
       "      <td>0.103554</td>\n",
       "      <td>NaN</td>\n",
       "      <td>NaN</td>\n",
       "      <td>&lt;NA&gt;</td>\n",
       "    </tr>\n",
       "    <tr>\n",
       "      <th>0</th>\n",
       "      <td>38</td>\n",
       "      <td>high_end_1700</td>\n",
       "      <td>properly_used_private_parties_inquiries</td>\n",
       "      <td>95</td>\n",
       "      <td>had_properly_used_private_parties_inquiries_la...</td>\n",
       "      <td>1525</td>\n",
       "      <td>0.792396</td>\n",
       "      <td>0.297260</td>\n",
       "      <td>0.049838</td>\n",
       "      <td>NaN</td>\n",
       "      <td>NaN</td>\n",
       "      <td>&lt;NA&gt;</td>\n",
       "    </tr>\n",
       "    <tr>\n",
       "      <th>0</th>\n",
       "      <td>38</td>\n",
       "      <td>low_end_1700</td>\n",
       "      <td>properly_used_private_parties_inquiries</td>\n",
       "      <td>78</td>\n",
       "      <td>had_properly_used_private_parties_inquiries_la...</td>\n",
       "      <td>1047</td>\n",
       "      <td>0.639528</td>\n",
       "      <td>0.139851</td>\n",
       "      <td>0.091683</td>\n",
       "      <td>0.592345</td>\n",
       "      <td>0.063128</td>\n",
       "      <td>0.079411</td>\n",
       "    </tr>\n",
       "    <tr>\n",
       "      <th>0</th>\n",
       "      <td>38</td>\n",
       "      <td>high_end_2000</td>\n",
       "      <td>properly_used_private_parties_inquiries</td>\n",
       "      <td>96</td>\n",
       "      <td>had_properly_used_private_parties_inquiries_la...</td>\n",
       "      <td>1324</td>\n",
       "      <td>0.785289</td>\n",
       "      <td>0.314782</td>\n",
       "      <td>0.057813</td>\n",
       "      <td>NaN</td>\n",
       "      <td>NaN</td>\n",
       "      <td>&lt;NA&gt;</td>\n",
       "    </tr>\n",
       "    <tr>\n",
       "      <th>0</th>\n",
       "      <td>38</td>\n",
       "      <td>low_end_2000</td>\n",
       "      <td>properly_used_private_parties_inquiries</td>\n",
       "      <td>79</td>\n",
       "      <td>had_properly_used_private_parties_inquiries_la...</td>\n",
       "      <td>1248</td>\n",
       "      <td>0.663108</td>\n",
       "      <td>0.124448</td>\n",
       "      <td>0.071500</td>\n",
       "      <td>0.603275</td>\n",
       "      <td>0.045749</td>\n",
       "      <td>0.063999</td>\n",
       "    </tr>\n",
       "  </tbody>\n",
       "</table>\n",
       "</div>"
      ],
      "text/plain": [
       "   model_number       category                               model_name  \\\n",
       "0            38   high_end_500  properly_used_private_parties_inquiries   \n",
       "0            38    low_end_500  properly_used_private_parties_inquiries   \n",
       "0            38   high_end_700  properly_used_private_parties_inquiries   \n",
       "0            38    low_end_700  properly_used_private_parties_inquiries   \n",
       "0            38  high_end_1000  properly_used_private_parties_inquiries   \n",
       "0            38   low_end_1000  properly_used_private_parties_inquiries   \n",
       "0            38  high_end_1200  properly_used_private_parties_inquiries   \n",
       "0            38   low_end_1200  properly_used_private_parties_inquiries   \n",
       "0            38  high_end_1500  properly_used_private_parties_inquiries   \n",
       "0            38   low_end_1500  properly_used_private_parties_inquiries   \n",
       "0            38  high_end_1700  properly_used_private_parties_inquiries   \n",
       "0            38   low_end_1700  properly_used_private_parties_inquiries   \n",
       "0            38  high_end_2000  properly_used_private_parties_inquiries   \n",
       "0            38   low_end_2000  properly_used_private_parties_inquiries   \n",
       "\n",
       "   num_of_removed_vars                                      variable_name  \\\n",
       "0                   85  had_properly_used_private_parties_inquiries_la...   \n",
       "0                   73  had_properly_used_private_parties_inquiries_la...   \n",
       "0                   82  had_properly_used_private_parties_inquiries_la...   \n",
       "0                   79  had_properly_used_private_parties_inquiries_la...   \n",
       "0                   90  had_properly_used_private_parties_inquiries_la...   \n",
       "0                   78  had_properly_used_private_parties_inquiries_la...   \n",
       "0                   89  had_properly_used_private_parties_inquiries_la...   \n",
       "0                   77  had_properly_used_private_parties_inquiries_la...   \n",
       "0                   95  had_properly_used_private_parties_inquiries_la...   \n",
       "0                   81  had_properly_used_private_parties_inquiries_la...   \n",
       "0                   95  had_properly_used_private_parties_inquiries_la...   \n",
       "0                   78  had_properly_used_private_parties_inquiries_la...   \n",
       "0                   96  had_properly_used_private_parties_inquiries_la...   \n",
       "0                   79  had_properly_used_private_parties_inquiries_la...   \n",
       "\n",
       "   spots_num  exp(coef)         p  var_variance_mod0  exp(coef).2       p.2  \\\n",
       "0       2353   0.817289  0.257641           0.031769          NaN       NaN   \n",
       "0        219   0.786206  0.860930           1.885111          NaN       NaN   \n",
       "0       2246   0.840770  0.339132           0.032921          NaN       NaN   \n",
       "0        326   0.373682  0.225528           0.659665     0.265125  0.039990   \n",
       "0       2023   0.841144  0.373546           0.037794          NaN       NaN   \n",
       "0        549   0.572413  0.234122           0.219862          NaN       NaN   \n",
       "0       1874   0.791010  0.253470           0.042148          NaN       NaN   \n",
       "0        698   0.592319  0.153483           0.134626          NaN       NaN   \n",
       "0       1665   0.758101  0.199510           0.046596          NaN       NaN   \n",
       "0        907   0.657062  0.191861           0.103554          NaN       NaN   \n",
       "0       1525   0.792396  0.297260           0.049838          NaN       NaN   \n",
       "0       1047   0.639528  0.139851           0.091683     0.592345  0.063128   \n",
       "0       1324   0.785289  0.314782           0.057813          NaN       NaN   \n",
       "0       1248   0.663108  0.124448           0.071500     0.603275  0.045749   \n",
       "\n",
       "  var_variance_mod1  \n",
       "0              <NA>  \n",
       "0              <NA>  \n",
       "0              <NA>  \n",
       "0          0.417797  \n",
       "0              <NA>  \n",
       "0              <NA>  \n",
       "0              <NA>  \n",
       "0              <NA>  \n",
       "0              <NA>  \n",
       "0              <NA>  \n",
       "0              <NA>  \n",
       "0          0.079411  \n",
       "0              <NA>  \n",
       "0          0.063999  "
      ]
     },
     "execution_count": 39,
     "metadata": {},
     "output_type": "execute_result"
    }
   ],
   "source": [
    "df_res[(df_res['model_number']==38)]\\\n",
    "[['model_number', 'category', 'model_name', 'num_of_removed_vars', \\\n",
    "  'variable_name', 'spots_num', 'exp(coef)', 'p', 'var_variance_mod0', \n",
    "  'exp(coef).2', 'p.2', 'var_variance_mod1']]"
   ]
  },
  {
   "cell_type": "code",
   "execution_count": null,
   "id": "91db4af4",
   "metadata": {},
   "outputs": [],
   "source": [
    "df_test = "
   ]
  }
 ],
 "metadata": {
  "kernelspec": {
   "display_name": "Python 3 (ipykernel)",
   "language": "python",
   "name": "python3"
  },
  "language_info": {
   "codemirror_mode": {
    "name": "ipython",
    "version": 3
   },
   "file_extension": ".py",
   "mimetype": "text/x-python",
   "name": "python",
   "nbconvert_exporter": "python",
   "pygments_lexer": "ipython3",
   "version": "3.10.6"
  }
 },
 "nbformat": 4,
 "nbformat_minor": 5
}

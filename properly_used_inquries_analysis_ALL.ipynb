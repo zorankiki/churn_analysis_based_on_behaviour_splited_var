{
 "cells": [
  {
   "cell_type": "code",
   "execution_count": 1,
   "id": "86bbad6a",
   "metadata": {},
   "outputs": [],
   "source": [
    "## copy iz started_doing_something_MV_model_ALL_spots_with_CB_cancellation_requested_reports notbuka"
   ]
  },
  {
   "cell_type": "code",
   "execution_count": 2,
   "id": "85296978",
   "metadata": {},
   "outputs": [],
   "source": [
    "import pandas as pd\n",
    "import numpy as np\n",
    "from scipy import stats\n",
    "import math\n",
    "import importlib\n",
    "from dateutil.relativedelta import relativedelta\n",
    "import get_started_doing_something_variables\n",
    "import prepare_for_the_models\n",
    "import fit_tv_cox_models\n",
    "import read_a_combination_of_variables\n",
    "import yaml\n",
    "import warnings\n",
    "warnings.filterwarnings('ignore')\n",
    "from IPython.display import display, Markdown\n",
    "\n",
    "#### Helpers ####\n",
    "import os\n",
    "import sys\n",
    "sys.path.insert(0, os.path.abspath('../'))\n",
    "from helpers.s3_bucket_utils import S3BucketUtils\n",
    "from helpers import db_utils\n",
    "from helpers import settings\n",
    "\n",
    "bucket = S3BucketUtils()\n",
    "################\n",
    "\n",
    "import calculate_all_vars_for_churn_prediction\n",
    "import churn_risk_calculation_test\n",
    "import churn_risk_calculation\n",
    "import model_testing\n",
    "\n",
    "import re\n",
    "\n",
    "import models_to_be_fit"
   ]
  },
  {
   "cell_type": "code",
   "execution_count": 3,
   "id": "62ab2b8d",
   "metadata": {},
   "outputs": [
    {
     "data": {
      "text/plain": [
       "'spothopper-analytics-kiza'"
      ]
     },
     "execution_count": 3,
     "metadata": {},
     "output_type": "execute_result"
    }
   ],
   "source": [
    "settings.S3_ANALYTICS_BUCKET"
   ]
  },
  {
   "cell_type": "code",
   "execution_count": 4,
   "id": "4b789cb6",
   "metadata": {},
   "outputs": [],
   "source": [
    "# read the yaml file with a list of parameters needed for the report\n",
    "with open(r'./parameters/started_doing_something_report_parameters.yaml') as file:\n",
    "    parameters = yaml.load(file, Loader=yaml.FullLoader)\n",
    "\n",
    "date_of_analysis = parameters['date_of_analysis']\n",
    "date_dir = date_of_analysis.replace('-', '_')\n",
    "### name of the data directory ###\n",
    "churn_based_on_behaviour_dir = parameters['churn_based_on_behaviour_dir']\n",
    "hs_list_filename = parameters['hs_list_filename']\n",
    "hs_list_path = 'churn_analysis/data/'+date_dir+'/'+hs_list_filename\n",
    "\n",
    "prediction_months = parameters['prediction_months']\n",
    "### penalizer value when fitting the models ###\n",
    "penalizer = parameters['penalizer']\n",
    "### model type ###\n",
    "model_type = parameters['model_type']\n",
    "### coefficient and p values when dropping unsignificant variables ###\n",
    "coefficient_limit_for_numerical_vars = parameters['coefficient_limit_for_numerical_vars']\n",
    "coefficient_limit_for_cat_vars = parameters['coefficient_limit_for_cat_vars']\n",
    "p_limit = parameters['p_limit']\n",
    "additional_higher_p_limit = parameters['additional_higher_p_limit']\n",
    "additional_lower_p_limit = parameters['additional_lower_p_limit']\n",
    "\n",
    "# read the yaml file with data set parameters #\n",
    "# data_set_name = input('Data set name: ')\n",
    "data_set_name = 'ALL_spots_with_CB_cancellation_requested'\n",
    "with open(r'./parameters/data_sets.yaml') as file:\n",
    "    data_sets_parameters = yaml.load(file, Loader=yaml.FullLoader)\n",
    "    \n",
    "spots_set = data_sets_parameters[data_set_name]['spots_set']\n",
    "with_wo_CB = data_sets_parameters[data_set_name]['with_wo_CB']\n",
    "event_date_full_name = data_sets_parameters[data_set_name]['event_date_type']\n",
    "\n",
    "if with_wo_CB == 'with_CB':\n",
    "    with_wo_CB_boolean = True\n",
    "else:\n",
    "    with_wo_CB_boolean = False\n",
    "\n",
    "if event_date_full_name == 'cancellation_requested':\n",
    "    event_date = 'canc_req'\n",
    "elif event_date_full_name == 'cancellation_confirmed':\n",
    "    event_date = 'canc_conf'"
   ]
  },
  {
   "cell_type": "code",
   "execution_count": 5,
   "id": "1dab750a",
   "metadata": {},
   "outputs": [],
   "source": [
    "##### base columns ##### \n",
    "base_cols = ['spot_id',\\\n",
    "            'time',\\\n",
    "            'event']"
   ]
  },
  {
   "cell_type": "code",
   "execution_count": 6,
   "id": "cd250bf8",
   "metadata": {},
   "outputs": [
    {
     "data": {
      "text/plain": [
       "'2023_01_01'"
      ]
     },
     "execution_count": 6,
     "metadata": {},
     "output_type": "execute_result"
    }
   ],
   "source": [
    "date_dir"
   ]
  },
  {
   "cell_type": "code",
   "execution_count": 7,
   "id": "10b00322",
   "metadata": {},
   "outputs": [],
   "source": [
    "website_sessions_wo_contactless = pd.read_csv('../issue_3788_mixpanel_tv/data/' + date_dir + \\\n",
    "                                              '/GA_data/sessions_new.csv')\n",
    "\n",
    "website_sessions_wo_contactless = website_sessions_wo_contactless.groupby(['spot_id', 'event_time'])\\\n",
    ".sessions.sum().reset_index()\n",
    "\n",
    "website_sessions_wo_contactless['event_time'] = website_sessions_wo_contactless['event_time']\\\n",
    ".apply(lambda x: x[0:7])\n",
    "\n",
    "website_sessions_wo_contactless = website_sessions_wo_contactless.groupby(['spot_id', 'event_time'])\\\n",
    ".sessions.sum().reset_index()\n",
    "\n",
    "website_sessions_wo_contactless = website_sessions_wo_contactless.groupby(['spot_id'])\\\n",
    ".sessions.mean().reset_index()"
   ]
  },
  {
   "cell_type": "code",
   "execution_count": 8,
   "id": "31ed0b41",
   "metadata": {},
   "outputs": [
    {
     "data": {
      "text/plain": [
       "349.000000     3\n",
       "49.000000      3\n",
       "7.000000       3\n",
       "521.000000     3\n",
       "13.000000      3\n",
       "              ..\n",
       "5416.200000    1\n",
       "1606.428571    1\n",
       "1726.000000    1\n",
       "2680.750000    1\n",
       "8.500000       1\n",
       "Name: sessions, Length: 5134, dtype: int64"
      ]
     },
     "execution_count": 8,
     "metadata": {},
     "output_type": "execute_result"
    }
   ],
   "source": [
    "website_sessions_wo_contactless['sessions'].value_counts()"
   ]
  },
  {
   "cell_type": "code",
   "execution_count": 9,
   "id": "9fa62aea",
   "metadata": {},
   "outputs": [],
   "source": [
    "##### Model 0: all variables - prepare data for the model ####\n",
    "cols_to_use = read_a_combination_of_variables.\\\n",
    "main(model_number=0, dir_name='combinations_of_variables_that_are_not_dependent/')\n",
    "#### get behavioural variables ####\n",
    "(variables_to_use_for_the_model, did_something_last_month_vars, did_something_before_and_didnt_last_month_vars) = \\\n",
    "get_started_doing_something_variables.main(date_of_analysis=date_of_analysis, variables_to_use_for_the_model=cols_to_use)\n",
    "cols = base_cols + variables_to_use_for_the_model + \\\n",
    "did_something_before_and_didnt_last_month_vars + did_something_last_month_vars\n",
    "\n",
    "# data_all_spots = \\\n",
    "# calculate_all_vars_for_churn_prediction.\\\n",
    "# get_data_for_the_MV_Cox_model(date_of_analysis=date_of_analysis,\\\n",
    "#                               hs_filename=hs_list_filename,\\\n",
    "#                               spots_set=spots_set,\\\n",
    "#                               with_wo_CB=with_wo_CB,\\\n",
    "#                               event_date=event_date, columns=cols,\\\n",
    "#                               data_dir=churn_based_on_behaviour_dir)\n",
    "\n",
    "#### get data for the model ###\n",
    "(data_, base_df_, df_timeline_all_vars_) = \\\n",
    "prepare_for_the_models.get_data_for_the_MV_Cox_model(date_of_analysis=date_of_analysis, spots_set=spots_set, \\\n",
    "                            with_wo_CB=with_wo_CB, event_date=event_date, columns=cols, data_dir=churn_based_on_behaviour_dir,\\\n",
    "                            C = 100)\n",
    "    \n",
    "model_numbers = \\\n",
    "read_a_combination_of_variables.get_a_list_of_model_numbers(dir_name='combinations_of_variables_that_are_not_dependent/')"
   ]
  },
  {
   "cell_type": "code",
   "execution_count": 10,
   "id": "7b4b0248",
   "metadata": {},
   "outputs": [],
   "source": [
    "num_of_p_values = 1\n",
    "num_of_prediction_months = len(prediction_months)"
   ]
  },
  {
   "cell_type": "code",
   "execution_count": 11,
   "id": "ad53ef26",
   "metadata": {},
   "outputs": [
    {
     "name": "stdout",
     "output_type": "stream",
     "text": [
      "# Model 36: properly_used_reservations_inquiries\n",
      "had_properly_used_reservations_inquiries\n",
      "had_properly_used_reservations_inquiries_last_2_months\n"
     ]
    },
    {
     "data": {
      "text/markdown": [
       "### sorted by variable name"
      ],
      "text/plain": [
       "<IPython.core.display.Markdown object>"
      ]
     },
     "metadata": {},
     "output_type": "display_data"
    },
    {
     "data": {
      "text/markdown": [
       "## without variables with p >= 0.2"
      ],
      "text/plain": [
       "<IPython.core.display.Markdown object>"
      ]
     },
     "metadata": {},
     "output_type": "display_data"
    },
    {
     "data": {
      "text/markdown": [
       "### sorted by variable name"
      ],
      "text/plain": [
       "<IPython.core.display.Markdown object>"
      ]
     },
     "metadata": {},
     "output_type": "display_data"
    },
    {
     "name": "stdout",
     "output_type": "stream",
     "text": [
      "# Model 36: properly_used_reservations_inquiries\n",
      "had_properly_used_reservations_inquiries\n",
      "had_properly_used_reservations_inquiries_last_2_months\n"
     ]
    },
    {
     "data": {
      "text/markdown": [
       "### sorted by variable name"
      ],
      "text/plain": [
       "<IPython.core.display.Markdown object>"
      ]
     },
     "metadata": {},
     "output_type": "display_data"
    },
    {
     "data": {
      "text/markdown": [
       "## without variables with p >= 0.2"
      ],
      "text/plain": [
       "<IPython.core.display.Markdown object>"
      ]
     },
     "metadata": {},
     "output_type": "display_data"
    },
    {
     "data": {
      "text/markdown": [
       "### sorted by variable name"
      ],
      "text/plain": [
       "<IPython.core.display.Markdown object>"
      ]
     },
     "metadata": {},
     "output_type": "display_data"
    },
    {
     "name": "stdout",
     "output_type": "stream",
     "text": [
      "# Model 36: properly_used_reservations_inquiries\n",
      "had_properly_used_reservations_inquiries\n",
      "had_properly_used_reservations_inquiries_last_2_months\n"
     ]
    },
    {
     "data": {
      "text/markdown": [
       "### sorted by variable name"
      ],
      "text/plain": [
       "<IPython.core.display.Markdown object>"
      ]
     },
     "metadata": {},
     "output_type": "display_data"
    },
    {
     "data": {
      "text/markdown": [
       "## without variables with p >= 0.2"
      ],
      "text/plain": [
       "<IPython.core.display.Markdown object>"
      ]
     },
     "metadata": {},
     "output_type": "display_data"
    },
    {
     "data": {
      "text/markdown": [
       "### sorted by variable name"
      ],
      "text/plain": [
       "<IPython.core.display.Markdown object>"
      ]
     },
     "metadata": {},
     "output_type": "display_data"
    },
    {
     "name": "stdout",
     "output_type": "stream",
     "text": [
      "# Model 36: properly_used_reservations_inquiries\n",
      "had_properly_used_reservations_inquiries\n",
      "had_properly_used_reservations_inquiries_last_2_months\n"
     ]
    },
    {
     "data": {
      "text/markdown": [
       "### sorted by variable name"
      ],
      "text/plain": [
       "<IPython.core.display.Markdown object>"
      ]
     },
     "metadata": {},
     "output_type": "display_data"
    },
    {
     "data": {
      "text/markdown": [
       "## without variables with p >= 0.2"
      ],
      "text/plain": [
       "<IPython.core.display.Markdown object>"
      ]
     },
     "metadata": {},
     "output_type": "display_data"
    },
    {
     "data": {
      "text/markdown": [
       "### sorted by variable name"
      ],
      "text/plain": [
       "<IPython.core.display.Markdown object>"
      ]
     },
     "metadata": {},
     "output_type": "display_data"
    },
    {
     "name": "stdout",
     "output_type": "stream",
     "text": [
      "# Model 36: properly_used_reservations_inquiries\n",
      "had_properly_used_reservations_inquiries\n",
      "had_properly_used_reservations_inquiries_last_2_months\n"
     ]
    },
    {
     "data": {
      "text/markdown": [
       "### sorted by variable name"
      ],
      "text/plain": [
       "<IPython.core.display.Markdown object>"
      ]
     },
     "metadata": {},
     "output_type": "display_data"
    },
    {
     "data": {
      "text/markdown": [
       "## without variables with p >= 0.2"
      ],
      "text/plain": [
       "<IPython.core.display.Markdown object>"
      ]
     },
     "metadata": {},
     "output_type": "display_data"
    },
    {
     "data": {
      "text/markdown": [
       "### sorted by variable name"
      ],
      "text/plain": [
       "<IPython.core.display.Markdown object>"
      ]
     },
     "metadata": {},
     "output_type": "display_data"
    },
    {
     "name": "stdout",
     "output_type": "stream",
     "text": [
      "# Model 36: properly_used_reservations_inquiries\n",
      "had_properly_used_reservations_inquiries\n",
      "had_properly_used_reservations_inquiries_last_2_months\n"
     ]
    },
    {
     "data": {
      "text/markdown": [
       "### sorted by variable name"
      ],
      "text/plain": [
       "<IPython.core.display.Markdown object>"
      ]
     },
     "metadata": {},
     "output_type": "display_data"
    },
    {
     "data": {
      "text/markdown": [
       "## without variables with p >= 0.2"
      ],
      "text/plain": [
       "<IPython.core.display.Markdown object>"
      ]
     },
     "metadata": {},
     "output_type": "display_data"
    },
    {
     "data": {
      "text/markdown": [
       "### sorted by variable name"
      ],
      "text/plain": [
       "<IPython.core.display.Markdown object>"
      ]
     },
     "metadata": {},
     "output_type": "display_data"
    },
    {
     "name": "stdout",
     "output_type": "stream",
     "text": [
      "# Model 36: properly_used_reservations_inquiries\n",
      "had_properly_used_reservations_inquiries\n",
      "had_properly_used_reservations_inquiries_last_2_months\n"
     ]
    },
    {
     "data": {
      "text/markdown": [
       "### sorted by variable name"
      ],
      "text/plain": [
       "<IPython.core.display.Markdown object>"
      ]
     },
     "metadata": {},
     "output_type": "display_data"
    },
    {
     "data": {
      "text/markdown": [
       "## without variables with p >= 0.2"
      ],
      "text/plain": [
       "<IPython.core.display.Markdown object>"
      ]
     },
     "metadata": {},
     "output_type": "display_data"
    },
    {
     "data": {
      "text/markdown": [
       "### sorted by variable name"
      ],
      "text/plain": [
       "<IPython.core.display.Markdown object>"
      ]
     },
     "metadata": {},
     "output_type": "display_data"
    },
    {
     "name": "stdout",
     "output_type": "stream",
     "text": [
      "# Model 36: properly_used_reservations_inquiries\n",
      "had_properly_used_reservations_inquiries\n",
      "had_properly_used_reservations_inquiries_last_2_months\n"
     ]
    },
    {
     "data": {
      "text/markdown": [
       "### sorted by variable name"
      ],
      "text/plain": [
       "<IPython.core.display.Markdown object>"
      ]
     },
     "metadata": {},
     "output_type": "display_data"
    },
    {
     "data": {
      "text/markdown": [
       "## without variables with p >= 0.2"
      ],
      "text/plain": [
       "<IPython.core.display.Markdown object>"
      ]
     },
     "metadata": {},
     "output_type": "display_data"
    },
    {
     "data": {
      "text/markdown": [
       "### sorted by variable name"
      ],
      "text/plain": [
       "<IPython.core.display.Markdown object>"
      ]
     },
     "metadata": {},
     "output_type": "display_data"
    },
    {
     "name": "stdout",
     "output_type": "stream",
     "text": [
      "# Model 36: properly_used_reservations_inquiries\n",
      "had_properly_used_reservations_inquiries\n",
      "had_properly_used_reservations_inquiries_last_2_months\n"
     ]
    },
    {
     "data": {
      "text/markdown": [
       "### sorted by variable name"
      ],
      "text/plain": [
       "<IPython.core.display.Markdown object>"
      ]
     },
     "metadata": {},
     "output_type": "display_data"
    },
    {
     "data": {
      "text/markdown": [
       "## without variables with p >= 0.2"
      ],
      "text/plain": [
       "<IPython.core.display.Markdown object>"
      ]
     },
     "metadata": {},
     "output_type": "display_data"
    },
    {
     "data": {
      "text/markdown": [
       "### sorted by variable name"
      ],
      "text/plain": [
       "<IPython.core.display.Markdown object>"
      ]
     },
     "metadata": {},
     "output_type": "display_data"
    },
    {
     "name": "stdout",
     "output_type": "stream",
     "text": [
      "# Model 36: properly_used_reservations_inquiries\n",
      "had_properly_used_reservations_inquiries\n",
      "had_properly_used_reservations_inquiries_last_2_months\n"
     ]
    },
    {
     "data": {
      "text/markdown": [
       "### sorted by variable name"
      ],
      "text/plain": [
       "<IPython.core.display.Markdown object>"
      ]
     },
     "metadata": {},
     "output_type": "display_data"
    },
    {
     "data": {
      "text/markdown": [
       "## without variables with p >= 0.2"
      ],
      "text/plain": [
       "<IPython.core.display.Markdown object>"
      ]
     },
     "metadata": {},
     "output_type": "display_data"
    },
    {
     "data": {
      "text/markdown": [
       "### sorted by variable name"
      ],
      "text/plain": [
       "<IPython.core.display.Markdown object>"
      ]
     },
     "metadata": {},
     "output_type": "display_data"
    },
    {
     "name": "stdout",
     "output_type": "stream",
     "text": [
      "# Model 36: properly_used_reservations_inquiries\n",
      "had_properly_used_reservations_inquiries\n",
      "had_properly_used_reservations_inquiries_last_2_months\n"
     ]
    },
    {
     "data": {
      "text/markdown": [
       "### sorted by variable name"
      ],
      "text/plain": [
       "<IPython.core.display.Markdown object>"
      ]
     },
     "metadata": {},
     "output_type": "display_data"
    },
    {
     "data": {
      "text/markdown": [
       "## without variables with p >= 0.2"
      ],
      "text/plain": [
       "<IPython.core.display.Markdown object>"
      ]
     },
     "metadata": {},
     "output_type": "display_data"
    },
    {
     "data": {
      "text/markdown": [
       "### sorted by variable name"
      ],
      "text/plain": [
       "<IPython.core.display.Markdown object>"
      ]
     },
     "metadata": {},
     "output_type": "display_data"
    },
    {
     "name": "stdout",
     "output_type": "stream",
     "text": [
      "# Model 36: properly_used_reservations_inquiries\n",
      "had_properly_used_reservations_inquiries\n",
      "had_properly_used_reservations_inquiries_last_2_months\n"
     ]
    },
    {
     "data": {
      "text/markdown": [
       "### sorted by variable name"
      ],
      "text/plain": [
       "<IPython.core.display.Markdown object>"
      ]
     },
     "metadata": {},
     "output_type": "display_data"
    },
    {
     "data": {
      "text/markdown": [
       "## without variables with p >= 0.2"
      ],
      "text/plain": [
       "<IPython.core.display.Markdown object>"
      ]
     },
     "metadata": {},
     "output_type": "display_data"
    },
    {
     "data": {
      "text/markdown": [
       "### sorted by variable name"
      ],
      "text/plain": [
       "<IPython.core.display.Markdown object>"
      ]
     },
     "metadata": {},
     "output_type": "display_data"
    },
    {
     "name": "stdout",
     "output_type": "stream",
     "text": [
      "# Model 36: properly_used_reservations_inquiries\n",
      "had_properly_used_reservations_inquiries\n",
      "had_properly_used_reservations_inquiries_last_2_months\n"
     ]
    },
    {
     "data": {
      "text/markdown": [
       "### sorted by variable name"
      ],
      "text/plain": [
       "<IPython.core.display.Markdown object>"
      ]
     },
     "metadata": {},
     "output_type": "display_data"
    },
    {
     "data": {
      "text/markdown": [
       "## without variables with p >= 0.2"
      ],
      "text/plain": [
       "<IPython.core.display.Markdown object>"
      ]
     },
     "metadata": {},
     "output_type": "display_data"
    },
    {
     "data": {
      "text/markdown": [
       "### sorted by variable name"
      ],
      "text/plain": [
       "<IPython.core.display.Markdown object>"
      ]
     },
     "metadata": {},
     "output_type": "display_data"
    },
    {
     "name": "stdout",
     "output_type": "stream",
     "text": [
      "# Model 36: properly_used_reservations_inquiries\n",
      "had_properly_used_reservations_inquiries\n",
      "had_properly_used_reservations_inquiries_last_2_months\n"
     ]
    },
    {
     "data": {
      "text/markdown": [
       "### sorted by variable name"
      ],
      "text/plain": [
       "<IPython.core.display.Markdown object>"
      ]
     },
     "metadata": {},
     "output_type": "display_data"
    },
    {
     "data": {
      "text/markdown": [
       "## without variables with p >= 0.2"
      ],
      "text/plain": [
       "<IPython.core.display.Markdown object>"
      ]
     },
     "metadata": {},
     "output_type": "display_data"
    },
    {
     "data": {
      "text/markdown": [
       "### sorted by variable name"
      ],
      "text/plain": [
       "<IPython.core.display.Markdown object>"
      ]
     },
     "metadata": {},
     "output_type": "display_data"
    },
    {
     "name": "stdout",
     "output_type": "stream",
     "text": [
      "# Model 37: properly_used_catering_inquiries\n",
      "had_properly_used_catering_inquiries\n",
      "had_properly_used_catering_inquiries_last_4_months\n"
     ]
    },
    {
     "data": {
      "text/markdown": [
       "### sorted by variable name"
      ],
      "text/plain": [
       "<IPython.core.display.Markdown object>"
      ]
     },
     "metadata": {},
     "output_type": "display_data"
    },
    {
     "data": {
      "text/markdown": [
       "## without variables with p >= 0.2"
      ],
      "text/plain": [
       "<IPython.core.display.Markdown object>"
      ]
     },
     "metadata": {},
     "output_type": "display_data"
    },
    {
     "data": {
      "text/markdown": [
       "### sorted by variable name"
      ],
      "text/plain": [
       "<IPython.core.display.Markdown object>"
      ]
     },
     "metadata": {},
     "output_type": "display_data"
    },
    {
     "name": "stdout",
     "output_type": "stream",
     "text": [
      "# Model 37: properly_used_catering_inquiries\n",
      "had_properly_used_catering_inquiries\n",
      "had_properly_used_catering_inquiries_last_4_months\n"
     ]
    },
    {
     "data": {
      "text/markdown": [
       "### sorted by variable name"
      ],
      "text/plain": [
       "<IPython.core.display.Markdown object>"
      ]
     },
     "metadata": {},
     "output_type": "display_data"
    },
    {
     "data": {
      "text/markdown": [
       "## without variables with p >= 0.2"
      ],
      "text/plain": [
       "<IPython.core.display.Markdown object>"
      ]
     },
     "metadata": {},
     "output_type": "display_data"
    },
    {
     "data": {
      "text/markdown": [
       "### sorted by variable name"
      ],
      "text/plain": [
       "<IPython.core.display.Markdown object>"
      ]
     },
     "metadata": {},
     "output_type": "display_data"
    },
    {
     "name": "stdout",
     "output_type": "stream",
     "text": [
      "# Model 37: properly_used_catering_inquiries\n",
      "had_properly_used_catering_inquiries\n",
      "had_properly_used_catering_inquiries_last_4_months\n"
     ]
    },
    {
     "data": {
      "text/markdown": [
       "### sorted by variable name"
      ],
      "text/plain": [
       "<IPython.core.display.Markdown object>"
      ]
     },
     "metadata": {},
     "output_type": "display_data"
    },
    {
     "data": {
      "text/markdown": [
       "## without variables with p >= 0.2"
      ],
      "text/plain": [
       "<IPython.core.display.Markdown object>"
      ]
     },
     "metadata": {},
     "output_type": "display_data"
    },
    {
     "data": {
      "text/markdown": [
       "### sorted by variable name"
      ],
      "text/plain": [
       "<IPython.core.display.Markdown object>"
      ]
     },
     "metadata": {},
     "output_type": "display_data"
    },
    {
     "name": "stdout",
     "output_type": "stream",
     "text": [
      "# Model 37: properly_used_catering_inquiries\n",
      "had_properly_used_catering_inquiries\n",
      "had_properly_used_catering_inquiries_last_4_months\n"
     ]
    },
    {
     "data": {
      "text/markdown": [
       "### sorted by variable name"
      ],
      "text/plain": [
       "<IPython.core.display.Markdown object>"
      ]
     },
     "metadata": {},
     "output_type": "display_data"
    },
    {
     "data": {
      "text/markdown": [
       "## without variables with p >= 0.2"
      ],
      "text/plain": [
       "<IPython.core.display.Markdown object>"
      ]
     },
     "metadata": {},
     "output_type": "display_data"
    },
    {
     "data": {
      "text/markdown": [
       "### sorted by variable name"
      ],
      "text/plain": [
       "<IPython.core.display.Markdown object>"
      ]
     },
     "metadata": {},
     "output_type": "display_data"
    },
    {
     "name": "stdout",
     "output_type": "stream",
     "text": [
      "# Model 37: properly_used_catering_inquiries\n",
      "had_properly_used_catering_inquiries\n",
      "had_properly_used_catering_inquiries_last_4_months\n"
     ]
    },
    {
     "data": {
      "text/markdown": [
       "### sorted by variable name"
      ],
      "text/plain": [
       "<IPython.core.display.Markdown object>"
      ]
     },
     "metadata": {},
     "output_type": "display_data"
    },
    {
     "data": {
      "text/markdown": [
       "## without variables with p >= 0.2"
      ],
      "text/plain": [
       "<IPython.core.display.Markdown object>"
      ]
     },
     "metadata": {},
     "output_type": "display_data"
    },
    {
     "data": {
      "text/markdown": [
       "### sorted by variable name"
      ],
      "text/plain": [
       "<IPython.core.display.Markdown object>"
      ]
     },
     "metadata": {},
     "output_type": "display_data"
    },
    {
     "name": "stdout",
     "output_type": "stream",
     "text": [
      "# Model 37: properly_used_catering_inquiries\n",
      "had_properly_used_catering_inquiries\n",
      "had_properly_used_catering_inquiries_last_4_months\n"
     ]
    },
    {
     "data": {
      "text/markdown": [
       "### sorted by variable name"
      ],
      "text/plain": [
       "<IPython.core.display.Markdown object>"
      ]
     },
     "metadata": {},
     "output_type": "display_data"
    },
    {
     "data": {
      "text/markdown": [
       "## without variables with p >= 0.2"
      ],
      "text/plain": [
       "<IPython.core.display.Markdown object>"
      ]
     },
     "metadata": {},
     "output_type": "display_data"
    },
    {
     "data": {
      "text/markdown": [
       "### sorted by variable name"
      ],
      "text/plain": [
       "<IPython.core.display.Markdown object>"
      ]
     },
     "metadata": {},
     "output_type": "display_data"
    },
    {
     "name": "stdout",
     "output_type": "stream",
     "text": [
      "# Model 37: properly_used_catering_inquiries\n",
      "had_properly_used_catering_inquiries\n",
      "had_properly_used_catering_inquiries_last_4_months\n"
     ]
    },
    {
     "data": {
      "text/markdown": [
       "### sorted by variable name"
      ],
      "text/plain": [
       "<IPython.core.display.Markdown object>"
      ]
     },
     "metadata": {},
     "output_type": "display_data"
    },
    {
     "data": {
      "text/markdown": [
       "## without variables with p >= 0.2"
      ],
      "text/plain": [
       "<IPython.core.display.Markdown object>"
      ]
     },
     "metadata": {},
     "output_type": "display_data"
    },
    {
     "data": {
      "text/markdown": [
       "### sorted by variable name"
      ],
      "text/plain": [
       "<IPython.core.display.Markdown object>"
      ]
     },
     "metadata": {},
     "output_type": "display_data"
    },
    {
     "name": "stdout",
     "output_type": "stream",
     "text": [
      "# Model 37: properly_used_catering_inquiries\n",
      "had_properly_used_catering_inquiries\n",
      "had_properly_used_catering_inquiries_last_4_months\n"
     ]
    },
    {
     "data": {
      "text/markdown": [
       "### sorted by variable name"
      ],
      "text/plain": [
       "<IPython.core.display.Markdown object>"
      ]
     },
     "metadata": {},
     "output_type": "display_data"
    },
    {
     "data": {
      "text/markdown": [
       "## without variables with p >= 0.2"
      ],
      "text/plain": [
       "<IPython.core.display.Markdown object>"
      ]
     },
     "metadata": {},
     "output_type": "display_data"
    },
    {
     "data": {
      "text/markdown": [
       "### sorted by variable name"
      ],
      "text/plain": [
       "<IPython.core.display.Markdown object>"
      ]
     },
     "metadata": {},
     "output_type": "display_data"
    },
    {
     "name": "stdout",
     "output_type": "stream",
     "text": [
      "# Model 37: properly_used_catering_inquiries\n",
      "had_properly_used_catering_inquiries\n",
      "had_properly_used_catering_inquiries_last_4_months\n"
     ]
    },
    {
     "data": {
      "text/markdown": [
       "### sorted by variable name"
      ],
      "text/plain": [
       "<IPython.core.display.Markdown object>"
      ]
     },
     "metadata": {},
     "output_type": "display_data"
    },
    {
     "data": {
      "text/markdown": [
       "## without variables with p >= 0.2"
      ],
      "text/plain": [
       "<IPython.core.display.Markdown object>"
      ]
     },
     "metadata": {},
     "output_type": "display_data"
    },
    {
     "data": {
      "text/markdown": [
       "### sorted by variable name"
      ],
      "text/plain": [
       "<IPython.core.display.Markdown object>"
      ]
     },
     "metadata": {},
     "output_type": "display_data"
    },
    {
     "name": "stdout",
     "output_type": "stream",
     "text": [
      "# Model 37: properly_used_catering_inquiries\n",
      "had_properly_used_catering_inquiries\n",
      "had_properly_used_catering_inquiries_last_4_months\n"
     ]
    },
    {
     "data": {
      "text/markdown": [
       "### sorted by variable name"
      ],
      "text/plain": [
       "<IPython.core.display.Markdown object>"
      ]
     },
     "metadata": {},
     "output_type": "display_data"
    },
    {
     "data": {
      "text/markdown": [
       "## without variables with p >= 0.2"
      ],
      "text/plain": [
       "<IPython.core.display.Markdown object>"
      ]
     },
     "metadata": {},
     "output_type": "display_data"
    },
    {
     "data": {
      "text/markdown": [
       "### sorted by variable name"
      ],
      "text/plain": [
       "<IPython.core.display.Markdown object>"
      ]
     },
     "metadata": {},
     "output_type": "display_data"
    },
    {
     "name": "stdout",
     "output_type": "stream",
     "text": [
      "# Model 37: properly_used_catering_inquiries\n",
      "had_properly_used_catering_inquiries\n",
      "had_properly_used_catering_inquiries_last_4_months\n"
     ]
    },
    {
     "data": {
      "text/markdown": [
       "### sorted by variable name"
      ],
      "text/plain": [
       "<IPython.core.display.Markdown object>"
      ]
     },
     "metadata": {},
     "output_type": "display_data"
    },
    {
     "data": {
      "text/markdown": [
       "## without variables with p >= 0.2"
      ],
      "text/plain": [
       "<IPython.core.display.Markdown object>"
      ]
     },
     "metadata": {},
     "output_type": "display_data"
    },
    {
     "data": {
      "text/markdown": [
       "### sorted by variable name"
      ],
      "text/plain": [
       "<IPython.core.display.Markdown object>"
      ]
     },
     "metadata": {},
     "output_type": "display_data"
    },
    {
     "name": "stdout",
     "output_type": "stream",
     "text": [
      "# Model 37: properly_used_catering_inquiries\n",
      "had_properly_used_catering_inquiries\n",
      "had_properly_used_catering_inquiries_last_4_months\n"
     ]
    },
    {
     "data": {
      "text/markdown": [
       "### sorted by variable name"
      ],
      "text/plain": [
       "<IPython.core.display.Markdown object>"
      ]
     },
     "metadata": {},
     "output_type": "display_data"
    },
    {
     "data": {
      "text/markdown": [
       "## without variables with p >= 0.2"
      ],
      "text/plain": [
       "<IPython.core.display.Markdown object>"
      ]
     },
     "metadata": {},
     "output_type": "display_data"
    },
    {
     "data": {
      "text/markdown": [
       "### sorted by variable name"
      ],
      "text/plain": [
       "<IPython.core.display.Markdown object>"
      ]
     },
     "metadata": {},
     "output_type": "display_data"
    },
    {
     "name": "stdout",
     "output_type": "stream",
     "text": [
      "# Model 37: properly_used_catering_inquiries\n",
      "had_properly_used_catering_inquiries\n",
      "had_properly_used_catering_inquiries_last_4_months\n"
     ]
    },
    {
     "data": {
      "text/markdown": [
       "### sorted by variable name"
      ],
      "text/plain": [
       "<IPython.core.display.Markdown object>"
      ]
     },
     "metadata": {},
     "output_type": "display_data"
    },
    {
     "data": {
      "text/markdown": [
       "## without variables with p >= 0.2"
      ],
      "text/plain": [
       "<IPython.core.display.Markdown object>"
      ]
     },
     "metadata": {},
     "output_type": "display_data"
    },
    {
     "data": {
      "text/markdown": [
       "### sorted by variable name"
      ],
      "text/plain": [
       "<IPython.core.display.Markdown object>"
      ]
     },
     "metadata": {},
     "output_type": "display_data"
    },
    {
     "name": "stdout",
     "output_type": "stream",
     "text": [
      "# Model 37: properly_used_catering_inquiries\n",
      "had_properly_used_catering_inquiries\n",
      "had_properly_used_catering_inquiries_last_4_months\n"
     ]
    },
    {
     "data": {
      "text/markdown": [
       "### sorted by variable name"
      ],
      "text/plain": [
       "<IPython.core.display.Markdown object>"
      ]
     },
     "metadata": {},
     "output_type": "display_data"
    },
    {
     "data": {
      "text/markdown": [
       "## without variables with p >= 0.2"
      ],
      "text/plain": [
       "<IPython.core.display.Markdown object>"
      ]
     },
     "metadata": {},
     "output_type": "display_data"
    },
    {
     "data": {
      "text/markdown": [
       "### sorted by variable name"
      ],
      "text/plain": [
       "<IPython.core.display.Markdown object>"
      ]
     },
     "metadata": {},
     "output_type": "display_data"
    },
    {
     "name": "stdout",
     "output_type": "stream",
     "text": [
      "# Model 38: properly_used_private_parties_inquiries\n",
      "had_properly_used_private_parties_inquiries\n",
      "had_properly_used_private_parties_inquiries_last_3_months\n"
     ]
    },
    {
     "data": {
      "text/markdown": [
       "### sorted by variable name"
      ],
      "text/plain": [
       "<IPython.core.display.Markdown object>"
      ]
     },
     "metadata": {},
     "output_type": "display_data"
    },
    {
     "data": {
      "text/markdown": [
       "## without variables with p >= 0.2"
      ],
      "text/plain": [
       "<IPython.core.display.Markdown object>"
      ]
     },
     "metadata": {},
     "output_type": "display_data"
    },
    {
     "data": {
      "text/markdown": [
       "### sorted by variable name"
      ],
      "text/plain": [
       "<IPython.core.display.Markdown object>"
      ]
     },
     "metadata": {},
     "output_type": "display_data"
    },
    {
     "name": "stdout",
     "output_type": "stream",
     "text": [
      "# Model 38: properly_used_private_parties_inquiries\n",
      "had_properly_used_private_parties_inquiries\n",
      "had_properly_used_private_parties_inquiries_last_3_months\n"
     ]
    },
    {
     "data": {
      "text/markdown": [
       "### sorted by variable name"
      ],
      "text/plain": [
       "<IPython.core.display.Markdown object>"
      ]
     },
     "metadata": {},
     "output_type": "display_data"
    },
    {
     "data": {
      "text/markdown": [
       "## without variables with p >= 0.2"
      ],
      "text/plain": [
       "<IPython.core.display.Markdown object>"
      ]
     },
     "metadata": {},
     "output_type": "display_data"
    },
    {
     "data": {
      "text/markdown": [
       "### sorted by variable name"
      ],
      "text/plain": [
       "<IPython.core.display.Markdown object>"
      ]
     },
     "metadata": {},
     "output_type": "display_data"
    },
    {
     "name": "stdout",
     "output_type": "stream",
     "text": [
      "# Model 38: properly_used_private_parties_inquiries\n",
      "had_properly_used_private_parties_inquiries\n",
      "had_properly_used_private_parties_inquiries_last_3_months\n"
     ]
    },
    {
     "data": {
      "text/markdown": [
       "### sorted by variable name"
      ],
      "text/plain": [
       "<IPython.core.display.Markdown object>"
      ]
     },
     "metadata": {},
     "output_type": "display_data"
    },
    {
     "data": {
      "text/markdown": [
       "## without variables with p >= 0.2"
      ],
      "text/plain": [
       "<IPython.core.display.Markdown object>"
      ]
     },
     "metadata": {},
     "output_type": "display_data"
    },
    {
     "data": {
      "text/markdown": [
       "### sorted by variable name"
      ],
      "text/plain": [
       "<IPython.core.display.Markdown object>"
      ]
     },
     "metadata": {},
     "output_type": "display_data"
    },
    {
     "name": "stdout",
     "output_type": "stream",
     "text": [
      "# Model 38: properly_used_private_parties_inquiries\n",
      "had_properly_used_private_parties_inquiries\n",
      "had_properly_used_private_parties_inquiries_last_3_months\n"
     ]
    },
    {
     "data": {
      "text/markdown": [
       "### sorted by variable name"
      ],
      "text/plain": [
       "<IPython.core.display.Markdown object>"
      ]
     },
     "metadata": {},
     "output_type": "display_data"
    },
    {
     "data": {
      "text/markdown": [
       "## without variables with p >= 0.2"
      ],
      "text/plain": [
       "<IPython.core.display.Markdown object>"
      ]
     },
     "metadata": {},
     "output_type": "display_data"
    },
    {
     "data": {
      "text/markdown": [
       "### sorted by variable name"
      ],
      "text/plain": [
       "<IPython.core.display.Markdown object>"
      ]
     },
     "metadata": {},
     "output_type": "display_data"
    },
    {
     "name": "stdout",
     "output_type": "stream",
     "text": [
      "# Model 38: properly_used_private_parties_inquiries\n",
      "had_properly_used_private_parties_inquiries\n",
      "had_properly_used_private_parties_inquiries_last_3_months\n"
     ]
    },
    {
     "data": {
      "text/markdown": [
       "### sorted by variable name"
      ],
      "text/plain": [
       "<IPython.core.display.Markdown object>"
      ]
     },
     "metadata": {},
     "output_type": "display_data"
    },
    {
     "data": {
      "text/markdown": [
       "## without variables with p >= 0.2"
      ],
      "text/plain": [
       "<IPython.core.display.Markdown object>"
      ]
     },
     "metadata": {},
     "output_type": "display_data"
    },
    {
     "data": {
      "text/markdown": [
       "### sorted by variable name"
      ],
      "text/plain": [
       "<IPython.core.display.Markdown object>"
      ]
     },
     "metadata": {},
     "output_type": "display_data"
    },
    {
     "name": "stdout",
     "output_type": "stream",
     "text": [
      "# Model 38: properly_used_private_parties_inquiries\n",
      "had_properly_used_private_parties_inquiries\n",
      "had_properly_used_private_parties_inquiries_last_3_months\n"
     ]
    },
    {
     "data": {
      "text/markdown": [
       "### sorted by variable name"
      ],
      "text/plain": [
       "<IPython.core.display.Markdown object>"
      ]
     },
     "metadata": {},
     "output_type": "display_data"
    },
    {
     "data": {
      "text/markdown": [
       "## without variables with p >= 0.2"
      ],
      "text/plain": [
       "<IPython.core.display.Markdown object>"
      ]
     },
     "metadata": {},
     "output_type": "display_data"
    },
    {
     "data": {
      "text/markdown": [
       "### sorted by variable name"
      ],
      "text/plain": [
       "<IPython.core.display.Markdown object>"
      ]
     },
     "metadata": {},
     "output_type": "display_data"
    },
    {
     "name": "stdout",
     "output_type": "stream",
     "text": [
      "# Model 38: properly_used_private_parties_inquiries\n",
      "had_properly_used_private_parties_inquiries\n",
      "had_properly_used_private_parties_inquiries_last_3_months\n"
     ]
    },
    {
     "data": {
      "text/markdown": [
       "### sorted by variable name"
      ],
      "text/plain": [
       "<IPython.core.display.Markdown object>"
      ]
     },
     "metadata": {},
     "output_type": "display_data"
    },
    {
     "data": {
      "text/markdown": [
       "## without variables with p >= 0.2"
      ],
      "text/plain": [
       "<IPython.core.display.Markdown object>"
      ]
     },
     "metadata": {},
     "output_type": "display_data"
    },
    {
     "data": {
      "text/markdown": [
       "### sorted by variable name"
      ],
      "text/plain": [
       "<IPython.core.display.Markdown object>"
      ]
     },
     "metadata": {},
     "output_type": "display_data"
    },
    {
     "name": "stdout",
     "output_type": "stream",
     "text": [
      "# Model 38: properly_used_private_parties_inquiries\n",
      "had_properly_used_private_parties_inquiries\n",
      "had_properly_used_private_parties_inquiries_last_3_months\n"
     ]
    },
    {
     "data": {
      "text/markdown": [
       "### sorted by variable name"
      ],
      "text/plain": [
       "<IPython.core.display.Markdown object>"
      ]
     },
     "metadata": {},
     "output_type": "display_data"
    },
    {
     "data": {
      "text/markdown": [
       "## without variables with p >= 0.2"
      ],
      "text/plain": [
       "<IPython.core.display.Markdown object>"
      ]
     },
     "metadata": {},
     "output_type": "display_data"
    },
    {
     "data": {
      "text/markdown": [
       "### sorted by variable name"
      ],
      "text/plain": [
       "<IPython.core.display.Markdown object>"
      ]
     },
     "metadata": {},
     "output_type": "display_data"
    },
    {
     "name": "stdout",
     "output_type": "stream",
     "text": [
      "# Model 38: properly_used_private_parties_inquiries\n",
      "had_properly_used_private_parties_inquiries\n",
      "had_properly_used_private_parties_inquiries_last_3_months\n"
     ]
    },
    {
     "data": {
      "text/markdown": [
       "### sorted by variable name"
      ],
      "text/plain": [
       "<IPython.core.display.Markdown object>"
      ]
     },
     "metadata": {},
     "output_type": "display_data"
    },
    {
     "data": {
      "text/markdown": [
       "## without variables with p >= 0.2"
      ],
      "text/plain": [
       "<IPython.core.display.Markdown object>"
      ]
     },
     "metadata": {},
     "output_type": "display_data"
    },
    {
     "data": {
      "text/markdown": [
       "### sorted by variable name"
      ],
      "text/plain": [
       "<IPython.core.display.Markdown object>"
      ]
     },
     "metadata": {},
     "output_type": "display_data"
    },
    {
     "name": "stdout",
     "output_type": "stream",
     "text": [
      "# Model 38: properly_used_private_parties_inquiries\n",
      "had_properly_used_private_parties_inquiries\n",
      "had_properly_used_private_parties_inquiries_last_3_months\n"
     ]
    },
    {
     "data": {
      "text/markdown": [
       "### sorted by variable name"
      ],
      "text/plain": [
       "<IPython.core.display.Markdown object>"
      ]
     },
     "metadata": {},
     "output_type": "display_data"
    },
    {
     "data": {
      "text/markdown": [
       "## without variables with p >= 0.2"
      ],
      "text/plain": [
       "<IPython.core.display.Markdown object>"
      ]
     },
     "metadata": {},
     "output_type": "display_data"
    },
    {
     "data": {
      "text/markdown": [
       "### sorted by variable name"
      ],
      "text/plain": [
       "<IPython.core.display.Markdown object>"
      ]
     },
     "metadata": {},
     "output_type": "display_data"
    },
    {
     "name": "stdout",
     "output_type": "stream",
     "text": [
      "# Model 38: properly_used_private_parties_inquiries\n",
      "had_properly_used_private_parties_inquiries\n",
      "had_properly_used_private_parties_inquiries_last_3_months\n"
     ]
    },
    {
     "data": {
      "text/markdown": [
       "### sorted by variable name"
      ],
      "text/plain": [
       "<IPython.core.display.Markdown object>"
      ]
     },
     "metadata": {},
     "output_type": "display_data"
    },
    {
     "data": {
      "text/markdown": [
       "## without variables with p >= 0.2"
      ],
      "text/plain": [
       "<IPython.core.display.Markdown object>"
      ]
     },
     "metadata": {},
     "output_type": "display_data"
    },
    {
     "data": {
      "text/markdown": [
       "### sorted by variable name"
      ],
      "text/plain": [
       "<IPython.core.display.Markdown object>"
      ]
     },
     "metadata": {},
     "output_type": "display_data"
    },
    {
     "name": "stdout",
     "output_type": "stream",
     "text": [
      "# Model 38: properly_used_private_parties_inquiries\n",
      "had_properly_used_private_parties_inquiries\n",
      "had_properly_used_private_parties_inquiries_last_3_months\n"
     ]
    },
    {
     "data": {
      "text/markdown": [
       "### sorted by variable name"
      ],
      "text/plain": [
       "<IPython.core.display.Markdown object>"
      ]
     },
     "metadata": {},
     "output_type": "display_data"
    },
    {
     "data": {
      "text/markdown": [
       "## without variables with p >= 0.2"
      ],
      "text/plain": [
       "<IPython.core.display.Markdown object>"
      ]
     },
     "metadata": {},
     "output_type": "display_data"
    },
    {
     "data": {
      "text/markdown": [
       "### sorted by variable name"
      ],
      "text/plain": [
       "<IPython.core.display.Markdown object>"
      ]
     },
     "metadata": {},
     "output_type": "display_data"
    },
    {
     "name": "stdout",
     "output_type": "stream",
     "text": [
      "# Model 38: properly_used_private_parties_inquiries\n",
      "had_properly_used_private_parties_inquiries\n",
      "had_properly_used_private_parties_inquiries_last_3_months\n"
     ]
    },
    {
     "data": {
      "text/markdown": [
       "### sorted by variable name"
      ],
      "text/plain": [
       "<IPython.core.display.Markdown object>"
      ]
     },
     "metadata": {},
     "output_type": "display_data"
    },
    {
     "data": {
      "text/markdown": [
       "## without variables with p >= 0.2"
      ],
      "text/plain": [
       "<IPython.core.display.Markdown object>"
      ]
     },
     "metadata": {},
     "output_type": "display_data"
    },
    {
     "data": {
      "text/markdown": [
       "### sorted by variable name"
      ],
      "text/plain": [
       "<IPython.core.display.Markdown object>"
      ]
     },
     "metadata": {},
     "output_type": "display_data"
    },
    {
     "name": "stdout",
     "output_type": "stream",
     "text": [
      "# Model 38: properly_used_private_parties_inquiries\n",
      "had_properly_used_private_parties_inquiries\n",
      "had_properly_used_private_parties_inquiries_last_3_months\n"
     ]
    },
    {
     "data": {
      "text/markdown": [
       "### sorted by variable name"
      ],
      "text/plain": [
       "<IPython.core.display.Markdown object>"
      ]
     },
     "metadata": {},
     "output_type": "display_data"
    },
    {
     "data": {
      "text/markdown": [
       "## without variables with p >= 0.2"
      ],
      "text/plain": [
       "<IPython.core.display.Markdown object>"
      ]
     },
     "metadata": {},
     "output_type": "display_data"
    },
    {
     "data": {
      "text/markdown": [
       "### sorted by variable name"
      ],
      "text/plain": [
       "<IPython.core.display.Markdown object>"
      ]
     },
     "metadata": {},
     "output_type": "display_data"
    },
    {
     "name": "stdout",
     "output_type": "stream",
     "text": [
      "# Model 39: properly_used_job_listings_inquiries\n",
      "had_properly_used_job_listings_inquiries\n",
      "had_properly_used_job_listings_inquiries_last_3_months\n"
     ]
    },
    {
     "data": {
      "text/markdown": [
       "### sorted by variable name"
      ],
      "text/plain": [
       "<IPython.core.display.Markdown object>"
      ]
     },
     "metadata": {},
     "output_type": "display_data"
    },
    {
     "data": {
      "text/markdown": [
       "## without variables with p >= 0.2"
      ],
      "text/plain": [
       "<IPython.core.display.Markdown object>"
      ]
     },
     "metadata": {},
     "output_type": "display_data"
    },
    {
     "data": {
      "text/markdown": [
       "### sorted by variable name"
      ],
      "text/plain": [
       "<IPython.core.display.Markdown object>"
      ]
     },
     "metadata": {},
     "output_type": "display_data"
    },
    {
     "name": "stdout",
     "output_type": "stream",
     "text": [
      "# Model 39: properly_used_job_listings_inquiries\n",
      "had_properly_used_job_listings_inquiries\n",
      "had_properly_used_job_listings_inquiries_last_3_months\n"
     ]
    },
    {
     "data": {
      "text/markdown": [
       "### sorted by variable name"
      ],
      "text/plain": [
       "<IPython.core.display.Markdown object>"
      ]
     },
     "metadata": {},
     "output_type": "display_data"
    },
    {
     "data": {
      "text/markdown": [
       "## without variables with p >= 0.2"
      ],
      "text/plain": [
       "<IPython.core.display.Markdown object>"
      ]
     },
     "metadata": {},
     "output_type": "display_data"
    },
    {
     "data": {
      "text/markdown": [
       "### sorted by variable name"
      ],
      "text/plain": [
       "<IPython.core.display.Markdown object>"
      ]
     },
     "metadata": {},
     "output_type": "display_data"
    },
    {
     "name": "stdout",
     "output_type": "stream",
     "text": [
      "# Model 39: properly_used_job_listings_inquiries\n",
      "had_properly_used_job_listings_inquiries\n",
      "had_properly_used_job_listings_inquiries_last_3_months\n"
     ]
    },
    {
     "data": {
      "text/markdown": [
       "### sorted by variable name"
      ],
      "text/plain": [
       "<IPython.core.display.Markdown object>"
      ]
     },
     "metadata": {},
     "output_type": "display_data"
    },
    {
     "data": {
      "text/markdown": [
       "## without variables with p >= 0.2"
      ],
      "text/plain": [
       "<IPython.core.display.Markdown object>"
      ]
     },
     "metadata": {},
     "output_type": "display_data"
    },
    {
     "data": {
      "text/markdown": [
       "### sorted by variable name"
      ],
      "text/plain": [
       "<IPython.core.display.Markdown object>"
      ]
     },
     "metadata": {},
     "output_type": "display_data"
    },
    {
     "name": "stdout",
     "output_type": "stream",
     "text": [
      "# Model 39: properly_used_job_listings_inquiries\n",
      "had_properly_used_job_listings_inquiries\n",
      "had_properly_used_job_listings_inquiries_last_3_months\n"
     ]
    },
    {
     "data": {
      "text/markdown": [
       "### sorted by variable name"
      ],
      "text/plain": [
       "<IPython.core.display.Markdown object>"
      ]
     },
     "metadata": {},
     "output_type": "display_data"
    },
    {
     "data": {
      "text/markdown": [
       "## without variables with p >= 0.2"
      ],
      "text/plain": [
       "<IPython.core.display.Markdown object>"
      ]
     },
     "metadata": {},
     "output_type": "display_data"
    },
    {
     "data": {
      "text/markdown": [
       "### sorted by variable name"
      ],
      "text/plain": [
       "<IPython.core.display.Markdown object>"
      ]
     },
     "metadata": {},
     "output_type": "display_data"
    },
    {
     "name": "stdout",
     "output_type": "stream",
     "text": [
      "# Model 39: properly_used_job_listings_inquiries\n",
      "had_properly_used_job_listings_inquiries\n",
      "had_properly_used_job_listings_inquiries_last_3_months\n"
     ]
    },
    {
     "data": {
      "text/markdown": [
       "### sorted by variable name"
      ],
      "text/plain": [
       "<IPython.core.display.Markdown object>"
      ]
     },
     "metadata": {},
     "output_type": "display_data"
    },
    {
     "data": {
      "text/markdown": [
       "## without variables with p >= 0.2"
      ],
      "text/plain": [
       "<IPython.core.display.Markdown object>"
      ]
     },
     "metadata": {},
     "output_type": "display_data"
    },
    {
     "data": {
      "text/markdown": [
       "### sorted by variable name"
      ],
      "text/plain": [
       "<IPython.core.display.Markdown object>"
      ]
     },
     "metadata": {},
     "output_type": "display_data"
    },
    {
     "name": "stdout",
     "output_type": "stream",
     "text": [
      "# Model 39: properly_used_job_listings_inquiries\n",
      "had_properly_used_job_listings_inquiries\n",
      "had_properly_used_job_listings_inquiries_last_3_months\n"
     ]
    },
    {
     "data": {
      "text/markdown": [
       "### sorted by variable name"
      ],
      "text/plain": [
       "<IPython.core.display.Markdown object>"
      ]
     },
     "metadata": {},
     "output_type": "display_data"
    },
    {
     "data": {
      "text/markdown": [
       "## without variables with p >= 0.2"
      ],
      "text/plain": [
       "<IPython.core.display.Markdown object>"
      ]
     },
     "metadata": {},
     "output_type": "display_data"
    },
    {
     "data": {
      "text/markdown": [
       "### sorted by variable name"
      ],
      "text/plain": [
       "<IPython.core.display.Markdown object>"
      ]
     },
     "metadata": {},
     "output_type": "display_data"
    },
    {
     "name": "stdout",
     "output_type": "stream",
     "text": [
      "# Model 39: properly_used_job_listings_inquiries\n",
      "had_properly_used_job_listings_inquiries\n",
      "had_properly_used_job_listings_inquiries_last_3_months\n"
     ]
    },
    {
     "data": {
      "text/markdown": [
       "### sorted by variable name"
      ],
      "text/plain": [
       "<IPython.core.display.Markdown object>"
      ]
     },
     "metadata": {},
     "output_type": "display_data"
    },
    {
     "data": {
      "text/markdown": [
       "## without variables with p >= 0.2"
      ],
      "text/plain": [
       "<IPython.core.display.Markdown object>"
      ]
     },
     "metadata": {},
     "output_type": "display_data"
    },
    {
     "data": {
      "text/markdown": [
       "### sorted by variable name"
      ],
      "text/plain": [
       "<IPython.core.display.Markdown object>"
      ]
     },
     "metadata": {},
     "output_type": "display_data"
    },
    {
     "name": "stdout",
     "output_type": "stream",
     "text": [
      "# Model 39: properly_used_job_listings_inquiries\n",
      "had_properly_used_job_listings_inquiries\n",
      "had_properly_used_job_listings_inquiries_last_3_months\n"
     ]
    },
    {
     "data": {
      "text/markdown": [
       "### sorted by variable name"
      ],
      "text/plain": [
       "<IPython.core.display.Markdown object>"
      ]
     },
     "metadata": {},
     "output_type": "display_data"
    },
    {
     "data": {
      "text/markdown": [
       "## without variables with p >= 0.2"
      ],
      "text/plain": [
       "<IPython.core.display.Markdown object>"
      ]
     },
     "metadata": {},
     "output_type": "display_data"
    },
    {
     "data": {
      "text/markdown": [
       "### sorted by variable name"
      ],
      "text/plain": [
       "<IPython.core.display.Markdown object>"
      ]
     },
     "metadata": {},
     "output_type": "display_data"
    },
    {
     "name": "stdout",
     "output_type": "stream",
     "text": [
      "# Model 39: properly_used_job_listings_inquiries\n",
      "had_properly_used_job_listings_inquiries\n",
      "had_properly_used_job_listings_inquiries_last_3_months\n"
     ]
    },
    {
     "data": {
      "text/markdown": [
       "### sorted by variable name"
      ],
      "text/plain": [
       "<IPython.core.display.Markdown object>"
      ]
     },
     "metadata": {},
     "output_type": "display_data"
    },
    {
     "data": {
      "text/markdown": [
       "## without variables with p >= 0.2"
      ],
      "text/plain": [
       "<IPython.core.display.Markdown object>"
      ]
     },
     "metadata": {},
     "output_type": "display_data"
    },
    {
     "data": {
      "text/markdown": [
       "### sorted by variable name"
      ],
      "text/plain": [
       "<IPython.core.display.Markdown object>"
      ]
     },
     "metadata": {},
     "output_type": "display_data"
    },
    {
     "name": "stdout",
     "output_type": "stream",
     "text": [
      "# Model 39: properly_used_job_listings_inquiries\n",
      "had_properly_used_job_listings_inquiries\n",
      "had_properly_used_job_listings_inquiries_last_3_months\n"
     ]
    },
    {
     "data": {
      "text/markdown": [
       "### sorted by variable name"
      ],
      "text/plain": [
       "<IPython.core.display.Markdown object>"
      ]
     },
     "metadata": {},
     "output_type": "display_data"
    },
    {
     "data": {
      "text/markdown": [
       "## without variables with p >= 0.2"
      ],
      "text/plain": [
       "<IPython.core.display.Markdown object>"
      ]
     },
     "metadata": {},
     "output_type": "display_data"
    },
    {
     "data": {
      "text/markdown": [
       "### sorted by variable name"
      ],
      "text/plain": [
       "<IPython.core.display.Markdown object>"
      ]
     },
     "metadata": {},
     "output_type": "display_data"
    },
    {
     "name": "stdout",
     "output_type": "stream",
     "text": [
      "# Model 39: properly_used_job_listings_inquiries\n",
      "had_properly_used_job_listings_inquiries\n",
      "had_properly_used_job_listings_inquiries_last_3_months\n"
     ]
    },
    {
     "data": {
      "text/markdown": [
       "### sorted by variable name"
      ],
      "text/plain": [
       "<IPython.core.display.Markdown object>"
      ]
     },
     "metadata": {},
     "output_type": "display_data"
    },
    {
     "data": {
      "text/markdown": [
       "## without variables with p >= 0.2"
      ],
      "text/plain": [
       "<IPython.core.display.Markdown object>"
      ]
     },
     "metadata": {},
     "output_type": "display_data"
    },
    {
     "data": {
      "text/markdown": [
       "### sorted by variable name"
      ],
      "text/plain": [
       "<IPython.core.display.Markdown object>"
      ]
     },
     "metadata": {},
     "output_type": "display_data"
    },
    {
     "name": "stdout",
     "output_type": "stream",
     "text": [
      "# Model 39: properly_used_job_listings_inquiries\n",
      "had_properly_used_job_listings_inquiries\n",
      "had_properly_used_job_listings_inquiries_last_3_months\n"
     ]
    },
    {
     "data": {
      "text/markdown": [
       "### sorted by variable name"
      ],
      "text/plain": [
       "<IPython.core.display.Markdown object>"
      ]
     },
     "metadata": {},
     "output_type": "display_data"
    },
    {
     "data": {
      "text/markdown": [
       "## without variables with p >= 0.2"
      ],
      "text/plain": [
       "<IPython.core.display.Markdown object>"
      ]
     },
     "metadata": {},
     "output_type": "display_data"
    },
    {
     "data": {
      "text/markdown": [
       "### sorted by variable name"
      ],
      "text/plain": [
       "<IPython.core.display.Markdown object>"
      ]
     },
     "metadata": {},
     "output_type": "display_data"
    },
    {
     "name": "stdout",
     "output_type": "stream",
     "text": [
      "# Model 39: properly_used_job_listings_inquiries\n",
      "had_properly_used_job_listings_inquiries\n",
      "had_properly_used_job_listings_inquiries_last_3_months\n"
     ]
    },
    {
     "data": {
      "text/markdown": [
       "### sorted by variable name"
      ],
      "text/plain": [
       "<IPython.core.display.Markdown object>"
      ]
     },
     "metadata": {},
     "output_type": "display_data"
    },
    {
     "data": {
      "text/markdown": [
       "## without variables with p >= 0.2"
      ],
      "text/plain": [
       "<IPython.core.display.Markdown object>"
      ]
     },
     "metadata": {},
     "output_type": "display_data"
    },
    {
     "data": {
      "text/markdown": [
       "### sorted by variable name"
      ],
      "text/plain": [
       "<IPython.core.display.Markdown object>"
      ]
     },
     "metadata": {},
     "output_type": "display_data"
    },
    {
     "name": "stdout",
     "output_type": "stream",
     "text": [
      "# Model 39: properly_used_job_listings_inquiries\n",
      "had_properly_used_job_listings_inquiries\n",
      "had_properly_used_job_listings_inquiries_last_3_months\n"
     ]
    },
    {
     "data": {
      "text/markdown": [
       "### sorted by variable name"
      ],
      "text/plain": [
       "<IPython.core.display.Markdown object>"
      ]
     },
     "metadata": {},
     "output_type": "display_data"
    },
    {
     "data": {
      "text/markdown": [
       "## without variables with p >= 0.2"
      ],
      "text/plain": [
       "<IPython.core.display.Markdown object>"
      ]
     },
     "metadata": {},
     "output_type": "display_data"
    },
    {
     "data": {
      "text/markdown": [
       "### sorted by variable name"
      ],
      "text/plain": [
       "<IPython.core.display.Markdown object>"
      ]
     },
     "metadata": {},
     "output_type": "display_data"
    },
    {
     "name": "stdout",
     "output_type": "stream",
     "text": [
      "# Model 40: properly_used_online_orders_inquiries\n",
      "had_properly_used_online_orders_inquiries\n",
      "had_properly_used_online_orders_inquiries_last_2_months\n"
     ]
    },
    {
     "data": {
      "text/markdown": [
       "### sorted by variable name"
      ],
      "text/plain": [
       "<IPython.core.display.Markdown object>"
      ]
     },
     "metadata": {},
     "output_type": "display_data"
    },
    {
     "data": {
      "text/markdown": [
       "## without variables with p >= 0.2"
      ],
      "text/plain": [
       "<IPython.core.display.Markdown object>"
      ]
     },
     "metadata": {},
     "output_type": "display_data"
    },
    {
     "data": {
      "text/markdown": [
       "### sorted by variable name"
      ],
      "text/plain": [
       "<IPython.core.display.Markdown object>"
      ]
     },
     "metadata": {},
     "output_type": "display_data"
    },
    {
     "name": "stdout",
     "output_type": "stream",
     "text": [
      "# Model 40: properly_used_online_orders_inquiries\n",
      "had_properly_used_online_orders_inquiries\n",
      "had_properly_used_online_orders_inquiries_last_2_months\n"
     ]
    },
    {
     "data": {
      "text/markdown": [
       "### sorted by variable name"
      ],
      "text/plain": [
       "<IPython.core.display.Markdown object>"
      ]
     },
     "metadata": {},
     "output_type": "display_data"
    },
    {
     "data": {
      "text/markdown": [
       "## without variables with p >= 0.2"
      ],
      "text/plain": [
       "<IPython.core.display.Markdown object>"
      ]
     },
     "metadata": {},
     "output_type": "display_data"
    },
    {
     "data": {
      "text/markdown": [
       "### sorted by variable name"
      ],
      "text/plain": [
       "<IPython.core.display.Markdown object>"
      ]
     },
     "metadata": {},
     "output_type": "display_data"
    },
    {
     "name": "stdout",
     "output_type": "stream",
     "text": [
      "# Model 40: properly_used_online_orders_inquiries\n",
      "had_properly_used_online_orders_inquiries\n",
      "had_properly_used_online_orders_inquiries_last_2_months\n"
     ]
    },
    {
     "data": {
      "text/markdown": [
       "### sorted by variable name"
      ],
      "text/plain": [
       "<IPython.core.display.Markdown object>"
      ]
     },
     "metadata": {},
     "output_type": "display_data"
    },
    {
     "data": {
      "text/markdown": [
       "## without variables with p >= 0.2"
      ],
      "text/plain": [
       "<IPython.core.display.Markdown object>"
      ]
     },
     "metadata": {},
     "output_type": "display_data"
    },
    {
     "data": {
      "text/markdown": [
       "### sorted by variable name"
      ],
      "text/plain": [
       "<IPython.core.display.Markdown object>"
      ]
     },
     "metadata": {},
     "output_type": "display_data"
    },
    {
     "name": "stdout",
     "output_type": "stream",
     "text": [
      "# Model 40: properly_used_online_orders_inquiries\n",
      "had_properly_used_online_orders_inquiries\n",
      "had_properly_used_online_orders_inquiries_last_2_months\n"
     ]
    },
    {
     "data": {
      "text/markdown": [
       "### sorted by variable name"
      ],
      "text/plain": [
       "<IPython.core.display.Markdown object>"
      ]
     },
     "metadata": {},
     "output_type": "display_data"
    },
    {
     "data": {
      "text/markdown": [
       "## without variables with p >= 0.2"
      ],
      "text/plain": [
       "<IPython.core.display.Markdown object>"
      ]
     },
     "metadata": {},
     "output_type": "display_data"
    },
    {
     "data": {
      "text/markdown": [
       "### sorted by variable name"
      ],
      "text/plain": [
       "<IPython.core.display.Markdown object>"
      ]
     },
     "metadata": {},
     "output_type": "display_data"
    },
    {
     "name": "stdout",
     "output_type": "stream",
     "text": [
      "# Model 40: properly_used_online_orders_inquiries\n",
      "had_properly_used_online_orders_inquiries\n",
      "had_properly_used_online_orders_inquiries_last_2_months\n"
     ]
    },
    {
     "data": {
      "text/markdown": [
       "### sorted by variable name"
      ],
      "text/plain": [
       "<IPython.core.display.Markdown object>"
      ]
     },
     "metadata": {},
     "output_type": "display_data"
    },
    {
     "data": {
      "text/markdown": [
       "## without variables with p >= 0.2"
      ],
      "text/plain": [
       "<IPython.core.display.Markdown object>"
      ]
     },
     "metadata": {},
     "output_type": "display_data"
    },
    {
     "data": {
      "text/markdown": [
       "### sorted by variable name"
      ],
      "text/plain": [
       "<IPython.core.display.Markdown object>"
      ]
     },
     "metadata": {},
     "output_type": "display_data"
    },
    {
     "name": "stdout",
     "output_type": "stream",
     "text": [
      "# Model 40: properly_used_online_orders_inquiries\n",
      "had_properly_used_online_orders_inquiries\n",
      "had_properly_used_online_orders_inquiries_last_2_months\n"
     ]
    },
    {
     "data": {
      "text/markdown": [
       "### sorted by variable name"
      ],
      "text/plain": [
       "<IPython.core.display.Markdown object>"
      ]
     },
     "metadata": {},
     "output_type": "display_data"
    },
    {
     "data": {
      "text/markdown": [
       "## without variables with p >= 0.2"
      ],
      "text/plain": [
       "<IPython.core.display.Markdown object>"
      ]
     },
     "metadata": {},
     "output_type": "display_data"
    },
    {
     "data": {
      "text/markdown": [
       "### sorted by variable name"
      ],
      "text/plain": [
       "<IPython.core.display.Markdown object>"
      ]
     },
     "metadata": {},
     "output_type": "display_data"
    },
    {
     "name": "stdout",
     "output_type": "stream",
     "text": [
      "# Model 40: properly_used_online_orders_inquiries\n",
      "had_properly_used_online_orders_inquiries\n",
      "had_properly_used_online_orders_inquiries_last_2_months\n"
     ]
    },
    {
     "data": {
      "text/markdown": [
       "### sorted by variable name"
      ],
      "text/plain": [
       "<IPython.core.display.Markdown object>"
      ]
     },
     "metadata": {},
     "output_type": "display_data"
    },
    {
     "data": {
      "text/markdown": [
       "## without variables with p >= 0.2"
      ],
      "text/plain": [
       "<IPython.core.display.Markdown object>"
      ]
     },
     "metadata": {},
     "output_type": "display_data"
    },
    {
     "data": {
      "text/markdown": [
       "### sorted by variable name"
      ],
      "text/plain": [
       "<IPython.core.display.Markdown object>"
      ]
     },
     "metadata": {},
     "output_type": "display_data"
    },
    {
     "name": "stdout",
     "output_type": "stream",
     "text": [
      "# Model 40: properly_used_online_orders_inquiries\n",
      "had_properly_used_online_orders_inquiries\n",
      "had_properly_used_online_orders_inquiries_last_2_months\n"
     ]
    },
    {
     "data": {
      "text/markdown": [
       "### sorted by variable name"
      ],
      "text/plain": [
       "<IPython.core.display.Markdown object>"
      ]
     },
     "metadata": {},
     "output_type": "display_data"
    },
    {
     "data": {
      "text/markdown": [
       "## without variables with p >= 0.2"
      ],
      "text/plain": [
       "<IPython.core.display.Markdown object>"
      ]
     },
     "metadata": {},
     "output_type": "display_data"
    },
    {
     "data": {
      "text/markdown": [
       "### sorted by variable name"
      ],
      "text/plain": [
       "<IPython.core.display.Markdown object>"
      ]
     },
     "metadata": {},
     "output_type": "display_data"
    },
    {
     "name": "stdout",
     "output_type": "stream",
     "text": [
      "# Model 40: properly_used_online_orders_inquiries\n",
      "had_properly_used_online_orders_inquiries\n",
      "had_properly_used_online_orders_inquiries_last_2_months\n"
     ]
    },
    {
     "data": {
      "text/markdown": [
       "### sorted by variable name"
      ],
      "text/plain": [
       "<IPython.core.display.Markdown object>"
      ]
     },
     "metadata": {},
     "output_type": "display_data"
    },
    {
     "data": {
      "text/markdown": [
       "## without variables with p >= 0.2"
      ],
      "text/plain": [
       "<IPython.core.display.Markdown object>"
      ]
     },
     "metadata": {},
     "output_type": "display_data"
    },
    {
     "data": {
      "text/markdown": [
       "### sorted by variable name"
      ],
      "text/plain": [
       "<IPython.core.display.Markdown object>"
      ]
     },
     "metadata": {},
     "output_type": "display_data"
    },
    {
     "name": "stdout",
     "output_type": "stream",
     "text": [
      "# Model 40: properly_used_online_orders_inquiries\n",
      "had_properly_used_online_orders_inquiries\n",
      "had_properly_used_online_orders_inquiries_last_2_months\n"
     ]
    },
    {
     "data": {
      "text/markdown": [
       "### sorted by variable name"
      ],
      "text/plain": [
       "<IPython.core.display.Markdown object>"
      ]
     },
     "metadata": {},
     "output_type": "display_data"
    },
    {
     "data": {
      "text/markdown": [
       "## without variables with p >= 0.2"
      ],
      "text/plain": [
       "<IPython.core.display.Markdown object>"
      ]
     },
     "metadata": {},
     "output_type": "display_data"
    },
    {
     "data": {
      "text/markdown": [
       "### sorted by variable name"
      ],
      "text/plain": [
       "<IPython.core.display.Markdown object>"
      ]
     },
     "metadata": {},
     "output_type": "display_data"
    },
    {
     "name": "stdout",
     "output_type": "stream",
     "text": [
      "# Model 40: properly_used_online_orders_inquiries\n",
      "had_properly_used_online_orders_inquiries\n",
      "had_properly_used_online_orders_inquiries_last_2_months\n"
     ]
    },
    {
     "data": {
      "text/markdown": [
       "### sorted by variable name"
      ],
      "text/plain": [
       "<IPython.core.display.Markdown object>"
      ]
     },
     "metadata": {},
     "output_type": "display_data"
    },
    {
     "data": {
      "text/markdown": [
       "## without variables with p >= 0.2"
      ],
      "text/plain": [
       "<IPython.core.display.Markdown object>"
      ]
     },
     "metadata": {},
     "output_type": "display_data"
    },
    {
     "data": {
      "text/markdown": [
       "### sorted by variable name"
      ],
      "text/plain": [
       "<IPython.core.display.Markdown object>"
      ]
     },
     "metadata": {},
     "output_type": "display_data"
    },
    {
     "name": "stdout",
     "output_type": "stream",
     "text": [
      "# Model 40: properly_used_online_orders_inquiries\n",
      "had_properly_used_online_orders_inquiries\n",
      "had_properly_used_online_orders_inquiries_last_2_months\n"
     ]
    },
    {
     "data": {
      "text/markdown": [
       "### sorted by variable name"
      ],
      "text/plain": [
       "<IPython.core.display.Markdown object>"
      ]
     },
     "metadata": {},
     "output_type": "display_data"
    },
    {
     "data": {
      "text/markdown": [
       "## without variables with p >= 0.2"
      ],
      "text/plain": [
       "<IPython.core.display.Markdown object>"
      ]
     },
     "metadata": {},
     "output_type": "display_data"
    },
    {
     "data": {
      "text/markdown": [
       "### sorted by variable name"
      ],
      "text/plain": [
       "<IPython.core.display.Markdown object>"
      ]
     },
     "metadata": {},
     "output_type": "display_data"
    },
    {
     "name": "stdout",
     "output_type": "stream",
     "text": [
      "# Model 40: properly_used_online_orders_inquiries\n",
      "had_properly_used_online_orders_inquiries\n",
      "had_properly_used_online_orders_inquiries_last_2_months\n"
     ]
    },
    {
     "data": {
      "text/markdown": [
       "### sorted by variable name"
      ],
      "text/plain": [
       "<IPython.core.display.Markdown object>"
      ]
     },
     "metadata": {},
     "output_type": "display_data"
    },
    {
     "data": {
      "text/markdown": [
       "## without variables with p >= 0.2"
      ],
      "text/plain": [
       "<IPython.core.display.Markdown object>"
      ]
     },
     "metadata": {},
     "output_type": "display_data"
    },
    {
     "data": {
      "text/markdown": [
       "### sorted by variable name"
      ],
      "text/plain": [
       "<IPython.core.display.Markdown object>"
      ]
     },
     "metadata": {},
     "output_type": "display_data"
    },
    {
     "name": "stdout",
     "output_type": "stream",
     "text": [
      "# Model 40: properly_used_online_orders_inquiries\n",
      "had_properly_used_online_orders_inquiries\n",
      "had_properly_used_online_orders_inquiries_last_2_months\n"
     ]
    },
    {
     "data": {
      "text/markdown": [
       "### sorted by variable name"
      ],
      "text/plain": [
       "<IPython.core.display.Markdown object>"
      ]
     },
     "metadata": {},
     "output_type": "display_data"
    },
    {
     "data": {
      "text/markdown": [
       "## without variables with p >= 0.2"
      ],
      "text/plain": [
       "<IPython.core.display.Markdown object>"
      ]
     },
     "metadata": {},
     "output_type": "display_data"
    },
    {
     "data": {
      "text/markdown": [
       "### sorted by variable name"
      ],
      "text/plain": [
       "<IPython.core.display.Markdown object>"
      ]
     },
     "metadata": {},
     "output_type": "display_data"
    }
   ],
   "source": [
    "df_res = pd.DataFrame()\n",
    "models_to_run = [36, 37, 38, 39, 40]\n",
    "cut_offs = [500, 700, 1000, 1200, 1500, 1700, 2000]\n",
    "for model_number in models_to_run:\n",
    "    for ct in cut_offs:\n",
    "        for e in ('high_end_', 'low_end_'):\n",
    "            if e=='high_end_':\n",
    "                spots_ = website_sessions_wo_contactless[website_sessions_wo_contactless['sessions']>=ct]['spot_id'].unique()\n",
    "            else:\n",
    "                spots_ = website_sessions_wo_contactless[website_sessions_wo_contactless['sessions']<ct]['spot_id'].unique()\n",
    "            \n",
    "            data = data_[data_['spot_id'].isin(spots_)].copy()\n",
    "            base_df = base_df_[base_df_['spot_id'].isin(spots_)].copy()\n",
    "            df_timeline_all_vars = df_timeline_all_vars_[df_timeline_all_vars_['spot_id'].isin(spots_)].copy()\n",
    "            \n",
    "            cols_to_use = read_a_combination_of_variables.\\\n",
    "            main(model_number=model_number, dir_name='combinations_of_variables_that_are_not_dependent/')\n",
    "\n",
    "            model_name = \\\n",
    "            read_a_combination_of_variables.get_model_names(model_number=model_number, \\\n",
    "                                                            dir_name='combinations_of_variables_that_are_not_dependent/')\n",
    "            print(\"# Model \"+ str(model_number) + \": \" + model_name)\n",
    "            \n",
    "            print('had_'+model_name)\n",
    "\n",
    "            #### get behavioural variables ####\n",
    "            (variables_to_use_for_the_model, did_something_last_month_vars, \\\n",
    "             did_something_before_and_didnt_last_month_vars) = \\\n",
    "            get_started_doing_something_variables.main(date_of_analysis=date_of_analysis, \\\n",
    "                                                       variables_to_use_for_the_model=cols_to_use)\n",
    "            cols = variables_to_use_for_the_model + \\\n",
    "            did_something_before_and_didnt_last_month_vars + did_something_last_month_vars\n",
    "            \n",
    "            variable_to_check = [c for c in cols if c.startswith('had_'+model_name) and \\\n",
    "                   re.search('before_and_didnt', c) == None][0]\n",
    "            \n",
    "            print(variable_to_check)\n",
    "\n",
    "            #### data for the model ###\n",
    "            df_timeline = df_timeline_all_vars.copy()\n",
    "            vars_that_stay = ['spot_id', 'start', 'stop', 'event']+\\\n",
    "            [x for x in cols if x not in base_cols]+\\\n",
    "            [x for x in df_timeline.columns if 'spot_category_' in x or 'metro_area_' in x]\n",
    "            df_timeline.drop([x for x in df_timeline.columns if x not in vars_that_stay], axis = 1, inplace = True)\n",
    "\n",
    "            ### variables to skip ###\n",
    "            df_timeline.isnull().sum().sum() #OK\n",
    "            skip_vars = list((df_timeline!=0).sum()[(df_timeline!=0).sum()==0].index)\n",
    "            skip_vars\n",
    "\n",
    "            ctv = fit_tv_cox_models.fit_the_models_and_print_summaries_kiza(df_timeline=df_timeline, base_df=base_df, \\\n",
    "                                                                 date_of_analysis=date_of_analysis, model_type=model_type, \\\n",
    "                                                                 variables_to_use_for_the_model=cols_to_use,\\\n",
    "                                                                 coefficient_limit_for_numerical_vars=coefficient_limit_for_numerical_vars, \\\n",
    "                                                                 coefficient_limit_for_cat_vars=coefficient_limit_for_cat_vars, p_limit=p_limit, \\\n",
    "                                                                 additional_higher_p_limit=additional_higher_p_limit, \\\n",
    "                                                                 additional_lower_p_limit=additional_lower_p_limit,\\\n",
    "                                                                 skip_vars=skip_vars, penalizer=penalizer)\n",
    "            \n",
    "            df_res = pd.concat([df_res, pd.DataFrame([[model_number, e + str(ct), \n",
    "                                                       model_name, variable_to_check, ctv, data.spot_id.nunique()]])])"
   ]
  },
  {
   "cell_type": "code",
   "execution_count": 12,
   "id": "939dfe70",
   "metadata": {},
   "outputs": [],
   "source": [
    "df_res.columns = ['model_number', 'category', 'model_name', 'variable_name', 'models', 'spots_num']"
   ]
  },
  {
   "cell_type": "code",
   "execution_count": 13,
   "id": "0340409f",
   "metadata": {},
   "outputs": [
    {
     "data": {
      "text/plain": [
       "['model_number',\n",
       " 'category',\n",
       " 'model_name',\n",
       " 'variable_name',\n",
       " 'models',\n",
       " 'spots_num']"
      ]
     },
     "execution_count": 13,
     "metadata": {},
     "output_type": "execute_result"
    }
   ],
   "source": [
    "df_res.columns.tolist()"
   ]
  },
  {
   "cell_type": "code",
   "execution_count": 14,
   "id": "b966acb7",
   "metadata": {},
   "outputs": [],
   "source": [
    "def extract_coefficients(variable_name, model):\n",
    "    model_summary = model.summary\n",
    "    if variable_name in model_summary.index:\n",
    "        return(model_summary[model_summary.index==variable_name]['exp(coef)'].iloc[0])\n",
    "    else:\n",
    "        return(np.NaN)\n",
    "\n",
    "def extract_p_values(variable_name, model):\n",
    "    model_summary = model.summary\n",
    "    if variable_name in model_summary.index:\n",
    "        return(model_summary[model_summary.index==variable_name]['p'].iloc[0])\n",
    "    else:\n",
    "        return(np.NaN)"
   ]
  },
  {
   "cell_type": "code",
   "execution_count": 15,
   "id": "c2d0e9ae",
   "metadata": {},
   "outputs": [],
   "source": [
    "df_res['exp(coef)'] = df_res.apply(lambda x: extract_coefficients(variable_name=x['variable_name'], \n",
    "                                                                  model=x['models'][0]), axis=1)\n",
    "df_res['p'] = df_res.apply(lambda x: extract_p_values(variable_name=x['variable_name'], \n",
    "                                                                  model=x['models'][0]), axis=1)\n",
    "\n",
    "df_res['exp(coef).2'] = df_res.apply(lambda x: extract_coefficients(variable_name=x['variable_name'], \n",
    "                                                                  model=x['models'][1]), axis=1)\n",
    "df_res['p.2'] = df_res.apply(lambda x: extract_p_values(variable_name=x['variable_name'], \n",
    "                                                                  model=x['models'][1]), axis=1)"
   ]
  },
  {
   "cell_type": "code",
   "execution_count": 16,
   "id": "078f5eea",
   "metadata": {},
   "outputs": [],
   "source": [
    "# df_res[['model_number', 'category', 'model_name', 'variable_name', 'spots_num', \n",
    "#         'exp(coef)', 'p', 'exp(coef).2', 'p.2']]"
   ]
  },
  {
   "cell_type": "code",
   "execution_count": 17,
   "id": "fe3805d3",
   "metadata": {},
   "outputs": [],
   "source": [
    "df_res_export = df_res[['model_number', 'category', 'model_name', 'variable_name', 'spots_num', \n",
    "        'exp(coef)', 'p', 'exp(coef).2', 'p.2']]"
   ]
  },
  {
   "cell_type": "code",
   "execution_count": 18,
   "id": "f9841291",
   "metadata": {},
   "outputs": [
    {
     "data": {
      "text/html": [
       "<div>\n",
       "<style scoped>\n",
       "    .dataframe tbody tr th:only-of-type {\n",
       "        vertical-align: middle;\n",
       "    }\n",
       "\n",
       "    .dataframe tbody tr th {\n",
       "        vertical-align: top;\n",
       "    }\n",
       "\n",
       "    .dataframe thead th {\n",
       "        text-align: right;\n",
       "    }\n",
       "</style>\n",
       "<table border=\"1\" class=\"dataframe\">\n",
       "  <thead>\n",
       "    <tr style=\"text-align: right;\">\n",
       "      <th></th>\n",
       "      <th>model_number</th>\n",
       "      <th>category</th>\n",
       "      <th>model_name</th>\n",
       "      <th>variable_name</th>\n",
       "      <th>spots_num</th>\n",
       "      <th>exp(coef)</th>\n",
       "      <th>p</th>\n",
       "      <th>exp(coef).2</th>\n",
       "      <th>p.2</th>\n",
       "    </tr>\n",
       "  </thead>\n",
       "  <tbody>\n",
       "    <tr>\n",
       "      <th>0</th>\n",
       "      <td>40</td>\n",
       "      <td>high_end_500</td>\n",
       "      <td>properly_used_online_orders_inquiries</td>\n",
       "      <td>had_properly_used_online_orders_inquiries_last...</td>\n",
       "      <td>3719</td>\n",
       "      <td>0.797414</td>\n",
       "      <td>0.212898</td>\n",
       "      <td>0.748947</td>\n",
       "      <td>0.102453</td>\n",
       "    </tr>\n",
       "    <tr>\n",
       "      <th>0</th>\n",
       "      <td>40</td>\n",
       "      <td>low_end_500</td>\n",
       "      <td>properly_used_online_orders_inquiries</td>\n",
       "      <td>had_properly_used_online_orders_inquiries_last...</td>\n",
       "      <td>658</td>\n",
       "      <td>0.730008</td>\n",
       "      <td>0.501168</td>\n",
       "      <td>0.515060</td>\n",
       "      <td>0.072568</td>\n",
       "    </tr>\n",
       "    <tr>\n",
       "      <th>0</th>\n",
       "      <td>40</td>\n",
       "      <td>high_end_700</td>\n",
       "      <td>properly_used_online_orders_inquiries</td>\n",
       "      <td>had_properly_used_online_orders_inquiries_last...</td>\n",
       "      <td>3456</td>\n",
       "      <td>0.825679</td>\n",
       "      <td>0.310714</td>\n",
       "      <td>0.783764</td>\n",
       "      <td>0.184618</td>\n",
       "    </tr>\n",
       "    <tr>\n",
       "      <th>0</th>\n",
       "      <td>40</td>\n",
       "      <td>low_end_700</td>\n",
       "      <td>properly_used_online_orders_inquiries</td>\n",
       "      <td>had_properly_used_online_orders_inquiries_last...</td>\n",
       "      <td>921</td>\n",
       "      <td>0.228751</td>\n",
       "      <td>0.001744</td>\n",
       "      <td>0.488618</td>\n",
       "      <td>0.060768</td>\n",
       "    </tr>\n",
       "    <tr>\n",
       "      <th>0</th>\n",
       "      <td>40</td>\n",
       "      <td>high_end_1000</td>\n",
       "      <td>properly_used_online_orders_inquiries</td>\n",
       "      <td>had_properly_used_online_orders_inquiries_last...</td>\n",
       "      <td>3013</td>\n",
       "      <td>0.788945</td>\n",
       "      <td>0.271955</td>\n",
       "      <td>0.844459</td>\n",
       "      <td>0.423330</td>\n",
       "    </tr>\n",
       "    <tr>\n",
       "      <th>0</th>\n",
       "      <td>40</td>\n",
       "      <td>low_end_1000</td>\n",
       "      <td>properly_used_online_orders_inquiries</td>\n",
       "      <td>had_properly_used_online_orders_inquiries_last...</td>\n",
       "      <td>1364</td>\n",
       "      <td>0.967314</td>\n",
       "      <td>0.905471</td>\n",
       "      <td>0.789561</td>\n",
       "      <td>0.328332</td>\n",
       "    </tr>\n",
       "    <tr>\n",
       "      <th>0</th>\n",
       "      <td>40</td>\n",
       "      <td>high_end_1200</td>\n",
       "      <td>properly_used_online_orders_inquiries</td>\n",
       "      <td>had_properly_used_online_orders_inquiries_last...</td>\n",
       "      <td>2723</td>\n",
       "      <td>0.865010</td>\n",
       "      <td>0.520446</td>\n",
       "      <td>0.840776</td>\n",
       "      <td>0.417915</td>\n",
       "    </tr>\n",
       "    <tr>\n",
       "      <th>0</th>\n",
       "      <td>40</td>\n",
       "      <td>low_end_1200</td>\n",
       "      <td>properly_used_online_orders_inquiries</td>\n",
       "      <td>had_properly_used_online_orders_inquiries_last...</td>\n",
       "      <td>1654</td>\n",
       "      <td>0.930838</td>\n",
       "      <td>0.779675</td>\n",
       "      <td>0.830049</td>\n",
       "      <td>0.446582</td>\n",
       "    </tr>\n",
       "    <tr>\n",
       "      <th>0</th>\n",
       "      <td>40</td>\n",
       "      <td>high_end_1500</td>\n",
       "      <td>properly_used_online_orders_inquiries</td>\n",
       "      <td>had_properly_used_online_orders_inquiries_last...</td>\n",
       "      <td>2372</td>\n",
       "      <td>0.903452</td>\n",
       "      <td>0.675025</td>\n",
       "      <td>0.835356</td>\n",
       "      <td>0.433278</td>\n",
       "    </tr>\n",
       "    <tr>\n",
       "      <th>0</th>\n",
       "      <td>40</td>\n",
       "      <td>low_end_1500</td>\n",
       "      <td>properly_used_online_orders_inquiries</td>\n",
       "      <td>had_properly_used_online_orders_inquiries_last...</td>\n",
       "      <td>2005</td>\n",
       "      <td>0.906797</td>\n",
       "      <td>0.681181</td>\n",
       "      <td>0.874214</td>\n",
       "      <td>0.560205</td>\n",
       "    </tr>\n",
       "    <tr>\n",
       "      <th>0</th>\n",
       "      <td>40</td>\n",
       "      <td>high_end_1700</td>\n",
       "      <td>properly_used_online_orders_inquiries</td>\n",
       "      <td>had_properly_used_online_orders_inquiries_last...</td>\n",
       "      <td>2155</td>\n",
       "      <td>0.872179</td>\n",
       "      <td>0.594640</td>\n",
       "      <td>0.916605</td>\n",
       "      <td>0.721223</td>\n",
       "    </tr>\n",
       "    <tr>\n",
       "      <th>0</th>\n",
       "      <td>40</td>\n",
       "      <td>low_end_1700</td>\n",
       "      <td>properly_used_online_orders_inquiries</td>\n",
       "      <td>had_properly_used_online_orders_inquiries_last...</td>\n",
       "      <td>2222</td>\n",
       "      <td>0.883748</td>\n",
       "      <td>0.580985</td>\n",
       "      <td>0.841872</td>\n",
       "      <td>0.430417</td>\n",
       "    </tr>\n",
       "    <tr>\n",
       "      <th>0</th>\n",
       "      <td>40</td>\n",
       "      <td>high_end_2000</td>\n",
       "      <td>properly_used_online_orders_inquiries</td>\n",
       "      <td>had_properly_used_online_orders_inquiries_last...</td>\n",
       "      <td>1847</td>\n",
       "      <td>0.970845</td>\n",
       "      <td>0.916455</td>\n",
       "      <td>1.048370</td>\n",
       "      <td>0.860352</td>\n",
       "    </tr>\n",
       "    <tr>\n",
       "      <th>0</th>\n",
       "      <td>40</td>\n",
       "      <td>low_end_2000</td>\n",
       "      <td>properly_used_online_orders_inquiries</td>\n",
       "      <td>had_properly_used_online_orders_inquiries_last...</td>\n",
       "      <td>2530</td>\n",
       "      <td>0.842959</td>\n",
       "      <td>0.414354</td>\n",
       "      <td>0.813978</td>\n",
       "      <td>0.316224</td>\n",
       "    </tr>\n",
       "  </tbody>\n",
       "</table>\n",
       "</div>"
      ],
      "text/plain": [
       "   model_number       category                             model_name  \\\n",
       "0            40   high_end_500  properly_used_online_orders_inquiries   \n",
       "0            40    low_end_500  properly_used_online_orders_inquiries   \n",
       "0            40   high_end_700  properly_used_online_orders_inquiries   \n",
       "0            40    low_end_700  properly_used_online_orders_inquiries   \n",
       "0            40  high_end_1000  properly_used_online_orders_inquiries   \n",
       "0            40   low_end_1000  properly_used_online_orders_inquiries   \n",
       "0            40  high_end_1200  properly_used_online_orders_inquiries   \n",
       "0            40   low_end_1200  properly_used_online_orders_inquiries   \n",
       "0            40  high_end_1500  properly_used_online_orders_inquiries   \n",
       "0            40   low_end_1500  properly_used_online_orders_inquiries   \n",
       "0            40  high_end_1700  properly_used_online_orders_inquiries   \n",
       "0            40   low_end_1700  properly_used_online_orders_inquiries   \n",
       "0            40  high_end_2000  properly_used_online_orders_inquiries   \n",
       "0            40   low_end_2000  properly_used_online_orders_inquiries   \n",
       "\n",
       "                                       variable_name  spots_num  exp(coef)  \\\n",
       "0  had_properly_used_online_orders_inquiries_last...       3719   0.797414   \n",
       "0  had_properly_used_online_orders_inquiries_last...        658   0.730008   \n",
       "0  had_properly_used_online_orders_inquiries_last...       3456   0.825679   \n",
       "0  had_properly_used_online_orders_inquiries_last...        921   0.228751   \n",
       "0  had_properly_used_online_orders_inquiries_last...       3013   0.788945   \n",
       "0  had_properly_used_online_orders_inquiries_last...       1364   0.967314   \n",
       "0  had_properly_used_online_orders_inquiries_last...       2723   0.865010   \n",
       "0  had_properly_used_online_orders_inquiries_last...       1654   0.930838   \n",
       "0  had_properly_used_online_orders_inquiries_last...       2372   0.903452   \n",
       "0  had_properly_used_online_orders_inquiries_last...       2005   0.906797   \n",
       "0  had_properly_used_online_orders_inquiries_last...       2155   0.872179   \n",
       "0  had_properly_used_online_orders_inquiries_last...       2222   0.883748   \n",
       "0  had_properly_used_online_orders_inquiries_last...       1847   0.970845   \n",
       "0  had_properly_used_online_orders_inquiries_last...       2530   0.842959   \n",
       "\n",
       "          p  exp(coef).2       p.2  \n",
       "0  0.212898     0.748947  0.102453  \n",
       "0  0.501168     0.515060  0.072568  \n",
       "0  0.310714     0.783764  0.184618  \n",
       "0  0.001744     0.488618  0.060768  \n",
       "0  0.271955     0.844459  0.423330  \n",
       "0  0.905471     0.789561  0.328332  \n",
       "0  0.520446     0.840776  0.417915  \n",
       "0  0.779675     0.830049  0.446582  \n",
       "0  0.675025     0.835356  0.433278  \n",
       "0  0.681181     0.874214  0.560205  \n",
       "0  0.594640     0.916605  0.721223  \n",
       "0  0.580985     0.841872  0.430417  \n",
       "0  0.916455     1.048370  0.860352  \n",
       "0  0.414354     0.813978  0.316224  "
      ]
     },
     "execution_count": 18,
     "metadata": {},
     "output_type": "execute_result"
    }
   ],
   "source": [
    "df_res_export[df_res_export['model_number']==40]"
   ]
  },
  {
   "cell_type": "code",
   "execution_count": 19,
   "id": "c7ca1084",
   "metadata": {},
   "outputs": [
    {
     "data": {
      "text/html": [
       "<div>\n",
       "<style scoped>\n",
       "    .dataframe tbody tr th:only-of-type {\n",
       "        vertical-align: middle;\n",
       "    }\n",
       "\n",
       "    .dataframe tbody tr th {\n",
       "        vertical-align: top;\n",
       "    }\n",
       "\n",
       "    .dataframe thead th {\n",
       "        text-align: right;\n",
       "    }\n",
       "</style>\n",
       "<table border=\"1\" class=\"dataframe\">\n",
       "  <thead>\n",
       "    <tr style=\"text-align: right;\">\n",
       "      <th></th>\n",
       "      <th>model_number</th>\n",
       "      <th>category</th>\n",
       "      <th>model_name</th>\n",
       "      <th>variable_name</th>\n",
       "      <th>spots_num</th>\n",
       "      <th>exp(coef)</th>\n",
       "      <th>p</th>\n",
       "      <th>exp(coef).2</th>\n",
       "      <th>p.2</th>\n",
       "    </tr>\n",
       "  </thead>\n",
       "  <tbody>\n",
       "    <tr>\n",
       "      <th>0</th>\n",
       "      <td>40</td>\n",
       "      <td>low_end_2000</td>\n",
       "      <td>properly_used_online_orders_inquiries</td>\n",
       "      <td>had_properly_used_online_orders_inquiries_last...</td>\n",
       "      <td>2530</td>\n",
       "      <td>0.842959</td>\n",
       "      <td>0.414354</td>\n",
       "      <td>0.813978</td>\n",
       "      <td>0.316224</td>\n",
       "    </tr>\n",
       "    <tr>\n",
       "      <th>0</th>\n",
       "      <td>40</td>\n",
       "      <td>high_end_2000</td>\n",
       "      <td>properly_used_online_orders_inquiries</td>\n",
       "      <td>had_properly_used_online_orders_inquiries_last...</td>\n",
       "      <td>1847</td>\n",
       "      <td>0.970845</td>\n",
       "      <td>0.916455</td>\n",
       "      <td>1.048370</td>\n",
       "      <td>0.860352</td>\n",
       "    </tr>\n",
       "    <tr>\n",
       "      <th>0</th>\n",
       "      <td>40</td>\n",
       "      <td>low_end_1700</td>\n",
       "      <td>properly_used_online_orders_inquiries</td>\n",
       "      <td>had_properly_used_online_orders_inquiries_last...</td>\n",
       "      <td>2222</td>\n",
       "      <td>0.883748</td>\n",
       "      <td>0.580985</td>\n",
       "      <td>0.841872</td>\n",
       "      <td>0.430417</td>\n",
       "    </tr>\n",
       "    <tr>\n",
       "      <th>0</th>\n",
       "      <td>40</td>\n",
       "      <td>high_end_1700</td>\n",
       "      <td>properly_used_online_orders_inquiries</td>\n",
       "      <td>had_properly_used_online_orders_inquiries_last...</td>\n",
       "      <td>2155</td>\n",
       "      <td>0.872179</td>\n",
       "      <td>0.594640</td>\n",
       "      <td>0.916605</td>\n",
       "      <td>0.721223</td>\n",
       "    </tr>\n",
       "    <tr>\n",
       "      <th>0</th>\n",
       "      <td>40</td>\n",
       "      <td>low_end_1500</td>\n",
       "      <td>properly_used_online_orders_inquiries</td>\n",
       "      <td>had_properly_used_online_orders_inquiries_last...</td>\n",
       "      <td>2005</td>\n",
       "      <td>0.906797</td>\n",
       "      <td>0.681181</td>\n",
       "      <td>0.874214</td>\n",
       "      <td>0.560205</td>\n",
       "    </tr>\n",
       "    <tr>\n",
       "      <th>0</th>\n",
       "      <td>40</td>\n",
       "      <td>high_end_1500</td>\n",
       "      <td>properly_used_online_orders_inquiries</td>\n",
       "      <td>had_properly_used_online_orders_inquiries_last...</td>\n",
       "      <td>2372</td>\n",
       "      <td>0.903452</td>\n",
       "      <td>0.675025</td>\n",
       "      <td>0.835356</td>\n",
       "      <td>0.433278</td>\n",
       "    </tr>\n",
       "    <tr>\n",
       "      <th>0</th>\n",
       "      <td>40</td>\n",
       "      <td>low_end_1200</td>\n",
       "      <td>properly_used_online_orders_inquiries</td>\n",
       "      <td>had_properly_used_online_orders_inquiries_last...</td>\n",
       "      <td>1654</td>\n",
       "      <td>0.930838</td>\n",
       "      <td>0.779675</td>\n",
       "      <td>0.830049</td>\n",
       "      <td>0.446582</td>\n",
       "    </tr>\n",
       "    <tr>\n",
       "      <th>0</th>\n",
       "      <td>40</td>\n",
       "      <td>high_end_1200</td>\n",
       "      <td>properly_used_online_orders_inquiries</td>\n",
       "      <td>had_properly_used_online_orders_inquiries_last...</td>\n",
       "      <td>2723</td>\n",
       "      <td>0.865010</td>\n",
       "      <td>0.520446</td>\n",
       "      <td>0.840776</td>\n",
       "      <td>0.417915</td>\n",
       "    </tr>\n",
       "    <tr>\n",
       "      <th>0</th>\n",
       "      <td>40</td>\n",
       "      <td>low_end_1000</td>\n",
       "      <td>properly_used_online_orders_inquiries</td>\n",
       "      <td>had_properly_used_online_orders_inquiries_last...</td>\n",
       "      <td>1364</td>\n",
       "      <td>0.967314</td>\n",
       "      <td>0.905471</td>\n",
       "      <td>0.789561</td>\n",
       "      <td>0.328332</td>\n",
       "    </tr>\n",
       "    <tr>\n",
       "      <th>0</th>\n",
       "      <td>40</td>\n",
       "      <td>high_end_1000</td>\n",
       "      <td>properly_used_online_orders_inquiries</td>\n",
       "      <td>had_properly_used_online_orders_inquiries_last...</td>\n",
       "      <td>3013</td>\n",
       "      <td>0.788945</td>\n",
       "      <td>0.271955</td>\n",
       "      <td>0.844459</td>\n",
       "      <td>0.423330</td>\n",
       "    </tr>\n",
       "    <tr>\n",
       "      <th>0</th>\n",
       "      <td>40</td>\n",
       "      <td>low_end_700</td>\n",
       "      <td>properly_used_online_orders_inquiries</td>\n",
       "      <td>had_properly_used_online_orders_inquiries_last...</td>\n",
       "      <td>921</td>\n",
       "      <td>0.228751</td>\n",
       "      <td>0.001744</td>\n",
       "      <td>0.488618</td>\n",
       "      <td>0.060768</td>\n",
       "    </tr>\n",
       "    <tr>\n",
       "      <th>0</th>\n",
       "      <td>40</td>\n",
       "      <td>high_end_700</td>\n",
       "      <td>properly_used_online_orders_inquiries</td>\n",
       "      <td>had_properly_used_online_orders_inquiries_last...</td>\n",
       "      <td>3456</td>\n",
       "      <td>0.825679</td>\n",
       "      <td>0.310714</td>\n",
       "      <td>0.783764</td>\n",
       "      <td>0.184618</td>\n",
       "    </tr>\n",
       "    <tr>\n",
       "      <th>0</th>\n",
       "      <td>40</td>\n",
       "      <td>low_end_500</td>\n",
       "      <td>properly_used_online_orders_inquiries</td>\n",
       "      <td>had_properly_used_online_orders_inquiries_last...</td>\n",
       "      <td>658</td>\n",
       "      <td>0.730008</td>\n",
       "      <td>0.501168</td>\n",
       "      <td>0.515060</td>\n",
       "      <td>0.072568</td>\n",
       "    </tr>\n",
       "    <tr>\n",
       "      <th>0</th>\n",
       "      <td>40</td>\n",
       "      <td>high_end_500</td>\n",
       "      <td>properly_used_online_orders_inquiries</td>\n",
       "      <td>had_properly_used_online_orders_inquiries_last...</td>\n",
       "      <td>3719</td>\n",
       "      <td>0.797414</td>\n",
       "      <td>0.212898</td>\n",
       "      <td>0.748947</td>\n",
       "      <td>0.102453</td>\n",
       "    </tr>\n",
       "  </tbody>\n",
       "</table>\n",
       "</div>"
      ],
      "text/plain": [
       "   model_number       category                             model_name  \\\n",
       "0            40   low_end_2000  properly_used_online_orders_inquiries   \n",
       "0            40  high_end_2000  properly_used_online_orders_inquiries   \n",
       "0            40   low_end_1700  properly_used_online_orders_inquiries   \n",
       "0            40  high_end_1700  properly_used_online_orders_inquiries   \n",
       "0            40   low_end_1500  properly_used_online_orders_inquiries   \n",
       "0            40  high_end_1500  properly_used_online_orders_inquiries   \n",
       "0            40   low_end_1200  properly_used_online_orders_inquiries   \n",
       "0            40  high_end_1200  properly_used_online_orders_inquiries   \n",
       "0            40   low_end_1000  properly_used_online_orders_inquiries   \n",
       "0            40  high_end_1000  properly_used_online_orders_inquiries   \n",
       "0            40    low_end_700  properly_used_online_orders_inquiries   \n",
       "0            40   high_end_700  properly_used_online_orders_inquiries   \n",
       "0            40    low_end_500  properly_used_online_orders_inquiries   \n",
       "0            40   high_end_500  properly_used_online_orders_inquiries   \n",
       "\n",
       "                                       variable_name  spots_num  exp(coef)  \\\n",
       "0  had_properly_used_online_orders_inquiries_last...       2530   0.842959   \n",
       "0  had_properly_used_online_orders_inquiries_last...       1847   0.970845   \n",
       "0  had_properly_used_online_orders_inquiries_last...       2222   0.883748   \n",
       "0  had_properly_used_online_orders_inquiries_last...       2155   0.872179   \n",
       "0  had_properly_used_online_orders_inquiries_last...       2005   0.906797   \n",
       "0  had_properly_used_online_orders_inquiries_last...       2372   0.903452   \n",
       "0  had_properly_used_online_orders_inquiries_last...       1654   0.930838   \n",
       "0  had_properly_used_online_orders_inquiries_last...       2723   0.865010   \n",
       "0  had_properly_used_online_orders_inquiries_last...       1364   0.967314   \n",
       "0  had_properly_used_online_orders_inquiries_last...       3013   0.788945   \n",
       "0  had_properly_used_online_orders_inquiries_last...        921   0.228751   \n",
       "0  had_properly_used_online_orders_inquiries_last...       3456   0.825679   \n",
       "0  had_properly_used_online_orders_inquiries_last...        658   0.730008   \n",
       "0  had_properly_used_online_orders_inquiries_last...       3719   0.797414   \n",
       "\n",
       "          p  exp(coef).2       p.2  \n",
       "0  0.414354     0.813978  0.316224  \n",
       "0  0.916455     1.048370  0.860352  \n",
       "0  0.580985     0.841872  0.430417  \n",
       "0  0.594640     0.916605  0.721223  \n",
       "0  0.681181     0.874214  0.560205  \n",
       "0  0.675025     0.835356  0.433278  \n",
       "0  0.779675     0.830049  0.446582  \n",
       "0  0.520446     0.840776  0.417915  \n",
       "0  0.905471     0.789561  0.328332  \n",
       "0  0.271955     0.844459  0.423330  \n",
       "0  0.001744     0.488618  0.060768  \n",
       "0  0.310714     0.783764  0.184618  \n",
       "0  0.501168     0.515060  0.072568  \n",
       "0  0.212898     0.748947  0.102453  "
      ]
     },
     "execution_count": 19,
     "metadata": {},
     "output_type": "execute_result"
    }
   ],
   "source": [
    "df_res_export[df_res_export['model_number']==40][::-1]"
   ]
  },
  {
   "cell_type": "code",
   "execution_count": 20,
   "id": "3ceae7f7",
   "metadata": {},
   "outputs": [],
   "source": [
    "df_res_export[df_res_export['model_number']==36][::-1]\\\n",
    ".to_csv('properly_used_reservations_set_ALL_01_01_2023.csv', index=False)"
   ]
  },
  {
   "cell_type": "code",
   "execution_count": 21,
   "id": "bfe2380d",
   "metadata": {},
   "outputs": [],
   "source": [
    "df_res_export[df_res_export['model_number']==37][::-1]\\\n",
    ".to_csv('properly_used_catering_set_ALL_01_01_2023.csv', index=False)"
   ]
  },
  {
   "cell_type": "code",
   "execution_count": 22,
   "id": "fa2471c5",
   "metadata": {},
   "outputs": [],
   "source": [
    "df_res_export[df_res_export['model_number']==38][::-1]\\\n",
    ".to_csv('properly_used_private_parties_set_ALL_01_01_2023.csv', index=False)"
   ]
  },
  {
   "cell_type": "code",
   "execution_count": 23,
   "id": "62a4eb6a",
   "metadata": {},
   "outputs": [],
   "source": [
    "df_res_export[df_res_export['model_number']==39][::-1]\\\n",
    ".to_csv('properly_used_job_listings_set_ALL_01_01_2023.csv', index=False)"
   ]
  },
  {
   "cell_type": "code",
   "execution_count": 24,
   "id": "f7912b45",
   "metadata": {},
   "outputs": [],
   "source": [
    "df_res_export[df_res_export['model_number']==40][::-1]\\\n",
    ".to_csv('properly_used_online_orders_set_ALL_01_01_2023.csv', index=False)"
   ]
  }
 ],
 "metadata": {
  "kernelspec": {
   "display_name": "Python 3 (ipykernel)",
   "language": "python",
   "name": "python3"
  },
  "language_info": {
   "codemirror_mode": {
    "name": "ipython",
    "version": 3
   },
   "file_extension": ".py",
   "mimetype": "text/x-python",
   "name": "python",
   "nbconvert_exporter": "python",
   "pygments_lexer": "ipython3",
   "version": "3.10.6"
  }
 },
 "nbformat": 4,
 "nbformat_minor": 5
}
